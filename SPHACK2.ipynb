{
  "nbformat": 4,
  "nbformat_minor": 0,
  "metadata": {
    "colab": {
      "provenance": [],
      "gpuType": "V28"
    },
    "kernelspec": {
      "name": "python3",
      "display_name": "Python 3"
    },
    "language_info": {
      "name": "python"
    },
    "accelerator": "TPU"
  },
  "cells": [
    {
      "cell_type": "code",
      "execution_count": 1,
      "metadata": {
        "colab": {
          "base_uri": "https://localhost:8080/"
        },
        "id": "daeSVtosrgwx",
        "outputId": "53fe94a4-708d-47b9-81c0-d8d370535220"
      },
      "outputs": [
        {
          "output_type": "stream",
          "name": "stdout",
          "text": [
            "Requirement already satisfied: kagglehub in /usr/local/lib/python3.11/dist-packages (0.3.10)\n",
            "Requirement already satisfied: packaging in /usr/local/lib/python3.11/dist-packages (from kagglehub) (24.2)\n",
            "Requirement already satisfied: pyyaml in /usr/local/lib/python3.11/dist-packages (from kagglehub) (6.0.2)\n",
            "Requirement already satisfied: requests in /usr/local/lib/python3.11/dist-packages (from kagglehub) (2.32.3)\n",
            "Requirement already satisfied: tqdm in /usr/local/lib/python3.11/dist-packages (from kagglehub) (4.67.1)\n",
            "Requirement already satisfied: charset-normalizer<4,>=2 in /usr/local/lib/python3.11/dist-packages (from requests->kagglehub) (3.4.1)\n",
            "Requirement already satisfied: idna<4,>=2.5 in /usr/local/lib/python3.11/dist-packages (from requests->kagglehub) (3.10)\n",
            "Requirement already satisfied: urllib3<3,>=1.21.1 in /usr/local/lib/python3.11/dist-packages (from requests->kagglehub) (2.3.0)\n",
            "Requirement already satisfied: certifi>=2017.4.17 in /usr/local/lib/python3.11/dist-packages (from requests->kagglehub) (2025.1.31)\n",
            "Warning: Looks like you're using an outdated `kagglehub` version (installed: 0.3.10), please consider upgrading to the latest version (0.3.11).\n",
            "Downloading from https://www.kaggle.com/api/v1/datasets/download/phhasian0710/seed-iv?dataset_version_number=1...\n"
          ]
        },
        {
          "output_type": "stream",
          "name": "stderr",
          "text": [
            "100%|██████████| 13.7G/13.7G [02:39<00:00, 92.3MB/s]"
          ]
        },
        {
          "output_type": "stream",
          "name": "stdout",
          "text": [
            "Extracting files...\n"
          ]
        },
        {
          "output_type": "stream",
          "name": "stderr",
          "text": [
            "\n"
          ]
        },
        {
          "output_type": "stream",
          "name": "stdout",
          "text": [
            "Path to dataset files: /root/.cache/kagglehub/datasets/phhasian0710/seed-iv/versions/1\n"
          ]
        }
      ],
      "source": [
        "!pip install kagglehub\n",
        "import kagglehub\n",
        "path = kagglehub.dataset_download(\"phhasian0710/seed-iv\")\n",
        "print(\"Path to dataset files:\", path)"
      ]
    },
    {
      "cell_type": "code",
      "source": [
        "import os\n",
        "for root, dirs, files in os.walk(path):\n",
        "    for dir in dirs:\n",
        "        print(os.path.join(root, dir))  # Print directories\n",
        "    for file in files:\n",
        "        print(os.path.join(root, file))  # Print files"
      ],
      "metadata": {
        "colab": {
          "base_uri": "https://localhost:8080/"
        },
        "id": "WFNwLiUBrkcv",
        "outputId": "bd81a763-b6d7-4694-9f1f-4c17220bd848"
      },
      "execution_count": 2,
      "outputs": [
        {
          "output_type": "stream",
          "name": "stdout",
          "text": [
            "/root/.cache/kagglehub/datasets/phhasian0710/seed-iv/versions/1/seed_iv\n",
            "/root/.cache/kagglehub/datasets/phhasian0710/seed-iv/versions/1/eeg_raw_data\n",
            "/root/.cache/kagglehub/datasets/phhasian0710/seed-iv/versions/1/eeg_feature_smooth\n",
            "/root/.cache/kagglehub/datasets/phhasian0710/seed-iv/versions/1/eye_feature_smooth\n",
            "/root/.cache/kagglehub/datasets/phhasian0710/seed-iv/versions/1/eye_raw_data\n",
            "/root/.cache/kagglehub/datasets/phhasian0710/seed-iv/versions/1/ReadMe.txt\n",
            "/root/.cache/kagglehub/datasets/phhasian0710/seed-iv/versions/1/Channel Order.xlsx\n",
            "/root/.cache/kagglehub/datasets/phhasian0710/seed-iv/versions/1/seed_iv/eeg_raw_data\n",
            "/root/.cache/kagglehub/datasets/phhasian0710/seed-iv/versions/1/seed_iv/eeg_feature_smooth\n",
            "/root/.cache/kagglehub/datasets/phhasian0710/seed-iv/versions/1/seed_iv/eye_feature_smooth\n",
            "/root/.cache/kagglehub/datasets/phhasian0710/seed-iv/versions/1/seed_iv/eye_raw_data\n",
            "/root/.cache/kagglehub/datasets/phhasian0710/seed-iv/versions/1/seed_iv/ReadMe.txt\n",
            "/root/.cache/kagglehub/datasets/phhasian0710/seed-iv/versions/1/seed_iv/Channel Order.xlsx\n",
            "/root/.cache/kagglehub/datasets/phhasian0710/seed-iv/versions/1/seed_iv/eeg_raw_data/2\n",
            "/root/.cache/kagglehub/datasets/phhasian0710/seed-iv/versions/1/seed_iv/eeg_raw_data/1\n",
            "/root/.cache/kagglehub/datasets/phhasian0710/seed-iv/versions/1/seed_iv/eeg_raw_data/3\n",
            "/root/.cache/kagglehub/datasets/phhasian0710/seed-iv/versions/1/seed_iv/eeg_raw_data/2/5_20160413.mat\n",
            "/root/.cache/kagglehub/datasets/phhasian0710/seed-iv/versions/1/seed_iv/eeg_raw_data/2/15_20150514.mat\n",
            "/root/.cache/kagglehub/datasets/phhasian0710/seed-iv/versions/1/seed_iv/eeg_raw_data/2/7_20150717.mat\n",
            "/root/.cache/kagglehub/datasets/phhasian0710/seed-iv/versions/1/seed_iv/eeg_raw_data/2/4_20151118.mat\n",
            "/root/.cache/kagglehub/datasets/phhasian0710/seed-iv/versions/1/seed_iv/eeg_raw_data/2/1_20161125.mat\n",
            "/root/.cache/kagglehub/datasets/phhasian0710/seed-iv/versions/1/seed_iv/eeg_raw_data/2/10_20151021.mat\n",
            "/root/.cache/kagglehub/datasets/phhasian0710/seed-iv/versions/1/seed_iv/eeg_raw_data/2/8_20151110.mat\n",
            "/root/.cache/kagglehub/datasets/phhasian0710/seed-iv/versions/1/seed_iv/eeg_raw_data/2/9_20151119.mat\n",
            "/root/.cache/kagglehub/datasets/phhasian0710/seed-iv/versions/1/seed_iv/eeg_raw_data/2/6_20150511.mat\n",
            "/root/.cache/kagglehub/datasets/phhasian0710/seed-iv/versions/1/seed_iv/eeg_raw_data/2/12_20150804.mat\n",
            "/root/.cache/kagglehub/datasets/phhasian0710/seed-iv/versions/1/seed_iv/eeg_raw_data/2/14_20151208.mat\n",
            "/root/.cache/kagglehub/datasets/phhasian0710/seed-iv/versions/1/seed_iv/eeg_raw_data/2/2_20150920.mat\n",
            "/root/.cache/kagglehub/datasets/phhasian0710/seed-iv/versions/1/seed_iv/eeg_raw_data/2/3_20151018.mat\n",
            "/root/.cache/kagglehub/datasets/phhasian0710/seed-iv/versions/1/seed_iv/eeg_raw_data/2/11_20150921.mat\n",
            "/root/.cache/kagglehub/datasets/phhasian0710/seed-iv/versions/1/seed_iv/eeg_raw_data/2/13_20151125.mat\n",
            "/root/.cache/kagglehub/datasets/phhasian0710/seed-iv/versions/1/seed_iv/eeg_raw_data/1/8_20151103.mat\n",
            "/root/.cache/kagglehub/datasets/phhasian0710/seed-iv/versions/1/seed_iv/eeg_raw_data/1/4_20151111.mat\n",
            "/root/.cache/kagglehub/datasets/phhasian0710/seed-iv/versions/1/seed_iv/eeg_raw_data/1/13_20151115.mat\n",
            "/root/.cache/kagglehub/datasets/phhasian0710/seed-iv/versions/1/seed_iv/eeg_raw_data/1/6_20150507.mat\n",
            "/root/.cache/kagglehub/datasets/phhasian0710/seed-iv/versions/1/seed_iv/eeg_raw_data/1/10_20151014.mat\n",
            "/root/.cache/kagglehub/datasets/phhasian0710/seed-iv/versions/1/seed_iv/eeg_raw_data/1/9_20151028.mat\n",
            "/root/.cache/kagglehub/datasets/phhasian0710/seed-iv/versions/1/seed_iv/eeg_raw_data/1/1_20160518.mat\n",
            "/root/.cache/kagglehub/datasets/phhasian0710/seed-iv/versions/1/seed_iv/eeg_raw_data/1/3_20150919.mat\n",
            "/root/.cache/kagglehub/datasets/phhasian0710/seed-iv/versions/1/seed_iv/eeg_raw_data/1/15_20150508.mat\n",
            "/root/.cache/kagglehub/datasets/phhasian0710/seed-iv/versions/1/seed_iv/eeg_raw_data/1/5_20160406.mat\n",
            "/root/.cache/kagglehub/datasets/phhasian0710/seed-iv/versions/1/seed_iv/eeg_raw_data/1/7_20150715.mat\n",
            "/root/.cache/kagglehub/datasets/phhasian0710/seed-iv/versions/1/seed_iv/eeg_raw_data/1/11_20150916.mat\n",
            "/root/.cache/kagglehub/datasets/phhasian0710/seed-iv/versions/1/seed_iv/eeg_raw_data/1/12_20150725.mat\n",
            "/root/.cache/kagglehub/datasets/phhasian0710/seed-iv/versions/1/seed_iv/eeg_raw_data/1/2_20150915.mat\n",
            "/root/.cache/kagglehub/datasets/phhasian0710/seed-iv/versions/1/seed_iv/eeg_raw_data/1/14_20151205.mat\n",
            "/root/.cache/kagglehub/datasets/phhasian0710/seed-iv/versions/1/seed_iv/eeg_raw_data/3/15_20150527.mat\n",
            "/root/.cache/kagglehub/datasets/phhasian0710/seed-iv/versions/1/seed_iv/eeg_raw_data/3/7_20150721.mat\n",
            "/root/.cache/kagglehub/datasets/phhasian0710/seed-iv/versions/1/seed_iv/eeg_raw_data/3/10_20151023.mat\n",
            "/root/.cache/kagglehub/datasets/phhasian0710/seed-iv/versions/1/seed_iv/eeg_raw_data/3/6_20150512.mat\n",
            "/root/.cache/kagglehub/datasets/phhasian0710/seed-iv/versions/1/seed_iv/eeg_raw_data/3/9_20151209.mat\n",
            "/root/.cache/kagglehub/datasets/phhasian0710/seed-iv/versions/1/seed_iv/eeg_raw_data/3/2_20151012.mat\n",
            "/root/.cache/kagglehub/datasets/phhasian0710/seed-iv/versions/1/seed_iv/eeg_raw_data/3/4_20151123.mat\n",
            "/root/.cache/kagglehub/datasets/phhasian0710/seed-iv/versions/1/seed_iv/eeg_raw_data/3/3_20151101.mat\n",
            "/root/.cache/kagglehub/datasets/phhasian0710/seed-iv/versions/1/seed_iv/eeg_raw_data/3/13_20161130.mat\n",
            "/root/.cache/kagglehub/datasets/phhasian0710/seed-iv/versions/1/seed_iv/eeg_raw_data/3/11_20151011.mat\n",
            "/root/.cache/kagglehub/datasets/phhasian0710/seed-iv/versions/1/seed_iv/eeg_raw_data/3/1_20161126.mat\n",
            "/root/.cache/kagglehub/datasets/phhasian0710/seed-iv/versions/1/seed_iv/eeg_raw_data/3/12_20150807.mat\n",
            "/root/.cache/kagglehub/datasets/phhasian0710/seed-iv/versions/1/seed_iv/eeg_raw_data/3/14_20151215.mat\n",
            "/root/.cache/kagglehub/datasets/phhasian0710/seed-iv/versions/1/seed_iv/eeg_raw_data/3/5_20160420.mat\n",
            "/root/.cache/kagglehub/datasets/phhasian0710/seed-iv/versions/1/seed_iv/eeg_raw_data/3/8_20151117.mat\n",
            "/root/.cache/kagglehub/datasets/phhasian0710/seed-iv/versions/1/seed_iv/eeg_feature_smooth/2\n",
            "/root/.cache/kagglehub/datasets/phhasian0710/seed-iv/versions/1/seed_iv/eeg_feature_smooth/1\n",
            "/root/.cache/kagglehub/datasets/phhasian0710/seed-iv/versions/1/seed_iv/eeg_feature_smooth/3\n",
            "/root/.cache/kagglehub/datasets/phhasian0710/seed-iv/versions/1/seed_iv/eeg_feature_smooth/2/5_20160413.mat\n",
            "/root/.cache/kagglehub/datasets/phhasian0710/seed-iv/versions/1/seed_iv/eeg_feature_smooth/2/15_20150514.mat\n",
            "/root/.cache/kagglehub/datasets/phhasian0710/seed-iv/versions/1/seed_iv/eeg_feature_smooth/2/7_20150717.mat\n",
            "/root/.cache/kagglehub/datasets/phhasian0710/seed-iv/versions/1/seed_iv/eeg_feature_smooth/2/4_20151118.mat\n",
            "/root/.cache/kagglehub/datasets/phhasian0710/seed-iv/versions/1/seed_iv/eeg_feature_smooth/2/1_20161125.mat\n",
            "/root/.cache/kagglehub/datasets/phhasian0710/seed-iv/versions/1/seed_iv/eeg_feature_smooth/2/10_20151021.mat\n",
            "/root/.cache/kagglehub/datasets/phhasian0710/seed-iv/versions/1/seed_iv/eeg_feature_smooth/2/8_20151110.mat\n",
            "/root/.cache/kagglehub/datasets/phhasian0710/seed-iv/versions/1/seed_iv/eeg_feature_smooth/2/9_20151119.mat\n",
            "/root/.cache/kagglehub/datasets/phhasian0710/seed-iv/versions/1/seed_iv/eeg_feature_smooth/2/6_20150511.mat\n",
            "/root/.cache/kagglehub/datasets/phhasian0710/seed-iv/versions/1/seed_iv/eeg_feature_smooth/2/12_20150804.mat\n",
            "/root/.cache/kagglehub/datasets/phhasian0710/seed-iv/versions/1/seed_iv/eeg_feature_smooth/2/14_20151208.mat\n",
            "/root/.cache/kagglehub/datasets/phhasian0710/seed-iv/versions/1/seed_iv/eeg_feature_smooth/2/2_20150920.mat\n",
            "/root/.cache/kagglehub/datasets/phhasian0710/seed-iv/versions/1/seed_iv/eeg_feature_smooth/2/3_20151018.mat\n",
            "/root/.cache/kagglehub/datasets/phhasian0710/seed-iv/versions/1/seed_iv/eeg_feature_smooth/2/11_20150921.mat\n",
            "/root/.cache/kagglehub/datasets/phhasian0710/seed-iv/versions/1/seed_iv/eeg_feature_smooth/2/13_20151125.mat\n",
            "/root/.cache/kagglehub/datasets/phhasian0710/seed-iv/versions/1/seed_iv/eeg_feature_smooth/1/8_20151103.mat\n",
            "/root/.cache/kagglehub/datasets/phhasian0710/seed-iv/versions/1/seed_iv/eeg_feature_smooth/1/4_20151111.mat\n",
            "/root/.cache/kagglehub/datasets/phhasian0710/seed-iv/versions/1/seed_iv/eeg_feature_smooth/1/13_20151115.mat\n",
            "/root/.cache/kagglehub/datasets/phhasian0710/seed-iv/versions/1/seed_iv/eeg_feature_smooth/1/6_20150507.mat\n",
            "/root/.cache/kagglehub/datasets/phhasian0710/seed-iv/versions/1/seed_iv/eeg_feature_smooth/1/10_20151014.mat\n",
            "/root/.cache/kagglehub/datasets/phhasian0710/seed-iv/versions/1/seed_iv/eeg_feature_smooth/1/9_20151028.mat\n",
            "/root/.cache/kagglehub/datasets/phhasian0710/seed-iv/versions/1/seed_iv/eeg_feature_smooth/1/1_20160518.mat\n",
            "/root/.cache/kagglehub/datasets/phhasian0710/seed-iv/versions/1/seed_iv/eeg_feature_smooth/1/3_20150919.mat\n",
            "/root/.cache/kagglehub/datasets/phhasian0710/seed-iv/versions/1/seed_iv/eeg_feature_smooth/1/15_20150508.mat\n",
            "/root/.cache/kagglehub/datasets/phhasian0710/seed-iv/versions/1/seed_iv/eeg_feature_smooth/1/5_20160406.mat\n",
            "/root/.cache/kagglehub/datasets/phhasian0710/seed-iv/versions/1/seed_iv/eeg_feature_smooth/1/7_20150715.mat\n",
            "/root/.cache/kagglehub/datasets/phhasian0710/seed-iv/versions/1/seed_iv/eeg_feature_smooth/1/11_20150916.mat\n",
            "/root/.cache/kagglehub/datasets/phhasian0710/seed-iv/versions/1/seed_iv/eeg_feature_smooth/1/12_20150725.mat\n",
            "/root/.cache/kagglehub/datasets/phhasian0710/seed-iv/versions/1/seed_iv/eeg_feature_smooth/1/2_20150915.mat\n",
            "/root/.cache/kagglehub/datasets/phhasian0710/seed-iv/versions/1/seed_iv/eeg_feature_smooth/1/14_20151205.mat\n",
            "/root/.cache/kagglehub/datasets/phhasian0710/seed-iv/versions/1/seed_iv/eeg_feature_smooth/3/15_20150527.mat\n",
            "/root/.cache/kagglehub/datasets/phhasian0710/seed-iv/versions/1/seed_iv/eeg_feature_smooth/3/7_20150721.mat\n",
            "/root/.cache/kagglehub/datasets/phhasian0710/seed-iv/versions/1/seed_iv/eeg_feature_smooth/3/10_20151023.mat\n",
            "/root/.cache/kagglehub/datasets/phhasian0710/seed-iv/versions/1/seed_iv/eeg_feature_smooth/3/6_20150512.mat\n",
            "/root/.cache/kagglehub/datasets/phhasian0710/seed-iv/versions/1/seed_iv/eeg_feature_smooth/3/9_20151209.mat\n",
            "/root/.cache/kagglehub/datasets/phhasian0710/seed-iv/versions/1/seed_iv/eeg_feature_smooth/3/2_20151012.mat\n",
            "/root/.cache/kagglehub/datasets/phhasian0710/seed-iv/versions/1/seed_iv/eeg_feature_smooth/3/4_20151123.mat\n",
            "/root/.cache/kagglehub/datasets/phhasian0710/seed-iv/versions/1/seed_iv/eeg_feature_smooth/3/3_20151101.mat\n",
            "/root/.cache/kagglehub/datasets/phhasian0710/seed-iv/versions/1/seed_iv/eeg_feature_smooth/3/13_20161130.mat\n",
            "/root/.cache/kagglehub/datasets/phhasian0710/seed-iv/versions/1/seed_iv/eeg_feature_smooth/3/11_20151011.mat\n",
            "/root/.cache/kagglehub/datasets/phhasian0710/seed-iv/versions/1/seed_iv/eeg_feature_smooth/3/1_20161126.mat\n",
            "/root/.cache/kagglehub/datasets/phhasian0710/seed-iv/versions/1/seed_iv/eeg_feature_smooth/3/12_20150807.mat\n",
            "/root/.cache/kagglehub/datasets/phhasian0710/seed-iv/versions/1/seed_iv/eeg_feature_smooth/3/14_20151215.mat\n",
            "/root/.cache/kagglehub/datasets/phhasian0710/seed-iv/versions/1/seed_iv/eeg_feature_smooth/3/5_20160420.mat\n",
            "/root/.cache/kagglehub/datasets/phhasian0710/seed-iv/versions/1/seed_iv/eeg_feature_smooth/3/8_20151117.mat\n",
            "/root/.cache/kagglehub/datasets/phhasian0710/seed-iv/versions/1/seed_iv/eye_feature_smooth/2\n",
            "/root/.cache/kagglehub/datasets/phhasian0710/seed-iv/versions/1/seed_iv/eye_feature_smooth/1\n",
            "/root/.cache/kagglehub/datasets/phhasian0710/seed-iv/versions/1/seed_iv/eye_feature_smooth/3\n",
            "/root/.cache/kagglehub/datasets/phhasian0710/seed-iv/versions/1/seed_iv/eye_feature_smooth/2/5_20160413.mat\n",
            "/root/.cache/kagglehub/datasets/phhasian0710/seed-iv/versions/1/seed_iv/eye_feature_smooth/2/15_20150514.mat\n",
            "/root/.cache/kagglehub/datasets/phhasian0710/seed-iv/versions/1/seed_iv/eye_feature_smooth/2/7_20150717.mat\n",
            "/root/.cache/kagglehub/datasets/phhasian0710/seed-iv/versions/1/seed_iv/eye_feature_smooth/2/4_20151118.mat\n",
            "/root/.cache/kagglehub/datasets/phhasian0710/seed-iv/versions/1/seed_iv/eye_feature_smooth/2/1_20161125.mat\n",
            "/root/.cache/kagglehub/datasets/phhasian0710/seed-iv/versions/1/seed_iv/eye_feature_smooth/2/10_20151021.mat\n",
            "/root/.cache/kagglehub/datasets/phhasian0710/seed-iv/versions/1/seed_iv/eye_feature_smooth/2/8_20151110.mat\n",
            "/root/.cache/kagglehub/datasets/phhasian0710/seed-iv/versions/1/seed_iv/eye_feature_smooth/2/9_20151119.mat\n",
            "/root/.cache/kagglehub/datasets/phhasian0710/seed-iv/versions/1/seed_iv/eye_feature_smooth/2/6_20150511.mat\n",
            "/root/.cache/kagglehub/datasets/phhasian0710/seed-iv/versions/1/seed_iv/eye_feature_smooth/2/12_20150804.mat\n",
            "/root/.cache/kagglehub/datasets/phhasian0710/seed-iv/versions/1/seed_iv/eye_feature_smooth/2/14_20151208.mat\n",
            "/root/.cache/kagglehub/datasets/phhasian0710/seed-iv/versions/1/seed_iv/eye_feature_smooth/2/2_20150920.mat\n",
            "/root/.cache/kagglehub/datasets/phhasian0710/seed-iv/versions/1/seed_iv/eye_feature_smooth/2/3_20151018.mat\n",
            "/root/.cache/kagglehub/datasets/phhasian0710/seed-iv/versions/1/seed_iv/eye_feature_smooth/2/11_20150921.mat\n",
            "/root/.cache/kagglehub/datasets/phhasian0710/seed-iv/versions/1/seed_iv/eye_feature_smooth/2/13_20151125.mat\n",
            "/root/.cache/kagglehub/datasets/phhasian0710/seed-iv/versions/1/seed_iv/eye_feature_smooth/1/8_20151103.mat\n",
            "/root/.cache/kagglehub/datasets/phhasian0710/seed-iv/versions/1/seed_iv/eye_feature_smooth/1/4_20151111.mat\n",
            "/root/.cache/kagglehub/datasets/phhasian0710/seed-iv/versions/1/seed_iv/eye_feature_smooth/1/13_20151115.mat\n",
            "/root/.cache/kagglehub/datasets/phhasian0710/seed-iv/versions/1/seed_iv/eye_feature_smooth/1/6_20150507.mat\n",
            "/root/.cache/kagglehub/datasets/phhasian0710/seed-iv/versions/1/seed_iv/eye_feature_smooth/1/10_20151014.mat\n",
            "/root/.cache/kagglehub/datasets/phhasian0710/seed-iv/versions/1/seed_iv/eye_feature_smooth/1/9_20151028.mat\n",
            "/root/.cache/kagglehub/datasets/phhasian0710/seed-iv/versions/1/seed_iv/eye_feature_smooth/1/1_20160518.mat\n",
            "/root/.cache/kagglehub/datasets/phhasian0710/seed-iv/versions/1/seed_iv/eye_feature_smooth/1/3_20150919.mat\n",
            "/root/.cache/kagglehub/datasets/phhasian0710/seed-iv/versions/1/seed_iv/eye_feature_smooth/1/15_20150508.mat\n",
            "/root/.cache/kagglehub/datasets/phhasian0710/seed-iv/versions/1/seed_iv/eye_feature_smooth/1/5_20160406.mat\n",
            "/root/.cache/kagglehub/datasets/phhasian0710/seed-iv/versions/1/seed_iv/eye_feature_smooth/1/7_20150715.mat\n",
            "/root/.cache/kagglehub/datasets/phhasian0710/seed-iv/versions/1/seed_iv/eye_feature_smooth/1/11_20150916.mat\n",
            "/root/.cache/kagglehub/datasets/phhasian0710/seed-iv/versions/1/seed_iv/eye_feature_smooth/1/12_20150725.mat\n",
            "/root/.cache/kagglehub/datasets/phhasian0710/seed-iv/versions/1/seed_iv/eye_feature_smooth/1/2_20150915.mat\n",
            "/root/.cache/kagglehub/datasets/phhasian0710/seed-iv/versions/1/seed_iv/eye_feature_smooth/1/14_20151205.mat\n",
            "/root/.cache/kagglehub/datasets/phhasian0710/seed-iv/versions/1/seed_iv/eye_feature_smooth/3/15_20150527.mat\n",
            "/root/.cache/kagglehub/datasets/phhasian0710/seed-iv/versions/1/seed_iv/eye_feature_smooth/3/7_20150721.mat\n",
            "/root/.cache/kagglehub/datasets/phhasian0710/seed-iv/versions/1/seed_iv/eye_feature_smooth/3/10_20151023.mat\n",
            "/root/.cache/kagglehub/datasets/phhasian0710/seed-iv/versions/1/seed_iv/eye_feature_smooth/3/6_20150512.mat\n",
            "/root/.cache/kagglehub/datasets/phhasian0710/seed-iv/versions/1/seed_iv/eye_feature_smooth/3/9_20151209.mat\n",
            "/root/.cache/kagglehub/datasets/phhasian0710/seed-iv/versions/1/seed_iv/eye_feature_smooth/3/2_20151012.mat\n",
            "/root/.cache/kagglehub/datasets/phhasian0710/seed-iv/versions/1/seed_iv/eye_feature_smooth/3/4_20151123.mat\n",
            "/root/.cache/kagglehub/datasets/phhasian0710/seed-iv/versions/1/seed_iv/eye_feature_smooth/3/3_20151101.mat\n",
            "/root/.cache/kagglehub/datasets/phhasian0710/seed-iv/versions/1/seed_iv/eye_feature_smooth/3/13_20161130.mat\n",
            "/root/.cache/kagglehub/datasets/phhasian0710/seed-iv/versions/1/seed_iv/eye_feature_smooth/3/11_20151011.mat\n",
            "/root/.cache/kagglehub/datasets/phhasian0710/seed-iv/versions/1/seed_iv/eye_feature_smooth/3/1_20161126.mat\n",
            "/root/.cache/kagglehub/datasets/phhasian0710/seed-iv/versions/1/seed_iv/eye_feature_smooth/3/12_20150807.mat\n",
            "/root/.cache/kagglehub/datasets/phhasian0710/seed-iv/versions/1/seed_iv/eye_feature_smooth/3/14_20151215.mat\n",
            "/root/.cache/kagglehub/datasets/phhasian0710/seed-iv/versions/1/seed_iv/eye_feature_smooth/3/5_20160420.mat\n",
            "/root/.cache/kagglehub/datasets/phhasian0710/seed-iv/versions/1/seed_iv/eye_feature_smooth/3/8_20151117.mat\n",
            "/root/.cache/kagglehub/datasets/phhasian0710/seed-iv/versions/1/seed_iv/eye_raw_data/15_20150508_fixation.mat\n",
            "/root/.cache/kagglehub/datasets/phhasian0710/seed-iv/versions/1/seed_iv/eye_raw_data/11_20150921_blink.mat\n",
            "/root/.cache/kagglehub/datasets/phhasian0710/seed-iv/versions/1/seed_iv/eye_raw_data/10_20151014_PD.mat\n",
            "/root/.cache/kagglehub/datasets/phhasian0710/seed-iv/versions/1/seed_iv/eye_raw_data/4_20151118_pupil.mat\n",
            "/root/.cache/kagglehub/datasets/phhasian0710/seed-iv/versions/1/seed_iv/eye_raw_data/5_20160420_fixation.mat\n",
            "/root/.cache/kagglehub/datasets/phhasian0710/seed-iv/versions/1/seed_iv/eye_raw_data/5_20160406_PD.mat\n",
            "/root/.cache/kagglehub/datasets/phhasian0710/seed-iv/versions/1/seed_iv/eye_raw_data/1_20161125_saccade.mat\n",
            "/root/.cache/kagglehub/datasets/phhasian0710/seed-iv/versions/1/seed_iv/eye_raw_data/14_20151215_pupil.mat\n",
            "/root/.cache/kagglehub/datasets/phhasian0710/seed-iv/versions/1/seed_iv/eye_raw_data/6_20150507_PD.mat\n",
            "/root/.cache/kagglehub/datasets/phhasian0710/seed-iv/versions/1/seed_iv/eye_raw_data/9_20151119_event.mat\n",
            "/root/.cache/kagglehub/datasets/phhasian0710/seed-iv/versions/1/seed_iv/eye_raw_data/2_20150915_fixation.mat\n",
            "/root/.cache/kagglehub/datasets/phhasian0710/seed-iv/versions/1/seed_iv/eye_raw_data/2_20150920_pupil.mat\n",
            "/root/.cache/kagglehub/datasets/phhasian0710/seed-iv/versions/1/seed_iv/eye_raw_data/1_20161125_blink.mat\n",
            "/root/.cache/kagglehub/datasets/phhasian0710/seed-iv/versions/1/seed_iv/eye_raw_data/9_20151028_pupil.mat\n",
            "/root/.cache/kagglehub/datasets/phhasian0710/seed-iv/versions/1/seed_iv/eye_raw_data/13_20151115_blink.mat\n",
            "/root/.cache/kagglehub/datasets/phhasian0710/seed-iv/versions/1/seed_iv/eye_raw_data/13_20161130_pupil.mat\n",
            "/root/.cache/kagglehub/datasets/phhasian0710/seed-iv/versions/1/seed_iv/eye_raw_data/4_20151123_fixation.mat\n",
            "/root/.cache/kagglehub/datasets/phhasian0710/seed-iv/versions/1/seed_iv/eye_raw_data/12_20150804_saccade.mat\n",
            "/root/.cache/kagglehub/datasets/phhasian0710/seed-iv/versions/1/seed_iv/eye_raw_data/15_20150508_PD.mat\n",
            "/root/.cache/kagglehub/datasets/phhasian0710/seed-iv/versions/1/seed_iv/eye_raw_data/9_20151209_fixation.mat\n",
            "/root/.cache/kagglehub/datasets/phhasian0710/seed-iv/versions/1/seed_iv/eye_raw_data/15_20150527_fixation.mat\n",
            "/root/.cache/kagglehub/datasets/phhasian0710/seed-iv/versions/1/seed_iv/eye_raw_data/8_20151103_blink.mat\n",
            "/root/.cache/kagglehub/datasets/phhasian0710/seed-iv/versions/1/seed_iv/eye_raw_data/5_20160413_fixation.mat\n",
            "/root/.cache/kagglehub/datasets/phhasian0710/seed-iv/versions/1/seed_iv/eye_raw_data/7_20150715_pupil.mat\n",
            "/root/.cache/kagglehub/datasets/phhasian0710/seed-iv/versions/1/seed_iv/eye_raw_data/15_20150527_saccade.mat\n",
            "/root/.cache/kagglehub/datasets/phhasian0710/seed-iv/versions/1/seed_iv/eye_raw_data/12_20150725_PD.mat\n",
            "/root/.cache/kagglehub/datasets/phhasian0710/seed-iv/versions/1/seed_iv/eye_raw_data/14_20151205_PD.mat\n",
            "/root/.cache/kagglehub/datasets/phhasian0710/seed-iv/versions/1/seed_iv/eye_raw_data/6_20150512_fixation.mat\n",
            "/root/.cache/kagglehub/datasets/phhasian0710/seed-iv/versions/1/seed_iv/eye_raw_data/11_20150921_saccade.mat\n",
            "/root/.cache/kagglehub/datasets/phhasian0710/seed-iv/versions/1/seed_iv/eye_raw_data/14_20151215_fixation.mat\n",
            "/root/.cache/kagglehub/datasets/phhasian0710/seed-iv/versions/1/seed_iv/eye_raw_data/1_20161125_pupil.mat\n",
            "/root/.cache/kagglehub/datasets/phhasian0710/seed-iv/versions/1/seed_iv/eye_raw_data/6_20150512_saccade.mat\n",
            "/root/.cache/kagglehub/datasets/phhasian0710/seed-iv/versions/1/seed_iv/eye_raw_data/11_20150916_blink.mat\n",
            "/root/.cache/kagglehub/datasets/phhasian0710/seed-iv/versions/1/seed_iv/eye_raw_data/9_20151028_event.mat\n",
            "/root/.cache/kagglehub/datasets/phhasian0710/seed-iv/versions/1/seed_iv/eye_raw_data/6_20150512_blink.mat\n",
            "/root/.cache/kagglehub/datasets/phhasian0710/seed-iv/versions/1/seed_iv/eye_raw_data/1_20161126_pupil.mat\n",
            "/root/.cache/kagglehub/datasets/phhasian0710/seed-iv/versions/1/seed_iv/eye_raw_data/6_20150511_event.mat\n",
            "/root/.cache/kagglehub/datasets/phhasian0710/seed-iv/versions/1/seed_iv/eye_raw_data/8_20151110_fixation.mat\n",
            "/root/.cache/kagglehub/datasets/phhasian0710/seed-iv/versions/1/seed_iv/eye_raw_data/2_20151012_PD.mat\n",
            "/root/.cache/kagglehub/datasets/phhasian0710/seed-iv/versions/1/seed_iv/eye_raw_data/3_20150919_pupil.mat\n",
            "/root/.cache/kagglehub/datasets/phhasian0710/seed-iv/versions/1/seed_iv/eye_raw_data/13_20151125_blink.mat\n",
            "/root/.cache/kagglehub/datasets/phhasian0710/seed-iv/versions/1/seed_iv/eye_raw_data/10_20151023_blink.mat\n",
            "/root/.cache/kagglehub/datasets/phhasian0710/seed-iv/versions/1/seed_iv/eye_raw_data/9_20151028_blink.mat\n",
            "/root/.cache/kagglehub/datasets/phhasian0710/seed-iv/versions/1/seed_iv/eye_raw_data/7_20150715_event.mat\n",
            "/root/.cache/kagglehub/datasets/phhasian0710/seed-iv/versions/1/seed_iv/eye_raw_data/2_20150920_blink.mat\n",
            "/root/.cache/kagglehub/datasets/phhasian0710/seed-iv/versions/1/seed_iv/eye_raw_data/9_20151209_pupil.mat\n",
            "/root/.cache/kagglehub/datasets/phhasian0710/seed-iv/versions/1/seed_iv/eye_raw_data/10_20151023_event.mat\n",
            "/root/.cache/kagglehub/datasets/phhasian0710/seed-iv/versions/1/seed_iv/eye_raw_data/1_20161126_saccade.mat\n",
            "/root/.cache/kagglehub/datasets/phhasian0710/seed-iv/versions/1/seed_iv/eye_raw_data/15_20150508_blink.mat\n",
            "/root/.cache/kagglehub/datasets/phhasian0710/seed-iv/versions/1/seed_iv/eye_raw_data/4_20151111_PD.mat\n",
            "/root/.cache/kagglehub/datasets/phhasian0710/seed-iv/versions/1/seed_iv/eye_raw_data/8_20151103_pupil.mat\n",
            "/root/.cache/kagglehub/datasets/phhasian0710/seed-iv/versions/1/seed_iv/eye_raw_data/2_20150920_saccade.mat\n",
            "/root/.cache/kagglehub/datasets/phhasian0710/seed-iv/versions/1/seed_iv/eye_raw_data/6_20150511_saccade.mat\n",
            "/root/.cache/kagglehub/datasets/phhasian0710/seed-iv/versions/1/seed_iv/eye_raw_data/4_20151118_event.mat\n",
            "/root/.cache/kagglehub/datasets/phhasian0710/seed-iv/versions/1/seed_iv/eye_raw_data/8_20151103_saccade.mat\n",
            "/root/.cache/kagglehub/datasets/phhasian0710/seed-iv/versions/1/seed_iv/eye_raw_data/8_20151110_event.mat\n",
            "/root/.cache/kagglehub/datasets/phhasian0710/seed-iv/versions/1/seed_iv/eye_raw_data/13_20151125_event.mat\n",
            "/root/.cache/kagglehub/datasets/phhasian0710/seed-iv/versions/1/seed_iv/eye_raw_data/8_20151110_pupil.mat\n",
            "/root/.cache/kagglehub/datasets/phhasian0710/seed-iv/versions/1/seed_iv/eye_raw_data/12_20150804_blink.mat\n",
            "/root/.cache/kagglehub/datasets/phhasian0710/seed-iv/versions/1/seed_iv/eye_raw_data/10_20151021_saccade.mat\n",
            "/root/.cache/kagglehub/datasets/phhasian0710/seed-iv/versions/1/seed_iv/eye_raw_data/12_20150807_pupil.mat\n",
            "/root/.cache/kagglehub/datasets/phhasian0710/seed-iv/versions/1/seed_iv/eye_raw_data/4_20151111_pupil.mat\n",
            "/root/.cache/kagglehub/datasets/phhasian0710/seed-iv/versions/1/seed_iv/eye_raw_data/11_20150921_PD.mat\n",
            "/root/.cache/kagglehub/datasets/phhasian0710/seed-iv/versions/1/seed_iv/eye_raw_data/2_20151012_blink.mat\n",
            "/root/.cache/kagglehub/datasets/phhasian0710/seed-iv/versions/1/seed_iv/eye_raw_data/13_20151115_event.mat\n",
            "/root/.cache/kagglehub/datasets/phhasian0710/seed-iv/versions/1/seed_iv/eye_raw_data/9_20151119_saccade.mat\n",
            "/root/.cache/kagglehub/datasets/phhasian0710/seed-iv/versions/1/seed_iv/eye_raw_data/15_20150514_fixation.mat\n",
            "/root/.cache/kagglehub/datasets/phhasian0710/seed-iv/versions/1/seed_iv/eye_raw_data/10_20151023_PD.mat\n",
            "/root/.cache/kagglehub/datasets/phhasian0710/seed-iv/versions/1/seed_iv/eye_raw_data/2_20150920_fixation.mat\n",
            "/root/.cache/kagglehub/datasets/phhasian0710/seed-iv/versions/1/seed_iv/eye_raw_data/7_20150715_blink.mat\n",
            "/root/.cache/kagglehub/datasets/phhasian0710/seed-iv/versions/1/seed_iv/eye_raw_data/2_20150915_event.mat\n",
            "/root/.cache/kagglehub/datasets/phhasian0710/seed-iv/versions/1/seed_iv/eye_raw_data/10_20151021_event.mat\n",
            "/root/.cache/kagglehub/datasets/phhasian0710/seed-iv/versions/1/seed_iv/eye_raw_data/9_20151119_fixation.mat\n",
            "/root/.cache/kagglehub/datasets/phhasian0710/seed-iv/versions/1/seed_iv/eye_raw_data/3_20151018_PD.mat\n",
            "/root/.cache/kagglehub/datasets/phhasian0710/seed-iv/versions/1/seed_iv/eye_raw_data/14_20151215_blink.mat\n",
            "/root/.cache/kagglehub/datasets/phhasian0710/seed-iv/versions/1/seed_iv/eye_raw_data/5_20160420_blink.mat\n",
            "/root/.cache/kagglehub/datasets/phhasian0710/seed-iv/versions/1/seed_iv/eye_raw_data/12_20150804_event.mat\n",
            "/root/.cache/kagglehub/datasets/phhasian0710/seed-iv/versions/1/seed_iv/eye_raw_data/3_20151101_saccade.mat\n",
            "/root/.cache/kagglehub/datasets/phhasian0710/seed-iv/versions/1/seed_iv/eye_raw_data/5_20160413_PD.mat\n",
            "/root/.cache/kagglehub/datasets/phhasian0710/seed-iv/versions/1/seed_iv/eye_raw_data/13_20151115_saccade.mat\n",
            "/root/.cache/kagglehub/datasets/phhasian0710/seed-iv/versions/1/seed_iv/eye_raw_data/14_20151215_saccade.mat\n",
            "/root/.cache/kagglehub/datasets/phhasian0710/seed-iv/versions/1/seed_iv/eye_raw_data/6_20150507_saccade.mat\n",
            "/root/.cache/kagglehub/datasets/phhasian0710/seed-iv/versions/1/seed_iv/eye_raw_data/7_20150717_fixation.mat\n",
            "/root/.cache/kagglehub/datasets/phhasian0710/seed-iv/versions/1/seed_iv/eye_raw_data/1_20161125_event.mat\n",
            "/root/.cache/kagglehub/datasets/phhasian0710/seed-iv/versions/1/seed_iv/eye_raw_data/2_20150920_event.mat\n",
            "/root/.cache/kagglehub/datasets/phhasian0710/seed-iv/versions/1/seed_iv/eye_raw_data/14_20151215_PD.mat\n",
            "/root/.cache/kagglehub/datasets/phhasian0710/seed-iv/versions/1/seed_iv/eye_raw_data/14_20151208_blink.mat\n",
            "/root/.cache/kagglehub/datasets/phhasian0710/seed-iv/versions/1/seed_iv/eye_raw_data/13_20151125_fixation.mat\n",
            "/root/.cache/kagglehub/datasets/phhasian0710/seed-iv/versions/1/seed_iv/eye_raw_data/12_20150725_event.mat\n",
            "/root/.cache/kagglehub/datasets/phhasian0710/seed-iv/versions/1/seed_iv/eye_raw_data/12_20150807_blink.mat\n",
            "/root/.cache/kagglehub/datasets/phhasian0710/seed-iv/versions/1/seed_iv/eye_raw_data/2_20151012_pupil.mat\n",
            "/root/.cache/kagglehub/datasets/phhasian0710/seed-iv/versions/1/seed_iv/eye_raw_data/15_20150508_event.mat\n",
            "/root/.cache/kagglehub/datasets/phhasian0710/seed-iv/versions/1/seed_iv/eye_raw_data/15_20150527_pupil.mat\n",
            "/root/.cache/kagglehub/datasets/phhasian0710/seed-iv/versions/1/seed_iv/eye_raw_data/11_20150916_fixation.mat\n",
            "/root/.cache/kagglehub/datasets/phhasian0710/seed-iv/versions/1/seed_iv/eye_raw_data/12_20150804_pupil.mat\n",
            "/root/.cache/kagglehub/datasets/phhasian0710/seed-iv/versions/1/seed_iv/eye_raw_data/14_20151208_event.mat\n",
            "/root/.cache/kagglehub/datasets/phhasian0710/seed-iv/versions/1/seed_iv/eye_raw_data/4_20151118_PD.mat\n",
            "/root/.cache/kagglehub/datasets/phhasian0710/seed-iv/versions/1/seed_iv/eye_raw_data/6_20150507_pupil.mat\n",
            "/root/.cache/kagglehub/datasets/phhasian0710/seed-iv/versions/1/seed_iv/eye_raw_data/3_20151018_event.mat\n",
            "/root/.cache/kagglehub/datasets/phhasian0710/seed-iv/versions/1/seed_iv/eye_raw_data/2_20150915_saccade.mat\n",
            "/root/.cache/kagglehub/datasets/phhasian0710/seed-iv/versions/1/seed_iv/eye_raw_data/8_20151117_pupil.mat\n",
            "/root/.cache/kagglehub/datasets/phhasian0710/seed-iv/versions/1/seed_iv/eye_raw_data/3_20150919_saccade.mat\n",
            "/root/.cache/kagglehub/datasets/phhasian0710/seed-iv/versions/1/seed_iv/eye_raw_data/11_20150916_event.mat\n",
            "/root/.cache/kagglehub/datasets/phhasian0710/seed-iv/versions/1/seed_iv/eye_raw_data/11_20150921_pupil.mat\n",
            "/root/.cache/kagglehub/datasets/phhasian0710/seed-iv/versions/1/seed_iv/eye_raw_data/4_20151123_saccade.mat\n",
            "/root/.cache/kagglehub/datasets/phhasian0710/seed-iv/versions/1/seed_iv/eye_raw_data/1_20160518_pupil.mat\n",
            "/root/.cache/kagglehub/datasets/phhasian0710/seed-iv/versions/1/seed_iv/eye_raw_data/1_20160518_fixation.mat\n",
            "/root/.cache/kagglehub/datasets/phhasian0710/seed-iv/versions/1/seed_iv/eye_raw_data/8_20151117_PD.mat\n",
            "/root/.cache/kagglehub/datasets/phhasian0710/seed-iv/versions/1/seed_iv/eye_raw_data/3_20151018_pupil.mat\n",
            "/root/.cache/kagglehub/datasets/phhasian0710/seed-iv/versions/1/seed_iv/eye_raw_data/11_20151011_event.mat\n",
            "/root/.cache/kagglehub/datasets/phhasian0710/seed-iv/versions/1/seed_iv/eye_raw_data/6_20150512_PD.mat\n",
            "/root/.cache/kagglehub/datasets/phhasian0710/seed-iv/versions/1/seed_iv/eye_raw_data/8_20151103_event.mat\n",
            "/root/.cache/kagglehub/datasets/phhasian0710/seed-iv/versions/1/seed_iv/eye_raw_data/13_20151115_PD.mat\n",
            "/root/.cache/kagglehub/datasets/phhasian0710/seed-iv/versions/1/seed_iv/eye_raw_data/2_20151012_event.mat\n",
            "/root/.cache/kagglehub/datasets/phhasian0710/seed-iv/versions/1/seed_iv/eye_raw_data/3_20150919_PD.mat\n",
            "/root/.cache/kagglehub/datasets/phhasian0710/seed-iv/versions/1/seed_iv/eye_raw_data/7_20150721_pupil.mat\n",
            "/root/.cache/kagglehub/datasets/phhasian0710/seed-iv/versions/1/seed_iv/eye_raw_data/15_20150527_event.mat\n",
            "/root/.cache/kagglehub/datasets/phhasian0710/seed-iv/versions/1/seed_iv/eye_raw_data/8_20151103_fixation.mat\n",
            "/root/.cache/kagglehub/datasets/phhasian0710/seed-iv/versions/1/seed_iv/eye_raw_data/8_20151117_blink.mat\n",
            "/root/.cache/kagglehub/datasets/phhasian0710/seed-iv/versions/1/seed_iv/eye_raw_data/7_20150721_event.mat\n",
            "/root/.cache/kagglehub/datasets/phhasian0710/seed-iv/versions/1/seed_iv/eye_raw_data/5_20160406_fixation.mat\n",
            "/root/.cache/kagglehub/datasets/phhasian0710/seed-iv/versions/1/seed_iv/eye_raw_data/11_20151011_PD.mat\n",
            "/root/.cache/kagglehub/datasets/phhasian0710/seed-iv/versions/1/seed_iv/eye_raw_data/7_20150717_blink.mat\n",
            "/root/.cache/kagglehub/datasets/phhasian0710/seed-iv/versions/1/seed_iv/eye_raw_data/12_20150725_saccade.mat\n",
            "/root/.cache/kagglehub/datasets/phhasian0710/seed-iv/versions/1/seed_iv/eye_raw_data/6_20150511_PD.mat\n",
            "/root/.cache/kagglehub/datasets/phhasian0710/seed-iv/versions/1/seed_iv/eye_raw_data/14_20151205_saccade.mat\n",
            "/root/.cache/kagglehub/datasets/phhasian0710/seed-iv/versions/1/seed_iv/eye_raw_data/11_20151011_saccade.mat\n",
            "/root/.cache/kagglehub/datasets/phhasian0710/seed-iv/versions/1/seed_iv/eye_raw_data/10_20151023_pupil.mat\n",
            "/root/.cache/kagglehub/datasets/phhasian0710/seed-iv/versions/1/seed_iv/eye_raw_data/8_20151110_saccade.mat\n",
            "/root/.cache/kagglehub/datasets/phhasian0710/seed-iv/versions/1/seed_iv/eye_raw_data/15_20150514_pupil.mat\n",
            "/root/.cache/kagglehub/datasets/phhasian0710/seed-iv/versions/1/seed_iv/eye_raw_data/5_20160406_event.mat\n",
            "/root/.cache/kagglehub/datasets/phhasian0710/seed-iv/versions/1/seed_iv/eye_raw_data/12_20150725_pupil.mat\n",
            "/root/.cache/kagglehub/datasets/phhasian0710/seed-iv/versions/1/seed_iv/eye_raw_data/14_20151205_fixation.mat\n",
            "/root/.cache/kagglehub/datasets/phhasian0710/seed-iv/versions/1/seed_iv/eye_raw_data/10_20151021_fixation.mat\n",
            "/root/.cache/kagglehub/datasets/phhasian0710/seed-iv/versions/1/seed_iv/eye_raw_data/12_20150804_fixation.mat\n",
            "/root/.cache/kagglehub/datasets/phhasian0710/seed-iv/versions/1/seed_iv/eye_raw_data/9_20151028_saccade.mat\n",
            "/root/.cache/kagglehub/datasets/phhasian0710/seed-iv/versions/1/seed_iv/eye_raw_data/1_20160518_event.mat\n",
            "/root/.cache/kagglehub/datasets/phhasian0710/seed-iv/versions/1/seed_iv/eye_raw_data/11_20150921_fixation.mat\n",
            "/root/.cache/kagglehub/datasets/phhasian0710/seed-iv/versions/1/seed_iv/eye_raw_data/4_20151111_blink.mat\n",
            "/root/.cache/kagglehub/datasets/phhasian0710/seed-iv/versions/1/seed_iv/eye_raw_data/13_20161130_event.mat\n",
            "/root/.cache/kagglehub/datasets/phhasian0710/seed-iv/versions/1/seed_iv/eye_raw_data/10_20151021_pupil.mat\n",
            "/root/.cache/kagglehub/datasets/phhasian0710/seed-iv/versions/1/seed_iv/eye_raw_data/1_20160518_PD.mat\n",
            "/root/.cache/kagglehub/datasets/phhasian0710/seed-iv/versions/1/seed_iv/eye_raw_data/4_20151111_saccade.mat\n",
            "/root/.cache/kagglehub/datasets/phhasian0710/seed-iv/versions/1/seed_iv/eye_raw_data/14_20151205_blink.mat\n",
            "/root/.cache/kagglehub/datasets/phhasian0710/seed-iv/versions/1/seed_iv/eye_raw_data/1_20161126_fixation.mat\n",
            "/root/.cache/kagglehub/datasets/phhasian0710/seed-iv/versions/1/seed_iv/eye_raw_data/7_20150717_pupil.mat\n",
            "/root/.cache/kagglehub/datasets/phhasian0710/seed-iv/versions/1/seed_iv/eye_raw_data/9_20151028_fixation.mat\n",
            "/root/.cache/kagglehub/datasets/phhasian0710/seed-iv/versions/1/seed_iv/eye_raw_data/6_20150512_pupil.mat\n",
            "/root/.cache/kagglehub/datasets/phhasian0710/seed-iv/versions/1/seed_iv/eye_raw_data/5_20160406_pupil.mat\n",
            "/root/.cache/kagglehub/datasets/phhasian0710/seed-iv/versions/1/seed_iv/eye_raw_data/11_20150921_event.mat\n",
            "/root/.cache/kagglehub/datasets/phhasian0710/seed-iv/versions/1/seed_iv/eye_raw_data/2_20150920_PD.mat\n",
            "/root/.cache/kagglehub/datasets/phhasian0710/seed-iv/versions/1/seed_iv/eye_raw_data/13_20151125_PD.mat\n",
            "/root/.cache/kagglehub/datasets/phhasian0710/seed-iv/versions/1/seed_iv/eye_raw_data/14_20151205_event.mat\n",
            "/root/.cache/kagglehub/datasets/phhasian0710/seed-iv/versions/1/seed_iv/eye_raw_data/4_20151123_PD.mat\n",
            "/root/.cache/kagglehub/datasets/phhasian0710/seed-iv/versions/1/seed_iv/eye_raw_data/7_20150715_saccade.mat\n",
            "/root/.cache/kagglehub/datasets/phhasian0710/seed-iv/versions/1/seed_iv/eye_raw_data/11_20150916_saccade.mat\n",
            "/root/.cache/kagglehub/datasets/phhasian0710/seed-iv/versions/1/seed_iv/eye_raw_data/12_20150725_blink.mat\n",
            "/root/.cache/kagglehub/datasets/phhasian0710/seed-iv/versions/1/seed_iv/eye_raw_data/3_20150919_blink.mat\n",
            "/root/.cache/kagglehub/datasets/phhasian0710/seed-iv/versions/1/seed_iv/eye_raw_data/1_20160518_saccade.mat\n",
            "/root/.cache/kagglehub/datasets/phhasian0710/seed-iv/versions/1/seed_iv/eye_raw_data/10_20151021_PD.mat\n",
            "/root/.cache/kagglehub/datasets/phhasian0710/seed-iv/versions/1/seed_iv/eye_raw_data/3_20151101_PD.mat\n",
            "/root/.cache/kagglehub/datasets/phhasian0710/seed-iv/versions/1/seed_iv/eye_raw_data/11_20150916_pupil.mat\n",
            "/root/.cache/kagglehub/datasets/phhasian0710/seed-iv/versions/1/seed_iv/eye_raw_data/13_20161130_fixation.mat\n",
            "/root/.cache/kagglehub/datasets/phhasian0710/seed-iv/versions/1/seed_iv/eye_raw_data/4_20151123_blink.mat\n",
            "/root/.cache/kagglehub/datasets/phhasian0710/seed-iv/versions/1/seed_iv/eye_raw_data/4_20151111_fixation.mat\n",
            "/root/.cache/kagglehub/datasets/phhasian0710/seed-iv/versions/1/seed_iv/eye_raw_data/12_20150807_saccade.mat\n",
            "/root/.cache/kagglehub/datasets/phhasian0710/seed-iv/versions/1/seed_iv/eye_raw_data/14_20151208_pupil.mat\n",
            "/root/.cache/kagglehub/datasets/phhasian0710/seed-iv/versions/1/seed_iv/eye_raw_data/1_20161126_PD.mat\n",
            "/root/.cache/kagglehub/datasets/phhasian0710/seed-iv/versions/1/seed_iv/eye_raw_data/7_20150721_blink.mat\n",
            "/root/.cache/kagglehub/datasets/phhasian0710/seed-iv/versions/1/seed_iv/eye_raw_data/10_20151021_blink.mat\n",
            "/root/.cache/kagglehub/datasets/phhasian0710/seed-iv/versions/1/seed_iv/eye_raw_data/5_20160420_saccade.mat\n",
            "/root/.cache/kagglehub/datasets/phhasian0710/seed-iv/versions/1/seed_iv/eye_raw_data/14_20151208_fixation.mat\n",
            "/root/.cache/kagglehub/datasets/phhasian0710/seed-iv/versions/1/seed_iv/eye_raw_data/12_20150807_PD.mat\n",
            "/root/.cache/kagglehub/datasets/phhasian0710/seed-iv/versions/1/seed_iv/eye_raw_data/3_20151101_fixation.mat\n",
            "/root/.cache/kagglehub/datasets/phhasian0710/seed-iv/versions/1/seed_iv/eye_raw_data/13_20151115_pupil.mat\n",
            "/root/.cache/kagglehub/datasets/phhasian0710/seed-iv/versions/1/seed_iv/eye_raw_data/4_20151123_event.mat\n",
            "/root/.cache/kagglehub/datasets/phhasian0710/seed-iv/versions/1/seed_iv/eye_raw_data/10_20151014_fixation.mat\n",
            "/root/.cache/kagglehub/datasets/phhasian0710/seed-iv/versions/1/seed_iv/eye_raw_data/5_20160420_pupil.mat\n",
            "/root/.cache/kagglehub/datasets/phhasian0710/seed-iv/versions/1/seed_iv/eye_raw_data/13_20151125_saccade.mat\n",
            "/root/.cache/kagglehub/datasets/phhasian0710/seed-iv/versions/1/seed_iv/eye_raw_data/9_20151119_pupil.mat\n",
            "/root/.cache/kagglehub/datasets/phhasian0710/seed-iv/versions/1/seed_iv/eye_raw_data/1_20161125_fixation.mat\n",
            "/root/.cache/kagglehub/datasets/phhasian0710/seed-iv/versions/1/seed_iv/eye_raw_data/8_20151103_PD.mat\n",
            "/root/.cache/kagglehub/datasets/phhasian0710/seed-iv/versions/1/seed_iv/eye_raw_data/12_20150725_fixation.mat\n",
            "/root/.cache/kagglehub/datasets/phhasian0710/seed-iv/versions/1/seed_iv/eye_raw_data/5_20160420_event.mat\n",
            "/root/.cache/kagglehub/datasets/phhasian0710/seed-iv/versions/1/seed_iv/eye_raw_data/14_20151208_PD.mat\n",
            "/root/.cache/kagglehub/datasets/phhasian0710/seed-iv/versions/1/seed_iv/eye_raw_data/8_20151117_saccade.mat\n",
            "/root/.cache/kagglehub/datasets/phhasian0710/seed-iv/versions/1/seed_iv/eye_raw_data/9_20151209_blink.mat\n",
            "/root/.cache/kagglehub/datasets/phhasian0710/seed-iv/versions/1/seed_iv/eye_raw_data/6_20150507_event.mat\n",
            "/root/.cache/kagglehub/datasets/phhasian0710/seed-iv/versions/1/seed_iv/eye_raw_data/15_20150514_saccade.mat\n",
            "/root/.cache/kagglehub/datasets/phhasian0710/seed-iv/versions/1/seed_iv/eye_raw_data/2_20150915_PD.mat\n",
            "/root/.cache/kagglehub/datasets/phhasian0710/seed-iv/versions/1/seed_iv/eye_raw_data/9_20151209_event.mat\n",
            "/root/.cache/kagglehub/datasets/phhasian0710/seed-iv/versions/1/seed_iv/eye_raw_data/7_20150717_PD.mat\n",
            "/root/.cache/kagglehub/datasets/phhasian0710/seed-iv/versions/1/seed_iv/eye_raw_data/11_20151011_fixation.mat\n",
            "/root/.cache/kagglehub/datasets/phhasian0710/seed-iv/versions/1/seed_iv/eye_raw_data/15_20150527_blink.mat\n",
            "/root/.cache/kagglehub/datasets/phhasian0710/seed-iv/versions/1/seed_iv/eye_raw_data/4_20151118_blink.mat\n",
            "/root/.cache/kagglehub/datasets/phhasian0710/seed-iv/versions/1/seed_iv/eye_raw_data/10_20151014_saccade.mat\n",
            "/root/.cache/kagglehub/datasets/phhasian0710/seed-iv/versions/1/seed_iv/eye_raw_data/13_20161130_saccade.mat\n",
            "/root/.cache/kagglehub/datasets/phhasian0710/seed-iv/versions/1/seed_iv/eye_raw_data/10_20151014_blink.mat\n",
            "/root/.cache/kagglehub/datasets/phhasian0710/seed-iv/versions/1/seed_iv/eye_raw_data/3_20151018_saccade.mat\n",
            "/root/.cache/kagglehub/datasets/phhasian0710/seed-iv/versions/1/seed_iv/eye_raw_data/12_20150807_fixation.mat\n",
            "/root/.cache/kagglehub/datasets/phhasian0710/seed-iv/versions/1/seed_iv/eye_raw_data/5_20160413_event.mat\n",
            "/root/.cache/kagglehub/datasets/phhasian0710/seed-iv/versions/1/seed_iv/eye_raw_data/15_20150514_event.mat\n",
            "/root/.cache/kagglehub/datasets/phhasian0710/seed-iv/versions/1/seed_iv/eye_raw_data/9_20151209_PD.mat\n",
            "/root/.cache/kagglehub/datasets/phhasian0710/seed-iv/versions/1/seed_iv/eye_raw_data/4_20151118_saccade.mat\n",
            "/root/.cache/kagglehub/datasets/phhasian0710/seed-iv/versions/1/seed_iv/eye_raw_data/2_20150915_pupil.mat\n",
            "/root/.cache/kagglehub/datasets/phhasian0710/seed-iv/versions/1/seed_iv/eye_raw_data/1_20160518_blink.mat\n",
            "/root/.cache/kagglehub/datasets/phhasian0710/seed-iv/versions/1/seed_iv/eye_raw_data/3_20151101_blink.mat\n",
            "/root/.cache/kagglehub/datasets/phhasian0710/seed-iv/versions/1/seed_iv/eye_raw_data/10_20151014_pupil.mat\n",
            "/root/.cache/kagglehub/datasets/phhasian0710/seed-iv/versions/1/seed_iv/eye_raw_data/9_20151209_saccade.mat\n",
            "/root/.cache/kagglehub/datasets/phhasian0710/seed-iv/versions/1/seed_iv/eye_raw_data/6_20150512_event.mat\n",
            "/root/.cache/kagglehub/datasets/phhasian0710/seed-iv/versions/1/seed_iv/eye_raw_data/1_20161125_PD.mat\n",
            "/root/.cache/kagglehub/datasets/phhasian0710/seed-iv/versions/1/seed_iv/eye_raw_data/3_20151018_fixation.mat\n",
            "/root/.cache/kagglehub/datasets/phhasian0710/seed-iv/versions/1/seed_iv/eye_raw_data/15_20150514_blink.mat\n",
            "/root/.cache/kagglehub/datasets/phhasian0710/seed-iv/versions/1/seed_iv/eye_raw_data/4_20151111_event.mat\n",
            "/root/.cache/kagglehub/datasets/phhasian0710/seed-iv/versions/1/seed_iv/eye_raw_data/5_20160413_pupil.mat\n",
            "/root/.cache/kagglehub/datasets/phhasian0710/seed-iv/versions/1/seed_iv/eye_raw_data/9_20151028_PD.mat\n",
            "/root/.cache/kagglehub/datasets/phhasian0710/seed-iv/versions/1/seed_iv/eye_raw_data/1_20161126_event.mat\n",
            "/root/.cache/kagglehub/datasets/phhasian0710/seed-iv/versions/1/seed_iv/eye_raw_data/1_20161126_blink.mat\n",
            "/root/.cache/kagglehub/datasets/phhasian0710/seed-iv/versions/1/seed_iv/eye_raw_data/12_20150807_event.mat\n",
            "/root/.cache/kagglehub/datasets/phhasian0710/seed-iv/versions/1/seed_iv/eye_raw_data/14_20151215_event.mat\n",
            "/root/.cache/kagglehub/datasets/phhasian0710/seed-iv/versions/1/seed_iv/eye_raw_data/3_20150919_event.mat\n",
            "/root/.cache/kagglehub/datasets/phhasian0710/seed-iv/versions/1/seed_iv/eye_raw_data/15_20150508_pupil.mat\n",
            "/root/.cache/kagglehub/datasets/phhasian0710/seed-iv/versions/1/seed_iv/eye_raw_data/13_20151115_fixation.mat\n",
            "/root/.cache/kagglehub/datasets/phhasian0710/seed-iv/versions/1/seed_iv/eye_raw_data/13_20161130_PD.mat\n",
            "/root/.cache/kagglehub/datasets/phhasian0710/seed-iv/versions/1/seed_iv/eye_raw_data/5_20160420_PD.mat\n",
            "/root/.cache/kagglehub/datasets/phhasian0710/seed-iv/versions/1/seed_iv/eye_raw_data/9_20151119_PD.mat\n",
            "/root/.cache/kagglehub/datasets/phhasian0710/seed-iv/versions/1/seed_iv/eye_raw_data/11_20150916_PD.mat\n",
            "/root/.cache/kagglehub/datasets/phhasian0710/seed-iv/versions/1/seed_iv/eye_raw_data/7_20150721_PD.mat\n",
            "/root/.cache/kagglehub/datasets/phhasian0710/seed-iv/versions/1/seed_iv/eye_raw_data/4_20151123_pupil.mat\n",
            "/root/.cache/kagglehub/datasets/phhasian0710/seed-iv/versions/1/seed_iv/eye_raw_data/3_20151018_blink.mat\n",
            "/root/.cache/kagglehub/datasets/phhasian0710/seed-iv/versions/1/seed_iv/eye_raw_data/8_20151110_PD.mat\n",
            "/root/.cache/kagglehub/datasets/phhasian0710/seed-iv/versions/1/seed_iv/eye_raw_data/8_20151117_event.mat\n",
            "/root/.cache/kagglehub/datasets/phhasian0710/seed-iv/versions/1/seed_iv/eye_raw_data/11_20151011_pupil.mat\n",
            "/root/.cache/kagglehub/datasets/phhasian0710/seed-iv/versions/1/seed_iv/eye_raw_data/7_20150717_event.mat\n",
            "/root/.cache/kagglehub/datasets/phhasian0710/seed-iv/versions/1/seed_iv/eye_raw_data/13_20161130_blink.mat\n",
            "/root/.cache/kagglehub/datasets/phhasian0710/seed-iv/versions/1/seed_iv/eye_raw_data/15_20150514_PD.mat\n",
            "/root/.cache/kagglehub/datasets/phhasian0710/seed-iv/versions/1/seed_iv/eye_raw_data/9_20151119_blink.mat\n",
            "/root/.cache/kagglehub/datasets/phhasian0710/seed-iv/versions/1/seed_iv/eye_raw_data/10_20151023_fixation.mat\n",
            "/root/.cache/kagglehub/datasets/phhasian0710/seed-iv/versions/1/seed_iv/eye_raw_data/15_20150508_saccade.mat\n",
            "/root/.cache/kagglehub/datasets/phhasian0710/seed-iv/versions/1/seed_iv/eye_raw_data/5_20160413_blink.mat\n",
            "/root/.cache/kagglehub/datasets/phhasian0710/seed-iv/versions/1/seed_iv/eye_raw_data/11_20151011_blink.mat\n",
            "/root/.cache/kagglehub/datasets/phhasian0710/seed-iv/versions/1/seed_iv/eye_raw_data/5_20160406_blink.mat\n",
            "/root/.cache/kagglehub/datasets/phhasian0710/seed-iv/versions/1/seed_iv/eye_raw_data/2_20151012_saccade.mat\n",
            "/root/.cache/kagglehub/datasets/phhasian0710/seed-iv/versions/1/seed_iv/eye_raw_data/7_20150715_PD.mat\n",
            "/root/.cache/kagglehub/datasets/phhasian0710/seed-iv/versions/1/seed_iv/eye_raw_data/5_20160406_saccade.mat\n",
            "/root/.cache/kagglehub/datasets/phhasian0710/seed-iv/versions/1/seed_iv/eye_raw_data/5_20160413_saccade.mat\n",
            "/root/.cache/kagglehub/datasets/phhasian0710/seed-iv/versions/1/seed_iv/eye_raw_data/7_20150717_saccade.mat\n",
            "/root/.cache/kagglehub/datasets/phhasian0710/seed-iv/versions/1/seed_iv/eye_raw_data/7_20150715_fixation.mat\n",
            "/root/.cache/kagglehub/datasets/phhasian0710/seed-iv/versions/1/seed_iv/eye_raw_data/6_20150511_blink.mat\n",
            "/root/.cache/kagglehub/datasets/phhasian0710/seed-iv/versions/1/seed_iv/eye_raw_data/2_20150915_blink.mat\n",
            "/root/.cache/kagglehub/datasets/phhasian0710/seed-iv/versions/1/seed_iv/eye_raw_data/6_20150507_fixation.mat\n",
            "/root/.cache/kagglehub/datasets/phhasian0710/seed-iv/versions/1/seed_iv/eye_raw_data/6_20150511_pupil.mat\n",
            "/root/.cache/kagglehub/datasets/phhasian0710/seed-iv/versions/1/seed_iv/eye_raw_data/7_20150721_fixation.mat\n",
            "/root/.cache/kagglehub/datasets/phhasian0710/seed-iv/versions/1/seed_iv/eye_raw_data/12_20150804_PD.mat\n",
            "/root/.cache/kagglehub/datasets/phhasian0710/seed-iv/versions/1/seed_iv/eye_raw_data/8_20151117_fixation.mat\n",
            "/root/.cache/kagglehub/datasets/phhasian0710/seed-iv/versions/1/seed_iv/eye_raw_data/2_20151012_fixation.mat\n",
            "/root/.cache/kagglehub/datasets/phhasian0710/seed-iv/versions/1/seed_iv/eye_raw_data/6_20150511_fixation.mat\n",
            "/root/.cache/kagglehub/datasets/phhasian0710/seed-iv/versions/1/seed_iv/eye_raw_data/3_20150919_fixation.mat\n",
            "/root/.cache/kagglehub/datasets/phhasian0710/seed-iv/versions/1/seed_iv/eye_raw_data/15_20150527_PD.mat\n",
            "/root/.cache/kagglehub/datasets/phhasian0710/seed-iv/versions/1/seed_iv/eye_raw_data/10_20151014_event.mat\n",
            "/root/.cache/kagglehub/datasets/phhasian0710/seed-iv/versions/1/seed_iv/eye_raw_data/14_20151205_pupil.mat\n",
            "/root/.cache/kagglehub/datasets/phhasian0710/seed-iv/versions/1/seed_iv/eye_raw_data/3_20151101_pupil.mat\n",
            "/root/.cache/kagglehub/datasets/phhasian0710/seed-iv/versions/1/seed_iv/eye_raw_data/10_20151023_saccade.mat\n",
            "/root/.cache/kagglehub/datasets/phhasian0710/seed-iv/versions/1/seed_iv/eye_raw_data/8_20151110_blink.mat\n",
            "/root/.cache/kagglehub/datasets/phhasian0710/seed-iv/versions/1/seed_iv/eye_raw_data/14_20151208_saccade.mat\n",
            "/root/.cache/kagglehub/datasets/phhasian0710/seed-iv/versions/1/seed_iv/eye_raw_data/3_20151101_event.mat\n",
            "/root/.cache/kagglehub/datasets/phhasian0710/seed-iv/versions/1/seed_iv/eye_raw_data/13_20151125_pupil.mat\n",
            "/root/.cache/kagglehub/datasets/phhasian0710/seed-iv/versions/1/seed_iv/eye_raw_data/7_20150721_saccade.mat\n",
            "/root/.cache/kagglehub/datasets/phhasian0710/seed-iv/versions/1/seed_iv/eye_raw_data/4_20151118_fixation.mat\n",
            "/root/.cache/kagglehub/datasets/phhasian0710/seed-iv/versions/1/seed_iv/eye_raw_data/6_20150507_blink.mat\n",
            "/root/.cache/kagglehub/datasets/phhasian0710/seed-iv/versions/1/eeg_raw_data/2\n",
            "/root/.cache/kagglehub/datasets/phhasian0710/seed-iv/versions/1/eeg_raw_data/1\n",
            "/root/.cache/kagglehub/datasets/phhasian0710/seed-iv/versions/1/eeg_raw_data/3\n",
            "/root/.cache/kagglehub/datasets/phhasian0710/seed-iv/versions/1/eeg_raw_data/2/5_20160413.mat\n",
            "/root/.cache/kagglehub/datasets/phhasian0710/seed-iv/versions/1/eeg_raw_data/2/15_20150514.mat\n",
            "/root/.cache/kagglehub/datasets/phhasian0710/seed-iv/versions/1/eeg_raw_data/2/7_20150717.mat\n",
            "/root/.cache/kagglehub/datasets/phhasian0710/seed-iv/versions/1/eeg_raw_data/2/4_20151118.mat\n",
            "/root/.cache/kagglehub/datasets/phhasian0710/seed-iv/versions/1/eeg_raw_data/2/1_20161125.mat\n",
            "/root/.cache/kagglehub/datasets/phhasian0710/seed-iv/versions/1/eeg_raw_data/2/10_20151021.mat\n",
            "/root/.cache/kagglehub/datasets/phhasian0710/seed-iv/versions/1/eeg_raw_data/2/8_20151110.mat\n",
            "/root/.cache/kagglehub/datasets/phhasian0710/seed-iv/versions/1/eeg_raw_data/2/9_20151119.mat\n",
            "/root/.cache/kagglehub/datasets/phhasian0710/seed-iv/versions/1/eeg_raw_data/2/6_20150511.mat\n",
            "/root/.cache/kagglehub/datasets/phhasian0710/seed-iv/versions/1/eeg_raw_data/2/12_20150804.mat\n",
            "/root/.cache/kagglehub/datasets/phhasian0710/seed-iv/versions/1/eeg_raw_data/2/14_20151208.mat\n",
            "/root/.cache/kagglehub/datasets/phhasian0710/seed-iv/versions/1/eeg_raw_data/2/2_20150920.mat\n",
            "/root/.cache/kagglehub/datasets/phhasian0710/seed-iv/versions/1/eeg_raw_data/2/3_20151018.mat\n",
            "/root/.cache/kagglehub/datasets/phhasian0710/seed-iv/versions/1/eeg_raw_data/2/11_20150921.mat\n",
            "/root/.cache/kagglehub/datasets/phhasian0710/seed-iv/versions/1/eeg_raw_data/2/13_20151125.mat\n",
            "/root/.cache/kagglehub/datasets/phhasian0710/seed-iv/versions/1/eeg_raw_data/1/8_20151103.mat\n",
            "/root/.cache/kagglehub/datasets/phhasian0710/seed-iv/versions/1/eeg_raw_data/1/4_20151111.mat\n",
            "/root/.cache/kagglehub/datasets/phhasian0710/seed-iv/versions/1/eeg_raw_data/1/13_20151115.mat\n",
            "/root/.cache/kagglehub/datasets/phhasian0710/seed-iv/versions/1/eeg_raw_data/1/6_20150507.mat\n",
            "/root/.cache/kagglehub/datasets/phhasian0710/seed-iv/versions/1/eeg_raw_data/1/10_20151014.mat\n",
            "/root/.cache/kagglehub/datasets/phhasian0710/seed-iv/versions/1/eeg_raw_data/1/9_20151028.mat\n",
            "/root/.cache/kagglehub/datasets/phhasian0710/seed-iv/versions/1/eeg_raw_data/1/1_20160518.mat\n",
            "/root/.cache/kagglehub/datasets/phhasian0710/seed-iv/versions/1/eeg_raw_data/1/3_20150919.mat\n",
            "/root/.cache/kagglehub/datasets/phhasian0710/seed-iv/versions/1/eeg_raw_data/1/15_20150508.mat\n",
            "/root/.cache/kagglehub/datasets/phhasian0710/seed-iv/versions/1/eeg_raw_data/1/5_20160406.mat\n",
            "/root/.cache/kagglehub/datasets/phhasian0710/seed-iv/versions/1/eeg_raw_data/1/7_20150715.mat\n",
            "/root/.cache/kagglehub/datasets/phhasian0710/seed-iv/versions/1/eeg_raw_data/1/11_20150916.mat\n",
            "/root/.cache/kagglehub/datasets/phhasian0710/seed-iv/versions/1/eeg_raw_data/1/12_20150725.mat\n",
            "/root/.cache/kagglehub/datasets/phhasian0710/seed-iv/versions/1/eeg_raw_data/1/2_20150915.mat\n",
            "/root/.cache/kagglehub/datasets/phhasian0710/seed-iv/versions/1/eeg_raw_data/1/14_20151205.mat\n",
            "/root/.cache/kagglehub/datasets/phhasian0710/seed-iv/versions/1/eeg_raw_data/3/15_20150527.mat\n",
            "/root/.cache/kagglehub/datasets/phhasian0710/seed-iv/versions/1/eeg_raw_data/3/7_20150721.mat\n",
            "/root/.cache/kagglehub/datasets/phhasian0710/seed-iv/versions/1/eeg_raw_data/3/10_20151023.mat\n",
            "/root/.cache/kagglehub/datasets/phhasian0710/seed-iv/versions/1/eeg_raw_data/3/6_20150512.mat\n",
            "/root/.cache/kagglehub/datasets/phhasian0710/seed-iv/versions/1/eeg_raw_data/3/9_20151209.mat\n",
            "/root/.cache/kagglehub/datasets/phhasian0710/seed-iv/versions/1/eeg_raw_data/3/2_20151012.mat\n",
            "/root/.cache/kagglehub/datasets/phhasian0710/seed-iv/versions/1/eeg_raw_data/3/4_20151123.mat\n",
            "/root/.cache/kagglehub/datasets/phhasian0710/seed-iv/versions/1/eeg_raw_data/3/3_20151101.mat\n",
            "/root/.cache/kagglehub/datasets/phhasian0710/seed-iv/versions/1/eeg_raw_data/3/13_20161130.mat\n",
            "/root/.cache/kagglehub/datasets/phhasian0710/seed-iv/versions/1/eeg_raw_data/3/11_20151011.mat\n",
            "/root/.cache/kagglehub/datasets/phhasian0710/seed-iv/versions/1/eeg_raw_data/3/1_20161126.mat\n",
            "/root/.cache/kagglehub/datasets/phhasian0710/seed-iv/versions/1/eeg_raw_data/3/12_20150807.mat\n",
            "/root/.cache/kagglehub/datasets/phhasian0710/seed-iv/versions/1/eeg_raw_data/3/14_20151215.mat\n",
            "/root/.cache/kagglehub/datasets/phhasian0710/seed-iv/versions/1/eeg_raw_data/3/5_20160420.mat\n",
            "/root/.cache/kagglehub/datasets/phhasian0710/seed-iv/versions/1/eeg_raw_data/3/8_20151117.mat\n",
            "/root/.cache/kagglehub/datasets/phhasian0710/seed-iv/versions/1/eeg_feature_smooth/2\n",
            "/root/.cache/kagglehub/datasets/phhasian0710/seed-iv/versions/1/eeg_feature_smooth/1\n",
            "/root/.cache/kagglehub/datasets/phhasian0710/seed-iv/versions/1/eeg_feature_smooth/3\n",
            "/root/.cache/kagglehub/datasets/phhasian0710/seed-iv/versions/1/eeg_feature_smooth/2/5_20160413.mat\n",
            "/root/.cache/kagglehub/datasets/phhasian0710/seed-iv/versions/1/eeg_feature_smooth/2/15_20150514.mat\n",
            "/root/.cache/kagglehub/datasets/phhasian0710/seed-iv/versions/1/eeg_feature_smooth/2/7_20150717.mat\n",
            "/root/.cache/kagglehub/datasets/phhasian0710/seed-iv/versions/1/eeg_feature_smooth/2/4_20151118.mat\n",
            "/root/.cache/kagglehub/datasets/phhasian0710/seed-iv/versions/1/eeg_feature_smooth/2/1_20161125.mat\n",
            "/root/.cache/kagglehub/datasets/phhasian0710/seed-iv/versions/1/eeg_feature_smooth/2/10_20151021.mat\n",
            "/root/.cache/kagglehub/datasets/phhasian0710/seed-iv/versions/1/eeg_feature_smooth/2/8_20151110.mat\n",
            "/root/.cache/kagglehub/datasets/phhasian0710/seed-iv/versions/1/eeg_feature_smooth/2/9_20151119.mat\n",
            "/root/.cache/kagglehub/datasets/phhasian0710/seed-iv/versions/1/eeg_feature_smooth/2/6_20150511.mat\n",
            "/root/.cache/kagglehub/datasets/phhasian0710/seed-iv/versions/1/eeg_feature_smooth/2/12_20150804.mat\n",
            "/root/.cache/kagglehub/datasets/phhasian0710/seed-iv/versions/1/eeg_feature_smooth/2/14_20151208.mat\n",
            "/root/.cache/kagglehub/datasets/phhasian0710/seed-iv/versions/1/eeg_feature_smooth/2/2_20150920.mat\n",
            "/root/.cache/kagglehub/datasets/phhasian0710/seed-iv/versions/1/eeg_feature_smooth/2/3_20151018.mat\n",
            "/root/.cache/kagglehub/datasets/phhasian0710/seed-iv/versions/1/eeg_feature_smooth/2/11_20150921.mat\n",
            "/root/.cache/kagglehub/datasets/phhasian0710/seed-iv/versions/1/eeg_feature_smooth/2/13_20151125.mat\n",
            "/root/.cache/kagglehub/datasets/phhasian0710/seed-iv/versions/1/eeg_feature_smooth/1/8_20151103.mat\n",
            "/root/.cache/kagglehub/datasets/phhasian0710/seed-iv/versions/1/eeg_feature_smooth/1/4_20151111.mat\n",
            "/root/.cache/kagglehub/datasets/phhasian0710/seed-iv/versions/1/eeg_feature_smooth/1/13_20151115.mat\n",
            "/root/.cache/kagglehub/datasets/phhasian0710/seed-iv/versions/1/eeg_feature_smooth/1/6_20150507.mat\n",
            "/root/.cache/kagglehub/datasets/phhasian0710/seed-iv/versions/1/eeg_feature_smooth/1/10_20151014.mat\n",
            "/root/.cache/kagglehub/datasets/phhasian0710/seed-iv/versions/1/eeg_feature_smooth/1/9_20151028.mat\n",
            "/root/.cache/kagglehub/datasets/phhasian0710/seed-iv/versions/1/eeg_feature_smooth/1/1_20160518.mat\n",
            "/root/.cache/kagglehub/datasets/phhasian0710/seed-iv/versions/1/eeg_feature_smooth/1/3_20150919.mat\n",
            "/root/.cache/kagglehub/datasets/phhasian0710/seed-iv/versions/1/eeg_feature_smooth/1/15_20150508.mat\n",
            "/root/.cache/kagglehub/datasets/phhasian0710/seed-iv/versions/1/eeg_feature_smooth/1/5_20160406.mat\n",
            "/root/.cache/kagglehub/datasets/phhasian0710/seed-iv/versions/1/eeg_feature_smooth/1/7_20150715.mat\n",
            "/root/.cache/kagglehub/datasets/phhasian0710/seed-iv/versions/1/eeg_feature_smooth/1/11_20150916.mat\n",
            "/root/.cache/kagglehub/datasets/phhasian0710/seed-iv/versions/1/eeg_feature_smooth/1/12_20150725.mat\n",
            "/root/.cache/kagglehub/datasets/phhasian0710/seed-iv/versions/1/eeg_feature_smooth/1/2_20150915.mat\n",
            "/root/.cache/kagglehub/datasets/phhasian0710/seed-iv/versions/1/eeg_feature_smooth/1/14_20151205.mat\n",
            "/root/.cache/kagglehub/datasets/phhasian0710/seed-iv/versions/1/eeg_feature_smooth/3/15_20150527.mat\n",
            "/root/.cache/kagglehub/datasets/phhasian0710/seed-iv/versions/1/eeg_feature_smooth/3/7_20150721.mat\n",
            "/root/.cache/kagglehub/datasets/phhasian0710/seed-iv/versions/1/eeg_feature_smooth/3/10_20151023.mat\n",
            "/root/.cache/kagglehub/datasets/phhasian0710/seed-iv/versions/1/eeg_feature_smooth/3/6_20150512.mat\n",
            "/root/.cache/kagglehub/datasets/phhasian0710/seed-iv/versions/1/eeg_feature_smooth/3/9_20151209.mat\n",
            "/root/.cache/kagglehub/datasets/phhasian0710/seed-iv/versions/1/eeg_feature_smooth/3/2_20151012.mat\n",
            "/root/.cache/kagglehub/datasets/phhasian0710/seed-iv/versions/1/eeg_feature_smooth/3/4_20151123.mat\n",
            "/root/.cache/kagglehub/datasets/phhasian0710/seed-iv/versions/1/eeg_feature_smooth/3/3_20151101.mat\n",
            "/root/.cache/kagglehub/datasets/phhasian0710/seed-iv/versions/1/eeg_feature_smooth/3/13_20161130.mat\n",
            "/root/.cache/kagglehub/datasets/phhasian0710/seed-iv/versions/1/eeg_feature_smooth/3/11_20151011.mat\n",
            "/root/.cache/kagglehub/datasets/phhasian0710/seed-iv/versions/1/eeg_feature_smooth/3/1_20161126.mat\n",
            "/root/.cache/kagglehub/datasets/phhasian0710/seed-iv/versions/1/eeg_feature_smooth/3/12_20150807.mat\n",
            "/root/.cache/kagglehub/datasets/phhasian0710/seed-iv/versions/1/eeg_feature_smooth/3/14_20151215.mat\n",
            "/root/.cache/kagglehub/datasets/phhasian0710/seed-iv/versions/1/eeg_feature_smooth/3/5_20160420.mat\n",
            "/root/.cache/kagglehub/datasets/phhasian0710/seed-iv/versions/1/eeg_feature_smooth/3/8_20151117.mat\n",
            "/root/.cache/kagglehub/datasets/phhasian0710/seed-iv/versions/1/eye_feature_smooth/2\n",
            "/root/.cache/kagglehub/datasets/phhasian0710/seed-iv/versions/1/eye_feature_smooth/1\n",
            "/root/.cache/kagglehub/datasets/phhasian0710/seed-iv/versions/1/eye_feature_smooth/3\n",
            "/root/.cache/kagglehub/datasets/phhasian0710/seed-iv/versions/1/eye_feature_smooth/2/5_20160413.mat\n",
            "/root/.cache/kagglehub/datasets/phhasian0710/seed-iv/versions/1/eye_feature_smooth/2/15_20150514.mat\n",
            "/root/.cache/kagglehub/datasets/phhasian0710/seed-iv/versions/1/eye_feature_smooth/2/7_20150717.mat\n",
            "/root/.cache/kagglehub/datasets/phhasian0710/seed-iv/versions/1/eye_feature_smooth/2/4_20151118.mat\n",
            "/root/.cache/kagglehub/datasets/phhasian0710/seed-iv/versions/1/eye_feature_smooth/2/1_20161125.mat\n",
            "/root/.cache/kagglehub/datasets/phhasian0710/seed-iv/versions/1/eye_feature_smooth/2/10_20151021.mat\n",
            "/root/.cache/kagglehub/datasets/phhasian0710/seed-iv/versions/1/eye_feature_smooth/2/8_20151110.mat\n",
            "/root/.cache/kagglehub/datasets/phhasian0710/seed-iv/versions/1/eye_feature_smooth/2/9_20151119.mat\n",
            "/root/.cache/kagglehub/datasets/phhasian0710/seed-iv/versions/1/eye_feature_smooth/2/6_20150511.mat\n",
            "/root/.cache/kagglehub/datasets/phhasian0710/seed-iv/versions/1/eye_feature_smooth/2/12_20150804.mat\n",
            "/root/.cache/kagglehub/datasets/phhasian0710/seed-iv/versions/1/eye_feature_smooth/2/14_20151208.mat\n",
            "/root/.cache/kagglehub/datasets/phhasian0710/seed-iv/versions/1/eye_feature_smooth/2/2_20150920.mat\n",
            "/root/.cache/kagglehub/datasets/phhasian0710/seed-iv/versions/1/eye_feature_smooth/2/3_20151018.mat\n",
            "/root/.cache/kagglehub/datasets/phhasian0710/seed-iv/versions/1/eye_feature_smooth/2/11_20150921.mat\n",
            "/root/.cache/kagglehub/datasets/phhasian0710/seed-iv/versions/1/eye_feature_smooth/2/13_20151125.mat\n",
            "/root/.cache/kagglehub/datasets/phhasian0710/seed-iv/versions/1/eye_feature_smooth/1/8_20151103.mat\n",
            "/root/.cache/kagglehub/datasets/phhasian0710/seed-iv/versions/1/eye_feature_smooth/1/4_20151111.mat\n",
            "/root/.cache/kagglehub/datasets/phhasian0710/seed-iv/versions/1/eye_feature_smooth/1/13_20151115.mat\n",
            "/root/.cache/kagglehub/datasets/phhasian0710/seed-iv/versions/1/eye_feature_smooth/1/6_20150507.mat\n",
            "/root/.cache/kagglehub/datasets/phhasian0710/seed-iv/versions/1/eye_feature_smooth/1/10_20151014.mat\n",
            "/root/.cache/kagglehub/datasets/phhasian0710/seed-iv/versions/1/eye_feature_smooth/1/9_20151028.mat\n",
            "/root/.cache/kagglehub/datasets/phhasian0710/seed-iv/versions/1/eye_feature_smooth/1/1_20160518.mat\n",
            "/root/.cache/kagglehub/datasets/phhasian0710/seed-iv/versions/1/eye_feature_smooth/1/3_20150919.mat\n",
            "/root/.cache/kagglehub/datasets/phhasian0710/seed-iv/versions/1/eye_feature_smooth/1/15_20150508.mat\n",
            "/root/.cache/kagglehub/datasets/phhasian0710/seed-iv/versions/1/eye_feature_smooth/1/5_20160406.mat\n",
            "/root/.cache/kagglehub/datasets/phhasian0710/seed-iv/versions/1/eye_feature_smooth/1/7_20150715.mat\n",
            "/root/.cache/kagglehub/datasets/phhasian0710/seed-iv/versions/1/eye_feature_smooth/1/11_20150916.mat\n",
            "/root/.cache/kagglehub/datasets/phhasian0710/seed-iv/versions/1/eye_feature_smooth/1/12_20150725.mat\n",
            "/root/.cache/kagglehub/datasets/phhasian0710/seed-iv/versions/1/eye_feature_smooth/1/2_20150915.mat\n",
            "/root/.cache/kagglehub/datasets/phhasian0710/seed-iv/versions/1/eye_feature_smooth/1/14_20151205.mat\n",
            "/root/.cache/kagglehub/datasets/phhasian0710/seed-iv/versions/1/eye_feature_smooth/3/15_20150527.mat\n",
            "/root/.cache/kagglehub/datasets/phhasian0710/seed-iv/versions/1/eye_feature_smooth/3/7_20150721.mat\n",
            "/root/.cache/kagglehub/datasets/phhasian0710/seed-iv/versions/1/eye_feature_smooth/3/10_20151023.mat\n",
            "/root/.cache/kagglehub/datasets/phhasian0710/seed-iv/versions/1/eye_feature_smooth/3/6_20150512.mat\n",
            "/root/.cache/kagglehub/datasets/phhasian0710/seed-iv/versions/1/eye_feature_smooth/3/9_20151209.mat\n",
            "/root/.cache/kagglehub/datasets/phhasian0710/seed-iv/versions/1/eye_feature_smooth/3/2_20151012.mat\n",
            "/root/.cache/kagglehub/datasets/phhasian0710/seed-iv/versions/1/eye_feature_smooth/3/4_20151123.mat\n",
            "/root/.cache/kagglehub/datasets/phhasian0710/seed-iv/versions/1/eye_feature_smooth/3/3_20151101.mat\n",
            "/root/.cache/kagglehub/datasets/phhasian0710/seed-iv/versions/1/eye_feature_smooth/3/13_20161130.mat\n",
            "/root/.cache/kagglehub/datasets/phhasian0710/seed-iv/versions/1/eye_feature_smooth/3/11_20151011.mat\n",
            "/root/.cache/kagglehub/datasets/phhasian0710/seed-iv/versions/1/eye_feature_smooth/3/1_20161126.mat\n",
            "/root/.cache/kagglehub/datasets/phhasian0710/seed-iv/versions/1/eye_feature_smooth/3/12_20150807.mat\n",
            "/root/.cache/kagglehub/datasets/phhasian0710/seed-iv/versions/1/eye_feature_smooth/3/14_20151215.mat\n",
            "/root/.cache/kagglehub/datasets/phhasian0710/seed-iv/versions/1/eye_feature_smooth/3/5_20160420.mat\n",
            "/root/.cache/kagglehub/datasets/phhasian0710/seed-iv/versions/1/eye_feature_smooth/3/8_20151117.mat\n",
            "/root/.cache/kagglehub/datasets/phhasian0710/seed-iv/versions/1/eye_raw_data/15_20150508_fixation.mat\n",
            "/root/.cache/kagglehub/datasets/phhasian0710/seed-iv/versions/1/eye_raw_data/11_20150921_blink.mat\n",
            "/root/.cache/kagglehub/datasets/phhasian0710/seed-iv/versions/1/eye_raw_data/10_20151014_PD.mat\n",
            "/root/.cache/kagglehub/datasets/phhasian0710/seed-iv/versions/1/eye_raw_data/4_20151118_pupil.mat\n",
            "/root/.cache/kagglehub/datasets/phhasian0710/seed-iv/versions/1/eye_raw_data/5_20160420_fixation.mat\n",
            "/root/.cache/kagglehub/datasets/phhasian0710/seed-iv/versions/1/eye_raw_data/5_20160406_PD.mat\n",
            "/root/.cache/kagglehub/datasets/phhasian0710/seed-iv/versions/1/eye_raw_data/1_20161125_saccade.mat\n",
            "/root/.cache/kagglehub/datasets/phhasian0710/seed-iv/versions/1/eye_raw_data/14_20151215_pupil.mat\n",
            "/root/.cache/kagglehub/datasets/phhasian0710/seed-iv/versions/1/eye_raw_data/6_20150507_PD.mat\n",
            "/root/.cache/kagglehub/datasets/phhasian0710/seed-iv/versions/1/eye_raw_data/9_20151119_event.mat\n",
            "/root/.cache/kagglehub/datasets/phhasian0710/seed-iv/versions/1/eye_raw_data/2_20150915_fixation.mat\n",
            "/root/.cache/kagglehub/datasets/phhasian0710/seed-iv/versions/1/eye_raw_data/2_20150920_pupil.mat\n",
            "/root/.cache/kagglehub/datasets/phhasian0710/seed-iv/versions/1/eye_raw_data/1_20161125_blink.mat\n",
            "/root/.cache/kagglehub/datasets/phhasian0710/seed-iv/versions/1/eye_raw_data/9_20151028_pupil.mat\n",
            "/root/.cache/kagglehub/datasets/phhasian0710/seed-iv/versions/1/eye_raw_data/13_20151115_blink.mat\n",
            "/root/.cache/kagglehub/datasets/phhasian0710/seed-iv/versions/1/eye_raw_data/13_20161130_pupil.mat\n",
            "/root/.cache/kagglehub/datasets/phhasian0710/seed-iv/versions/1/eye_raw_data/4_20151123_fixation.mat\n",
            "/root/.cache/kagglehub/datasets/phhasian0710/seed-iv/versions/1/eye_raw_data/12_20150804_saccade.mat\n",
            "/root/.cache/kagglehub/datasets/phhasian0710/seed-iv/versions/1/eye_raw_data/15_20150508_PD.mat\n",
            "/root/.cache/kagglehub/datasets/phhasian0710/seed-iv/versions/1/eye_raw_data/9_20151209_fixation.mat\n",
            "/root/.cache/kagglehub/datasets/phhasian0710/seed-iv/versions/1/eye_raw_data/15_20150527_fixation.mat\n",
            "/root/.cache/kagglehub/datasets/phhasian0710/seed-iv/versions/1/eye_raw_data/8_20151103_blink.mat\n",
            "/root/.cache/kagglehub/datasets/phhasian0710/seed-iv/versions/1/eye_raw_data/5_20160413_fixation.mat\n",
            "/root/.cache/kagglehub/datasets/phhasian0710/seed-iv/versions/1/eye_raw_data/7_20150715_pupil.mat\n",
            "/root/.cache/kagglehub/datasets/phhasian0710/seed-iv/versions/1/eye_raw_data/15_20150527_saccade.mat\n",
            "/root/.cache/kagglehub/datasets/phhasian0710/seed-iv/versions/1/eye_raw_data/12_20150725_PD.mat\n",
            "/root/.cache/kagglehub/datasets/phhasian0710/seed-iv/versions/1/eye_raw_data/14_20151205_PD.mat\n",
            "/root/.cache/kagglehub/datasets/phhasian0710/seed-iv/versions/1/eye_raw_data/6_20150512_fixation.mat\n",
            "/root/.cache/kagglehub/datasets/phhasian0710/seed-iv/versions/1/eye_raw_data/11_20150921_saccade.mat\n",
            "/root/.cache/kagglehub/datasets/phhasian0710/seed-iv/versions/1/eye_raw_data/14_20151215_fixation.mat\n",
            "/root/.cache/kagglehub/datasets/phhasian0710/seed-iv/versions/1/eye_raw_data/1_20161125_pupil.mat\n",
            "/root/.cache/kagglehub/datasets/phhasian0710/seed-iv/versions/1/eye_raw_data/6_20150512_saccade.mat\n",
            "/root/.cache/kagglehub/datasets/phhasian0710/seed-iv/versions/1/eye_raw_data/11_20150916_blink.mat\n",
            "/root/.cache/kagglehub/datasets/phhasian0710/seed-iv/versions/1/eye_raw_data/9_20151028_event.mat\n",
            "/root/.cache/kagglehub/datasets/phhasian0710/seed-iv/versions/1/eye_raw_data/6_20150512_blink.mat\n",
            "/root/.cache/kagglehub/datasets/phhasian0710/seed-iv/versions/1/eye_raw_data/1_20161126_pupil.mat\n",
            "/root/.cache/kagglehub/datasets/phhasian0710/seed-iv/versions/1/eye_raw_data/6_20150511_event.mat\n",
            "/root/.cache/kagglehub/datasets/phhasian0710/seed-iv/versions/1/eye_raw_data/8_20151110_fixation.mat\n",
            "/root/.cache/kagglehub/datasets/phhasian0710/seed-iv/versions/1/eye_raw_data/2_20151012_PD.mat\n",
            "/root/.cache/kagglehub/datasets/phhasian0710/seed-iv/versions/1/eye_raw_data/3_20150919_pupil.mat\n",
            "/root/.cache/kagglehub/datasets/phhasian0710/seed-iv/versions/1/eye_raw_data/13_20151125_blink.mat\n",
            "/root/.cache/kagglehub/datasets/phhasian0710/seed-iv/versions/1/eye_raw_data/10_20151023_blink.mat\n",
            "/root/.cache/kagglehub/datasets/phhasian0710/seed-iv/versions/1/eye_raw_data/9_20151028_blink.mat\n",
            "/root/.cache/kagglehub/datasets/phhasian0710/seed-iv/versions/1/eye_raw_data/7_20150715_event.mat\n",
            "/root/.cache/kagglehub/datasets/phhasian0710/seed-iv/versions/1/eye_raw_data/2_20150920_blink.mat\n",
            "/root/.cache/kagglehub/datasets/phhasian0710/seed-iv/versions/1/eye_raw_data/9_20151209_pupil.mat\n",
            "/root/.cache/kagglehub/datasets/phhasian0710/seed-iv/versions/1/eye_raw_data/10_20151023_event.mat\n",
            "/root/.cache/kagglehub/datasets/phhasian0710/seed-iv/versions/1/eye_raw_data/1_20161126_saccade.mat\n",
            "/root/.cache/kagglehub/datasets/phhasian0710/seed-iv/versions/1/eye_raw_data/15_20150508_blink.mat\n",
            "/root/.cache/kagglehub/datasets/phhasian0710/seed-iv/versions/1/eye_raw_data/4_20151111_PD.mat\n",
            "/root/.cache/kagglehub/datasets/phhasian0710/seed-iv/versions/1/eye_raw_data/8_20151103_pupil.mat\n",
            "/root/.cache/kagglehub/datasets/phhasian0710/seed-iv/versions/1/eye_raw_data/2_20150920_saccade.mat\n",
            "/root/.cache/kagglehub/datasets/phhasian0710/seed-iv/versions/1/eye_raw_data/6_20150511_saccade.mat\n",
            "/root/.cache/kagglehub/datasets/phhasian0710/seed-iv/versions/1/eye_raw_data/4_20151118_event.mat\n",
            "/root/.cache/kagglehub/datasets/phhasian0710/seed-iv/versions/1/eye_raw_data/8_20151103_saccade.mat\n",
            "/root/.cache/kagglehub/datasets/phhasian0710/seed-iv/versions/1/eye_raw_data/8_20151110_event.mat\n",
            "/root/.cache/kagglehub/datasets/phhasian0710/seed-iv/versions/1/eye_raw_data/13_20151125_event.mat\n",
            "/root/.cache/kagglehub/datasets/phhasian0710/seed-iv/versions/1/eye_raw_data/8_20151110_pupil.mat\n",
            "/root/.cache/kagglehub/datasets/phhasian0710/seed-iv/versions/1/eye_raw_data/12_20150804_blink.mat\n",
            "/root/.cache/kagglehub/datasets/phhasian0710/seed-iv/versions/1/eye_raw_data/10_20151021_saccade.mat\n",
            "/root/.cache/kagglehub/datasets/phhasian0710/seed-iv/versions/1/eye_raw_data/12_20150807_pupil.mat\n",
            "/root/.cache/kagglehub/datasets/phhasian0710/seed-iv/versions/1/eye_raw_data/4_20151111_pupil.mat\n",
            "/root/.cache/kagglehub/datasets/phhasian0710/seed-iv/versions/1/eye_raw_data/11_20150921_PD.mat\n",
            "/root/.cache/kagglehub/datasets/phhasian0710/seed-iv/versions/1/eye_raw_data/2_20151012_blink.mat\n",
            "/root/.cache/kagglehub/datasets/phhasian0710/seed-iv/versions/1/eye_raw_data/13_20151115_event.mat\n",
            "/root/.cache/kagglehub/datasets/phhasian0710/seed-iv/versions/1/eye_raw_data/9_20151119_saccade.mat\n",
            "/root/.cache/kagglehub/datasets/phhasian0710/seed-iv/versions/1/eye_raw_data/15_20150514_fixation.mat\n",
            "/root/.cache/kagglehub/datasets/phhasian0710/seed-iv/versions/1/eye_raw_data/10_20151023_PD.mat\n",
            "/root/.cache/kagglehub/datasets/phhasian0710/seed-iv/versions/1/eye_raw_data/2_20150920_fixation.mat\n",
            "/root/.cache/kagglehub/datasets/phhasian0710/seed-iv/versions/1/eye_raw_data/7_20150715_blink.mat\n",
            "/root/.cache/kagglehub/datasets/phhasian0710/seed-iv/versions/1/eye_raw_data/2_20150915_event.mat\n",
            "/root/.cache/kagglehub/datasets/phhasian0710/seed-iv/versions/1/eye_raw_data/10_20151021_event.mat\n",
            "/root/.cache/kagglehub/datasets/phhasian0710/seed-iv/versions/1/eye_raw_data/9_20151119_fixation.mat\n",
            "/root/.cache/kagglehub/datasets/phhasian0710/seed-iv/versions/1/eye_raw_data/3_20151018_PD.mat\n",
            "/root/.cache/kagglehub/datasets/phhasian0710/seed-iv/versions/1/eye_raw_data/14_20151215_blink.mat\n",
            "/root/.cache/kagglehub/datasets/phhasian0710/seed-iv/versions/1/eye_raw_data/5_20160420_blink.mat\n",
            "/root/.cache/kagglehub/datasets/phhasian0710/seed-iv/versions/1/eye_raw_data/12_20150804_event.mat\n",
            "/root/.cache/kagglehub/datasets/phhasian0710/seed-iv/versions/1/eye_raw_data/3_20151101_saccade.mat\n",
            "/root/.cache/kagglehub/datasets/phhasian0710/seed-iv/versions/1/eye_raw_data/5_20160413_PD.mat\n",
            "/root/.cache/kagglehub/datasets/phhasian0710/seed-iv/versions/1/eye_raw_data/13_20151115_saccade.mat\n",
            "/root/.cache/kagglehub/datasets/phhasian0710/seed-iv/versions/1/eye_raw_data/14_20151215_saccade.mat\n",
            "/root/.cache/kagglehub/datasets/phhasian0710/seed-iv/versions/1/eye_raw_data/6_20150507_saccade.mat\n",
            "/root/.cache/kagglehub/datasets/phhasian0710/seed-iv/versions/1/eye_raw_data/7_20150717_fixation.mat\n",
            "/root/.cache/kagglehub/datasets/phhasian0710/seed-iv/versions/1/eye_raw_data/1_20161125_event.mat\n",
            "/root/.cache/kagglehub/datasets/phhasian0710/seed-iv/versions/1/eye_raw_data/2_20150920_event.mat\n",
            "/root/.cache/kagglehub/datasets/phhasian0710/seed-iv/versions/1/eye_raw_data/14_20151215_PD.mat\n",
            "/root/.cache/kagglehub/datasets/phhasian0710/seed-iv/versions/1/eye_raw_data/14_20151208_blink.mat\n",
            "/root/.cache/kagglehub/datasets/phhasian0710/seed-iv/versions/1/eye_raw_data/13_20151125_fixation.mat\n",
            "/root/.cache/kagglehub/datasets/phhasian0710/seed-iv/versions/1/eye_raw_data/12_20150725_event.mat\n",
            "/root/.cache/kagglehub/datasets/phhasian0710/seed-iv/versions/1/eye_raw_data/12_20150807_blink.mat\n",
            "/root/.cache/kagglehub/datasets/phhasian0710/seed-iv/versions/1/eye_raw_data/2_20151012_pupil.mat\n",
            "/root/.cache/kagglehub/datasets/phhasian0710/seed-iv/versions/1/eye_raw_data/15_20150508_event.mat\n",
            "/root/.cache/kagglehub/datasets/phhasian0710/seed-iv/versions/1/eye_raw_data/15_20150527_pupil.mat\n",
            "/root/.cache/kagglehub/datasets/phhasian0710/seed-iv/versions/1/eye_raw_data/11_20150916_fixation.mat\n",
            "/root/.cache/kagglehub/datasets/phhasian0710/seed-iv/versions/1/eye_raw_data/12_20150804_pupil.mat\n",
            "/root/.cache/kagglehub/datasets/phhasian0710/seed-iv/versions/1/eye_raw_data/14_20151208_event.mat\n",
            "/root/.cache/kagglehub/datasets/phhasian0710/seed-iv/versions/1/eye_raw_data/4_20151118_PD.mat\n",
            "/root/.cache/kagglehub/datasets/phhasian0710/seed-iv/versions/1/eye_raw_data/6_20150507_pupil.mat\n",
            "/root/.cache/kagglehub/datasets/phhasian0710/seed-iv/versions/1/eye_raw_data/3_20151018_event.mat\n",
            "/root/.cache/kagglehub/datasets/phhasian0710/seed-iv/versions/1/eye_raw_data/2_20150915_saccade.mat\n",
            "/root/.cache/kagglehub/datasets/phhasian0710/seed-iv/versions/1/eye_raw_data/8_20151117_pupil.mat\n",
            "/root/.cache/kagglehub/datasets/phhasian0710/seed-iv/versions/1/eye_raw_data/3_20150919_saccade.mat\n",
            "/root/.cache/kagglehub/datasets/phhasian0710/seed-iv/versions/1/eye_raw_data/11_20150916_event.mat\n",
            "/root/.cache/kagglehub/datasets/phhasian0710/seed-iv/versions/1/eye_raw_data/11_20150921_pupil.mat\n",
            "/root/.cache/kagglehub/datasets/phhasian0710/seed-iv/versions/1/eye_raw_data/4_20151123_saccade.mat\n",
            "/root/.cache/kagglehub/datasets/phhasian0710/seed-iv/versions/1/eye_raw_data/1_20160518_pupil.mat\n",
            "/root/.cache/kagglehub/datasets/phhasian0710/seed-iv/versions/1/eye_raw_data/1_20160518_fixation.mat\n",
            "/root/.cache/kagglehub/datasets/phhasian0710/seed-iv/versions/1/eye_raw_data/8_20151117_PD.mat\n",
            "/root/.cache/kagglehub/datasets/phhasian0710/seed-iv/versions/1/eye_raw_data/3_20151018_pupil.mat\n",
            "/root/.cache/kagglehub/datasets/phhasian0710/seed-iv/versions/1/eye_raw_data/11_20151011_event.mat\n",
            "/root/.cache/kagglehub/datasets/phhasian0710/seed-iv/versions/1/eye_raw_data/6_20150512_PD.mat\n",
            "/root/.cache/kagglehub/datasets/phhasian0710/seed-iv/versions/1/eye_raw_data/8_20151103_event.mat\n",
            "/root/.cache/kagglehub/datasets/phhasian0710/seed-iv/versions/1/eye_raw_data/13_20151115_PD.mat\n",
            "/root/.cache/kagglehub/datasets/phhasian0710/seed-iv/versions/1/eye_raw_data/2_20151012_event.mat\n",
            "/root/.cache/kagglehub/datasets/phhasian0710/seed-iv/versions/1/eye_raw_data/3_20150919_PD.mat\n",
            "/root/.cache/kagglehub/datasets/phhasian0710/seed-iv/versions/1/eye_raw_data/7_20150721_pupil.mat\n",
            "/root/.cache/kagglehub/datasets/phhasian0710/seed-iv/versions/1/eye_raw_data/15_20150527_event.mat\n",
            "/root/.cache/kagglehub/datasets/phhasian0710/seed-iv/versions/1/eye_raw_data/8_20151103_fixation.mat\n",
            "/root/.cache/kagglehub/datasets/phhasian0710/seed-iv/versions/1/eye_raw_data/8_20151117_blink.mat\n",
            "/root/.cache/kagglehub/datasets/phhasian0710/seed-iv/versions/1/eye_raw_data/7_20150721_event.mat\n",
            "/root/.cache/kagglehub/datasets/phhasian0710/seed-iv/versions/1/eye_raw_data/5_20160406_fixation.mat\n",
            "/root/.cache/kagglehub/datasets/phhasian0710/seed-iv/versions/1/eye_raw_data/11_20151011_PD.mat\n",
            "/root/.cache/kagglehub/datasets/phhasian0710/seed-iv/versions/1/eye_raw_data/7_20150717_blink.mat\n",
            "/root/.cache/kagglehub/datasets/phhasian0710/seed-iv/versions/1/eye_raw_data/12_20150725_saccade.mat\n",
            "/root/.cache/kagglehub/datasets/phhasian0710/seed-iv/versions/1/eye_raw_data/6_20150511_PD.mat\n",
            "/root/.cache/kagglehub/datasets/phhasian0710/seed-iv/versions/1/eye_raw_data/14_20151205_saccade.mat\n",
            "/root/.cache/kagglehub/datasets/phhasian0710/seed-iv/versions/1/eye_raw_data/11_20151011_saccade.mat\n",
            "/root/.cache/kagglehub/datasets/phhasian0710/seed-iv/versions/1/eye_raw_data/10_20151023_pupil.mat\n",
            "/root/.cache/kagglehub/datasets/phhasian0710/seed-iv/versions/1/eye_raw_data/8_20151110_saccade.mat\n",
            "/root/.cache/kagglehub/datasets/phhasian0710/seed-iv/versions/1/eye_raw_data/15_20150514_pupil.mat\n",
            "/root/.cache/kagglehub/datasets/phhasian0710/seed-iv/versions/1/eye_raw_data/5_20160406_event.mat\n",
            "/root/.cache/kagglehub/datasets/phhasian0710/seed-iv/versions/1/eye_raw_data/12_20150725_pupil.mat\n",
            "/root/.cache/kagglehub/datasets/phhasian0710/seed-iv/versions/1/eye_raw_data/14_20151205_fixation.mat\n",
            "/root/.cache/kagglehub/datasets/phhasian0710/seed-iv/versions/1/eye_raw_data/10_20151021_fixation.mat\n",
            "/root/.cache/kagglehub/datasets/phhasian0710/seed-iv/versions/1/eye_raw_data/12_20150804_fixation.mat\n",
            "/root/.cache/kagglehub/datasets/phhasian0710/seed-iv/versions/1/eye_raw_data/9_20151028_saccade.mat\n",
            "/root/.cache/kagglehub/datasets/phhasian0710/seed-iv/versions/1/eye_raw_data/1_20160518_event.mat\n",
            "/root/.cache/kagglehub/datasets/phhasian0710/seed-iv/versions/1/eye_raw_data/11_20150921_fixation.mat\n",
            "/root/.cache/kagglehub/datasets/phhasian0710/seed-iv/versions/1/eye_raw_data/4_20151111_blink.mat\n",
            "/root/.cache/kagglehub/datasets/phhasian0710/seed-iv/versions/1/eye_raw_data/13_20161130_event.mat\n",
            "/root/.cache/kagglehub/datasets/phhasian0710/seed-iv/versions/1/eye_raw_data/10_20151021_pupil.mat\n",
            "/root/.cache/kagglehub/datasets/phhasian0710/seed-iv/versions/1/eye_raw_data/1_20160518_PD.mat\n",
            "/root/.cache/kagglehub/datasets/phhasian0710/seed-iv/versions/1/eye_raw_data/4_20151111_saccade.mat\n",
            "/root/.cache/kagglehub/datasets/phhasian0710/seed-iv/versions/1/eye_raw_data/14_20151205_blink.mat\n",
            "/root/.cache/kagglehub/datasets/phhasian0710/seed-iv/versions/1/eye_raw_data/1_20161126_fixation.mat\n",
            "/root/.cache/kagglehub/datasets/phhasian0710/seed-iv/versions/1/eye_raw_data/7_20150717_pupil.mat\n",
            "/root/.cache/kagglehub/datasets/phhasian0710/seed-iv/versions/1/eye_raw_data/9_20151028_fixation.mat\n",
            "/root/.cache/kagglehub/datasets/phhasian0710/seed-iv/versions/1/eye_raw_data/6_20150512_pupil.mat\n",
            "/root/.cache/kagglehub/datasets/phhasian0710/seed-iv/versions/1/eye_raw_data/5_20160406_pupil.mat\n",
            "/root/.cache/kagglehub/datasets/phhasian0710/seed-iv/versions/1/eye_raw_data/11_20150921_event.mat\n",
            "/root/.cache/kagglehub/datasets/phhasian0710/seed-iv/versions/1/eye_raw_data/2_20150920_PD.mat\n",
            "/root/.cache/kagglehub/datasets/phhasian0710/seed-iv/versions/1/eye_raw_data/13_20151125_PD.mat\n",
            "/root/.cache/kagglehub/datasets/phhasian0710/seed-iv/versions/1/eye_raw_data/14_20151205_event.mat\n",
            "/root/.cache/kagglehub/datasets/phhasian0710/seed-iv/versions/1/eye_raw_data/4_20151123_PD.mat\n",
            "/root/.cache/kagglehub/datasets/phhasian0710/seed-iv/versions/1/eye_raw_data/7_20150715_saccade.mat\n",
            "/root/.cache/kagglehub/datasets/phhasian0710/seed-iv/versions/1/eye_raw_data/11_20150916_saccade.mat\n",
            "/root/.cache/kagglehub/datasets/phhasian0710/seed-iv/versions/1/eye_raw_data/12_20150725_blink.mat\n",
            "/root/.cache/kagglehub/datasets/phhasian0710/seed-iv/versions/1/eye_raw_data/3_20150919_blink.mat\n",
            "/root/.cache/kagglehub/datasets/phhasian0710/seed-iv/versions/1/eye_raw_data/1_20160518_saccade.mat\n",
            "/root/.cache/kagglehub/datasets/phhasian0710/seed-iv/versions/1/eye_raw_data/10_20151021_PD.mat\n",
            "/root/.cache/kagglehub/datasets/phhasian0710/seed-iv/versions/1/eye_raw_data/3_20151101_PD.mat\n",
            "/root/.cache/kagglehub/datasets/phhasian0710/seed-iv/versions/1/eye_raw_data/11_20150916_pupil.mat\n",
            "/root/.cache/kagglehub/datasets/phhasian0710/seed-iv/versions/1/eye_raw_data/13_20161130_fixation.mat\n",
            "/root/.cache/kagglehub/datasets/phhasian0710/seed-iv/versions/1/eye_raw_data/4_20151123_blink.mat\n",
            "/root/.cache/kagglehub/datasets/phhasian0710/seed-iv/versions/1/eye_raw_data/4_20151111_fixation.mat\n",
            "/root/.cache/kagglehub/datasets/phhasian0710/seed-iv/versions/1/eye_raw_data/12_20150807_saccade.mat\n",
            "/root/.cache/kagglehub/datasets/phhasian0710/seed-iv/versions/1/eye_raw_data/14_20151208_pupil.mat\n",
            "/root/.cache/kagglehub/datasets/phhasian0710/seed-iv/versions/1/eye_raw_data/1_20161126_PD.mat\n",
            "/root/.cache/kagglehub/datasets/phhasian0710/seed-iv/versions/1/eye_raw_data/7_20150721_blink.mat\n",
            "/root/.cache/kagglehub/datasets/phhasian0710/seed-iv/versions/1/eye_raw_data/10_20151021_blink.mat\n",
            "/root/.cache/kagglehub/datasets/phhasian0710/seed-iv/versions/1/eye_raw_data/5_20160420_saccade.mat\n",
            "/root/.cache/kagglehub/datasets/phhasian0710/seed-iv/versions/1/eye_raw_data/14_20151208_fixation.mat\n",
            "/root/.cache/kagglehub/datasets/phhasian0710/seed-iv/versions/1/eye_raw_data/12_20150807_PD.mat\n",
            "/root/.cache/kagglehub/datasets/phhasian0710/seed-iv/versions/1/eye_raw_data/3_20151101_fixation.mat\n",
            "/root/.cache/kagglehub/datasets/phhasian0710/seed-iv/versions/1/eye_raw_data/13_20151115_pupil.mat\n",
            "/root/.cache/kagglehub/datasets/phhasian0710/seed-iv/versions/1/eye_raw_data/4_20151123_event.mat\n",
            "/root/.cache/kagglehub/datasets/phhasian0710/seed-iv/versions/1/eye_raw_data/10_20151014_fixation.mat\n",
            "/root/.cache/kagglehub/datasets/phhasian0710/seed-iv/versions/1/eye_raw_data/5_20160420_pupil.mat\n",
            "/root/.cache/kagglehub/datasets/phhasian0710/seed-iv/versions/1/eye_raw_data/13_20151125_saccade.mat\n",
            "/root/.cache/kagglehub/datasets/phhasian0710/seed-iv/versions/1/eye_raw_data/9_20151119_pupil.mat\n",
            "/root/.cache/kagglehub/datasets/phhasian0710/seed-iv/versions/1/eye_raw_data/1_20161125_fixation.mat\n",
            "/root/.cache/kagglehub/datasets/phhasian0710/seed-iv/versions/1/eye_raw_data/8_20151103_PD.mat\n",
            "/root/.cache/kagglehub/datasets/phhasian0710/seed-iv/versions/1/eye_raw_data/12_20150725_fixation.mat\n",
            "/root/.cache/kagglehub/datasets/phhasian0710/seed-iv/versions/1/eye_raw_data/5_20160420_event.mat\n",
            "/root/.cache/kagglehub/datasets/phhasian0710/seed-iv/versions/1/eye_raw_data/14_20151208_PD.mat\n",
            "/root/.cache/kagglehub/datasets/phhasian0710/seed-iv/versions/1/eye_raw_data/8_20151117_saccade.mat\n",
            "/root/.cache/kagglehub/datasets/phhasian0710/seed-iv/versions/1/eye_raw_data/9_20151209_blink.mat\n",
            "/root/.cache/kagglehub/datasets/phhasian0710/seed-iv/versions/1/eye_raw_data/6_20150507_event.mat\n",
            "/root/.cache/kagglehub/datasets/phhasian0710/seed-iv/versions/1/eye_raw_data/15_20150514_saccade.mat\n",
            "/root/.cache/kagglehub/datasets/phhasian0710/seed-iv/versions/1/eye_raw_data/2_20150915_PD.mat\n",
            "/root/.cache/kagglehub/datasets/phhasian0710/seed-iv/versions/1/eye_raw_data/9_20151209_event.mat\n",
            "/root/.cache/kagglehub/datasets/phhasian0710/seed-iv/versions/1/eye_raw_data/7_20150717_PD.mat\n",
            "/root/.cache/kagglehub/datasets/phhasian0710/seed-iv/versions/1/eye_raw_data/11_20151011_fixation.mat\n",
            "/root/.cache/kagglehub/datasets/phhasian0710/seed-iv/versions/1/eye_raw_data/15_20150527_blink.mat\n",
            "/root/.cache/kagglehub/datasets/phhasian0710/seed-iv/versions/1/eye_raw_data/4_20151118_blink.mat\n",
            "/root/.cache/kagglehub/datasets/phhasian0710/seed-iv/versions/1/eye_raw_data/10_20151014_saccade.mat\n",
            "/root/.cache/kagglehub/datasets/phhasian0710/seed-iv/versions/1/eye_raw_data/13_20161130_saccade.mat\n",
            "/root/.cache/kagglehub/datasets/phhasian0710/seed-iv/versions/1/eye_raw_data/10_20151014_blink.mat\n",
            "/root/.cache/kagglehub/datasets/phhasian0710/seed-iv/versions/1/eye_raw_data/3_20151018_saccade.mat\n",
            "/root/.cache/kagglehub/datasets/phhasian0710/seed-iv/versions/1/eye_raw_data/12_20150807_fixation.mat\n",
            "/root/.cache/kagglehub/datasets/phhasian0710/seed-iv/versions/1/eye_raw_data/5_20160413_event.mat\n",
            "/root/.cache/kagglehub/datasets/phhasian0710/seed-iv/versions/1/eye_raw_data/15_20150514_event.mat\n",
            "/root/.cache/kagglehub/datasets/phhasian0710/seed-iv/versions/1/eye_raw_data/9_20151209_PD.mat\n",
            "/root/.cache/kagglehub/datasets/phhasian0710/seed-iv/versions/1/eye_raw_data/4_20151118_saccade.mat\n",
            "/root/.cache/kagglehub/datasets/phhasian0710/seed-iv/versions/1/eye_raw_data/2_20150915_pupil.mat\n",
            "/root/.cache/kagglehub/datasets/phhasian0710/seed-iv/versions/1/eye_raw_data/1_20160518_blink.mat\n",
            "/root/.cache/kagglehub/datasets/phhasian0710/seed-iv/versions/1/eye_raw_data/3_20151101_blink.mat\n",
            "/root/.cache/kagglehub/datasets/phhasian0710/seed-iv/versions/1/eye_raw_data/10_20151014_pupil.mat\n",
            "/root/.cache/kagglehub/datasets/phhasian0710/seed-iv/versions/1/eye_raw_data/9_20151209_saccade.mat\n",
            "/root/.cache/kagglehub/datasets/phhasian0710/seed-iv/versions/1/eye_raw_data/6_20150512_event.mat\n",
            "/root/.cache/kagglehub/datasets/phhasian0710/seed-iv/versions/1/eye_raw_data/1_20161125_PD.mat\n",
            "/root/.cache/kagglehub/datasets/phhasian0710/seed-iv/versions/1/eye_raw_data/3_20151018_fixation.mat\n",
            "/root/.cache/kagglehub/datasets/phhasian0710/seed-iv/versions/1/eye_raw_data/15_20150514_blink.mat\n",
            "/root/.cache/kagglehub/datasets/phhasian0710/seed-iv/versions/1/eye_raw_data/4_20151111_event.mat\n",
            "/root/.cache/kagglehub/datasets/phhasian0710/seed-iv/versions/1/eye_raw_data/5_20160413_pupil.mat\n",
            "/root/.cache/kagglehub/datasets/phhasian0710/seed-iv/versions/1/eye_raw_data/9_20151028_PD.mat\n",
            "/root/.cache/kagglehub/datasets/phhasian0710/seed-iv/versions/1/eye_raw_data/1_20161126_event.mat\n",
            "/root/.cache/kagglehub/datasets/phhasian0710/seed-iv/versions/1/eye_raw_data/1_20161126_blink.mat\n",
            "/root/.cache/kagglehub/datasets/phhasian0710/seed-iv/versions/1/eye_raw_data/12_20150807_event.mat\n",
            "/root/.cache/kagglehub/datasets/phhasian0710/seed-iv/versions/1/eye_raw_data/14_20151215_event.mat\n",
            "/root/.cache/kagglehub/datasets/phhasian0710/seed-iv/versions/1/eye_raw_data/3_20150919_event.mat\n",
            "/root/.cache/kagglehub/datasets/phhasian0710/seed-iv/versions/1/eye_raw_data/15_20150508_pupil.mat\n",
            "/root/.cache/kagglehub/datasets/phhasian0710/seed-iv/versions/1/eye_raw_data/13_20151115_fixation.mat\n",
            "/root/.cache/kagglehub/datasets/phhasian0710/seed-iv/versions/1/eye_raw_data/13_20161130_PD.mat\n",
            "/root/.cache/kagglehub/datasets/phhasian0710/seed-iv/versions/1/eye_raw_data/5_20160420_PD.mat\n",
            "/root/.cache/kagglehub/datasets/phhasian0710/seed-iv/versions/1/eye_raw_data/9_20151119_PD.mat\n",
            "/root/.cache/kagglehub/datasets/phhasian0710/seed-iv/versions/1/eye_raw_data/11_20150916_PD.mat\n",
            "/root/.cache/kagglehub/datasets/phhasian0710/seed-iv/versions/1/eye_raw_data/7_20150721_PD.mat\n",
            "/root/.cache/kagglehub/datasets/phhasian0710/seed-iv/versions/1/eye_raw_data/4_20151123_pupil.mat\n",
            "/root/.cache/kagglehub/datasets/phhasian0710/seed-iv/versions/1/eye_raw_data/3_20151018_blink.mat\n",
            "/root/.cache/kagglehub/datasets/phhasian0710/seed-iv/versions/1/eye_raw_data/8_20151110_PD.mat\n",
            "/root/.cache/kagglehub/datasets/phhasian0710/seed-iv/versions/1/eye_raw_data/8_20151117_event.mat\n",
            "/root/.cache/kagglehub/datasets/phhasian0710/seed-iv/versions/1/eye_raw_data/11_20151011_pupil.mat\n",
            "/root/.cache/kagglehub/datasets/phhasian0710/seed-iv/versions/1/eye_raw_data/7_20150717_event.mat\n",
            "/root/.cache/kagglehub/datasets/phhasian0710/seed-iv/versions/1/eye_raw_data/13_20161130_blink.mat\n",
            "/root/.cache/kagglehub/datasets/phhasian0710/seed-iv/versions/1/eye_raw_data/15_20150514_PD.mat\n",
            "/root/.cache/kagglehub/datasets/phhasian0710/seed-iv/versions/1/eye_raw_data/9_20151119_blink.mat\n",
            "/root/.cache/kagglehub/datasets/phhasian0710/seed-iv/versions/1/eye_raw_data/10_20151023_fixation.mat\n",
            "/root/.cache/kagglehub/datasets/phhasian0710/seed-iv/versions/1/eye_raw_data/15_20150508_saccade.mat\n",
            "/root/.cache/kagglehub/datasets/phhasian0710/seed-iv/versions/1/eye_raw_data/5_20160413_blink.mat\n",
            "/root/.cache/kagglehub/datasets/phhasian0710/seed-iv/versions/1/eye_raw_data/11_20151011_blink.mat\n",
            "/root/.cache/kagglehub/datasets/phhasian0710/seed-iv/versions/1/eye_raw_data/5_20160406_blink.mat\n",
            "/root/.cache/kagglehub/datasets/phhasian0710/seed-iv/versions/1/eye_raw_data/2_20151012_saccade.mat\n",
            "/root/.cache/kagglehub/datasets/phhasian0710/seed-iv/versions/1/eye_raw_data/7_20150715_PD.mat\n",
            "/root/.cache/kagglehub/datasets/phhasian0710/seed-iv/versions/1/eye_raw_data/5_20160406_saccade.mat\n",
            "/root/.cache/kagglehub/datasets/phhasian0710/seed-iv/versions/1/eye_raw_data/5_20160413_saccade.mat\n",
            "/root/.cache/kagglehub/datasets/phhasian0710/seed-iv/versions/1/eye_raw_data/7_20150717_saccade.mat\n",
            "/root/.cache/kagglehub/datasets/phhasian0710/seed-iv/versions/1/eye_raw_data/7_20150715_fixation.mat\n",
            "/root/.cache/kagglehub/datasets/phhasian0710/seed-iv/versions/1/eye_raw_data/6_20150511_blink.mat\n",
            "/root/.cache/kagglehub/datasets/phhasian0710/seed-iv/versions/1/eye_raw_data/2_20150915_blink.mat\n",
            "/root/.cache/kagglehub/datasets/phhasian0710/seed-iv/versions/1/eye_raw_data/6_20150507_fixation.mat\n",
            "/root/.cache/kagglehub/datasets/phhasian0710/seed-iv/versions/1/eye_raw_data/6_20150511_pupil.mat\n",
            "/root/.cache/kagglehub/datasets/phhasian0710/seed-iv/versions/1/eye_raw_data/7_20150721_fixation.mat\n",
            "/root/.cache/kagglehub/datasets/phhasian0710/seed-iv/versions/1/eye_raw_data/12_20150804_PD.mat\n",
            "/root/.cache/kagglehub/datasets/phhasian0710/seed-iv/versions/1/eye_raw_data/8_20151117_fixation.mat\n",
            "/root/.cache/kagglehub/datasets/phhasian0710/seed-iv/versions/1/eye_raw_data/2_20151012_fixation.mat\n",
            "/root/.cache/kagglehub/datasets/phhasian0710/seed-iv/versions/1/eye_raw_data/6_20150511_fixation.mat\n",
            "/root/.cache/kagglehub/datasets/phhasian0710/seed-iv/versions/1/eye_raw_data/3_20150919_fixation.mat\n",
            "/root/.cache/kagglehub/datasets/phhasian0710/seed-iv/versions/1/eye_raw_data/15_20150527_PD.mat\n",
            "/root/.cache/kagglehub/datasets/phhasian0710/seed-iv/versions/1/eye_raw_data/10_20151014_event.mat\n",
            "/root/.cache/kagglehub/datasets/phhasian0710/seed-iv/versions/1/eye_raw_data/14_20151205_pupil.mat\n",
            "/root/.cache/kagglehub/datasets/phhasian0710/seed-iv/versions/1/eye_raw_data/3_20151101_pupil.mat\n",
            "/root/.cache/kagglehub/datasets/phhasian0710/seed-iv/versions/1/eye_raw_data/10_20151023_saccade.mat\n",
            "/root/.cache/kagglehub/datasets/phhasian0710/seed-iv/versions/1/eye_raw_data/8_20151110_blink.mat\n",
            "/root/.cache/kagglehub/datasets/phhasian0710/seed-iv/versions/1/eye_raw_data/14_20151208_saccade.mat\n",
            "/root/.cache/kagglehub/datasets/phhasian0710/seed-iv/versions/1/eye_raw_data/3_20151101_event.mat\n",
            "/root/.cache/kagglehub/datasets/phhasian0710/seed-iv/versions/1/eye_raw_data/13_20151125_pupil.mat\n",
            "/root/.cache/kagglehub/datasets/phhasian0710/seed-iv/versions/1/eye_raw_data/7_20150721_saccade.mat\n",
            "/root/.cache/kagglehub/datasets/phhasian0710/seed-iv/versions/1/eye_raw_data/4_20151118_fixation.mat\n",
            "/root/.cache/kagglehub/datasets/phhasian0710/seed-iv/versions/1/eye_raw_data/6_20150507_blink.mat\n"
          ]
        }
      ]
    },
    {
      "cell_type": "code",
      "source": [
        "!pip install tensorflow\n",
        "import numpy as np\n",
        "import tensorflow as tf\n",
        "import scipy\n",
        "import os\n",
        "from os import listdir\n",
        "from scipy.io import loadmat\n",
        "import pickle\n",
        "from sklearn.model_selection import StratifiedKFold\n",
        "from sklearn.model_selection import train_test_split\n",
        "from tensorflow.keras import regularizers\n",
        "from tensorflow.keras import activations"
      ],
      "metadata": {
        "colab": {
          "base_uri": "https://localhost:8080/"
        },
        "id": "2IUcWJdorprn",
        "outputId": "18222952-057e-43cf-e14a-4d09fbc9e0c1"
      },
      "execution_count": 3,
      "outputs": [
        {
          "output_type": "stream",
          "name": "stdout",
          "text": [
            "Requirement already satisfied: tensorflow in /usr/local/lib/python3.11/dist-packages (2.18.0)\n",
            "Requirement already satisfied: absl-py>=1.0.0 in /usr/local/lib/python3.11/dist-packages (from tensorflow) (1.4.0)\n",
            "Requirement already satisfied: astunparse>=1.6.0 in /usr/local/lib/python3.11/dist-packages (from tensorflow) (1.6.3)\n",
            "Requirement already satisfied: flatbuffers>=24.3.25 in /usr/local/lib/python3.11/dist-packages (from tensorflow) (25.2.10)\n",
            "Requirement already satisfied: gast!=0.5.0,!=0.5.1,!=0.5.2,>=0.2.1 in /usr/local/lib/python3.11/dist-packages (from tensorflow) (0.6.0)\n",
            "Requirement already satisfied: google-pasta>=0.1.1 in /usr/local/lib/python3.11/dist-packages (from tensorflow) (0.2.0)\n",
            "Requirement already satisfied: libclang>=13.0.0 in /usr/local/lib/python3.11/dist-packages (from tensorflow) (18.1.1)\n",
            "Requirement already satisfied: opt-einsum>=2.3.2 in /usr/local/lib/python3.11/dist-packages (from tensorflow) (3.4.0)\n",
            "Requirement already satisfied: packaging in /usr/local/lib/python3.11/dist-packages (from tensorflow) (24.2)\n",
            "Requirement already satisfied: protobuf!=4.21.0,!=4.21.1,!=4.21.2,!=4.21.3,!=4.21.4,!=4.21.5,<6.0.0dev,>=3.20.3 in /usr/local/lib/python3.11/dist-packages (from tensorflow) (5.29.4)\n",
            "Requirement already satisfied: requests<3,>=2.21.0 in /usr/local/lib/python3.11/dist-packages (from tensorflow) (2.32.3)\n",
            "Requirement already satisfied: setuptools in /usr/local/lib/python3.11/dist-packages (from tensorflow) (75.2.0)\n",
            "Requirement already satisfied: six>=1.12.0 in /usr/local/lib/python3.11/dist-packages (from tensorflow) (1.17.0)\n",
            "Requirement already satisfied: termcolor>=1.1.0 in /usr/local/lib/python3.11/dist-packages (from tensorflow) (3.0.0)\n",
            "Requirement already satisfied: typing-extensions>=3.6.6 in /usr/local/lib/python3.11/dist-packages (from tensorflow) (4.13.0)\n",
            "Requirement already satisfied: wrapt>=1.11.0 in /usr/local/lib/python3.11/dist-packages (from tensorflow) (1.17.2)\n",
            "Requirement already satisfied: grpcio<2.0,>=1.24.3 in /usr/local/lib/python3.11/dist-packages (from tensorflow) (1.71.0)\n",
            "Requirement already satisfied: tensorboard<2.19,>=2.18 in /usr/local/lib/python3.11/dist-packages (from tensorflow) (2.18.0)\n",
            "Requirement already satisfied: keras>=3.5.0 in /usr/local/lib/python3.11/dist-packages (from tensorflow) (3.8.0)\n",
            "Requirement already satisfied: numpy<2.1.0,>=1.26.0 in /usr/local/lib/python3.11/dist-packages (from tensorflow) (2.0.2)\n",
            "Requirement already satisfied: h5py>=3.11.0 in /usr/local/lib/python3.11/dist-packages (from tensorflow) (3.13.0)\n",
            "Requirement already satisfied: ml-dtypes<0.5.0,>=0.4.0 in /usr/local/lib/python3.11/dist-packages (from tensorflow) (0.4.1)\n",
            "Requirement already satisfied: tensorflow-io-gcs-filesystem>=0.23.1 in /usr/local/lib/python3.11/dist-packages (from tensorflow) (0.37.1)\n",
            "Requirement already satisfied: wheel<1.0,>=0.23.0 in /usr/local/lib/python3.11/dist-packages (from astunparse>=1.6.0->tensorflow) (0.45.1)\n",
            "Requirement already satisfied: rich in /usr/local/lib/python3.11/dist-packages (from keras>=3.5.0->tensorflow) (13.9.4)\n",
            "Requirement already satisfied: namex in /usr/local/lib/python3.11/dist-packages (from keras>=3.5.0->tensorflow) (0.0.8)\n",
            "Requirement already satisfied: optree in /usr/local/lib/python3.11/dist-packages (from keras>=3.5.0->tensorflow) (0.14.1)\n",
            "Requirement already satisfied: charset-normalizer<4,>=2 in /usr/local/lib/python3.11/dist-packages (from requests<3,>=2.21.0->tensorflow) (3.4.1)\n",
            "Requirement already satisfied: idna<4,>=2.5 in /usr/local/lib/python3.11/dist-packages (from requests<3,>=2.21.0->tensorflow) (3.10)\n",
            "Requirement already satisfied: urllib3<3,>=1.21.1 in /usr/local/lib/python3.11/dist-packages (from requests<3,>=2.21.0->tensorflow) (2.3.0)\n",
            "Requirement already satisfied: certifi>=2017.4.17 in /usr/local/lib/python3.11/dist-packages (from requests<3,>=2.21.0->tensorflow) (2025.1.31)\n",
            "Requirement already satisfied: markdown>=2.6.8 in /usr/local/lib/python3.11/dist-packages (from tensorboard<2.19,>=2.18->tensorflow) (3.7)\n",
            "Requirement already satisfied: tensorboard-data-server<0.8.0,>=0.7.0 in /usr/local/lib/python3.11/dist-packages (from tensorboard<2.19,>=2.18->tensorflow) (0.7.2)\n",
            "Requirement already satisfied: werkzeug>=1.0.1 in /usr/local/lib/python3.11/dist-packages (from tensorboard<2.19,>=2.18->tensorflow) (3.1.3)\n",
            "Requirement already satisfied: MarkupSafe>=2.1.1 in /usr/local/lib/python3.11/dist-packages (from werkzeug>=1.0.1->tensorboard<2.19,>=2.18->tensorflow) (3.0.2)\n",
            "Requirement already satisfied: markdown-it-py>=2.2.0 in /usr/local/lib/python3.11/dist-packages (from rich->keras>=3.5.0->tensorflow) (3.0.0)\n",
            "Requirement already satisfied: pygments<3.0.0,>=2.13.0 in /usr/local/lib/python3.11/dist-packages (from rich->keras>=3.5.0->tensorflow) (2.18.0)\n",
            "Requirement already satisfied: mdurl~=0.1 in /usr/local/lib/python3.11/dist-packages (from markdown-it-py>=2.2.0->rich->keras>=3.5.0->tensorflow) (0.1.2)\n"
          ]
        }
      ]
    },
    {
      "cell_type": "code",
      "source": [
        "import os\n",
        "import numpy as np\n",
        "from scipy.io import loadmat\n",
        "directories=[\"/root/.cache/kagglehub/datasets/phhasian0710/seed-iv/versions/1/eeg_feature_smooth/{}\".format(i+1) for i in range(3)]\n",
        "print(directories)"
      ],
      "metadata": {
        "colab": {
          "base_uri": "https://localhost:8080/"
        },
        "id": "yc4uN4Dqruag",
        "outputId": "bc5f9c71-0f20-4010-91b7-20b9ebf63e91"
      },
      "execution_count": 4,
      "outputs": [
        {
          "output_type": "stream",
          "name": "stdout",
          "text": [
            "['/root/.cache/kagglehub/datasets/phhasian0710/seed-iv/versions/1/eeg_feature_smooth/1', '/root/.cache/kagglehub/datasets/phhasian0710/seed-iv/versions/1/eeg_feature_smooth/2', '/root/.cache/kagglehub/datasets/phhasian0710/seed-iv/versions/1/eeg_feature_smooth/3']\n"
          ]
        }
      ]
    },
    {
      "cell_type": "code",
      "source": [
        "# EEG channel coordinates\n",
        "channel_coords = [\n",
        "    ['0', '0', 'AF3', 'FP1', 'FPZ', 'FP2', 'AF4', '0', '0'],\n",
        "    ['F7', 'F5', 'F3', 'F1', 'FZ', 'F2', 'F4', 'F6', 'F8'],\n",
        "    ['FT7', 'FC5', 'FC3', 'FC1', 'FCZ', 'FC2', 'FC4', 'FC6', 'FT8'],\n",
        "    ['T7', 'C5', 'C3', 'C1', 'CZ', 'C2', 'C4', 'C6', 'T8'],\n",
        "    ['TP7', 'CP5', 'CP3', 'CP1', 'CPZ', 'CP2', 'CP4', 'CP6', 'TP8'],\n",
        "    ['P7', 'P5', 'P3', 'P1', 'PZ', 'P2', 'P4', 'P6', 'P8'],\n",
        "    ['0', 'PO7', 'PO5', 'PO3', 'POZ', 'PO4', 'PO6', 'PO8', '0'],\n",
        "    ['0', '0', 'CB1', 'O1', 'OZ', 'O2', 'CB2', '0', '0']\n",
        "]"
      ],
      "metadata": {
        "id": "8Erq94BfryAL"
      },
      "execution_count": 5,
      "outputs": []
    },
    {
      "cell_type": "code",
      "source": [
        "channel_list = [\n",
        "    'FP1', 'FPZ', 'FP2', 'AF3', 'AF4', 'F7', 'F5', 'F3', 'F1', 'FZ',\n",
        "    'F2', 'F4', 'F6', 'F8', 'FT7', 'FC5', 'FC3', 'FC1', 'FCZ', 'FC2',\n",
        "    'FC4', 'FC6', 'FT8', 'T7', 'C5', 'C3', 'C1', 'CZ', 'C2', 'C4',\n",
        "    'C6', 'T8', 'TP7', 'CP5', 'CP3', 'CP1', 'CPZ', 'CP2', 'CP4',\n",
        "    'CP6', 'TP8', 'P7', 'P5', 'P3', 'P1', 'PZ', 'P2', 'P4', 'P6',\n",
        "    'P8', 'PO7', 'PO5', 'PO3', 'POZ', 'PO4', 'PO6', 'PO8', 'CB1',\n",
        "    'O1', 'OZ', 'O2', 'CB2'\n",
        "]\n",
        "# Verifying the length of channel coordinates\n",
        "print(len(channel_coords), len(channel_coords[0]))"
      ],
      "metadata": {
        "colab": {
          "base_uri": "https://localhost:8080/"
        },
        "id": "63ISGx3jr28A",
        "outputId": "ce85c1b6-424b-4f2c-fef7-9ab425884721"
      },
      "execution_count": 6,
      "outputs": [
        {
          "output_type": "stream",
          "name": "stdout",
          "text": [
            "8 9\n"
          ]
        }
      ]
    },
    {
      "cell_type": "code",
      "source": [
        "# Creating a dictionary to map channel names to coordinates\n",
        "coord_dict = {}\n",
        "for n in range(len(channel_list)):\n",
        "    for i, l in enumerate(channel_coords):\n",
        "        for j, x in enumerate(l):\n",
        "            if channel_list[n] == x:\n",
        "                coord_dict[n] = (i, j)\n",
        "print(coord_dict)"
      ],
      "metadata": {
        "colab": {
          "base_uri": "https://localhost:8080/"
        },
        "id": "Tlg_-TEcr7fJ",
        "outputId": "4d944f5f-c3db-4e47-e939-761915935af4"
      },
      "execution_count": 7,
      "outputs": [
        {
          "output_type": "stream",
          "name": "stdout",
          "text": [
            "{0: (0, 3), 1: (0, 4), 2: (0, 5), 3: (0, 2), 4: (0, 6), 5: (1, 0), 6: (1, 1), 7: (1, 2), 8: (1, 3), 9: (1, 4), 10: (1, 5), 11: (1, 6), 12: (1, 7), 13: (1, 8), 14: (2, 0), 15: (2, 1), 16: (2, 2), 17: (2, 3), 18: (2, 4), 19: (2, 5), 20: (2, 6), 21: (2, 7), 22: (2, 8), 23: (3, 0), 24: (3, 1), 25: (3, 2), 26: (3, 3), 27: (3, 4), 28: (3, 5), 29: (3, 6), 30: (3, 7), 31: (3, 8), 32: (4, 0), 33: (4, 1), 34: (4, 2), 35: (4, 3), 36: (4, 4), 37: (4, 5), 38: (4, 6), 39: (4, 7), 40: (4, 8), 41: (5, 0), 42: (5, 1), 43: (5, 2), 44: (5, 3), 45: (5, 4), 46: (5, 5), 47: (5, 6), 48: (5, 7), 49: (5, 8), 50: (6, 1), 51: (6, 2), 52: (6, 3), 53: (6, 4), 54: (6, 5), 55: (6, 6), 56: (6, 7), 57: (7, 2), 58: (7, 3), 59: (7, 4), 60: (7, 5), 61: (7, 6)}\n"
          ]
        }
      ]
    },
    {
      "cell_type": "code",
      "source": [
        "# Initialize the array with the correct shape\n",
        "n = 24\n",
        "perSample = ['de_movingAve', 'de_LDS', 'psd_movingAve', 'psd_LDS']\n",
        "array = np.zeros(shape=(len(directories), len(os.listdir(directories[0])), n, 4, 8, 9, 5, 64))"
      ],
      "metadata": {
        "id": "tR-_aDvDsGz3"
      },
      "execution_count": 8,
      "outputs": []
    },
    {
      "cell_type": "code",
      "source": [
        "# Iterate over directories to load and process data\n",
        "for h, dire in enumerate(directories):\n",
        "    print(dire)\n",
        "    data = [loadmat(os.path.join(dire, file)) for file in os.listdir(dire)]\n",
        "    for i, bigsample in enumerate(data):\n",
        "      for j in range(n):\n",
        "            for k, key in enumerate(perSample):\n",
        "                # Transpose and pad the sample\n",
        "                sample = np.transpose(np.array(bigsample[key + str(j+1)]), (0, 2, 1))\n",
        "                sample = np.pad(sample, [(0, 0), (0, 0), (0, 64 - sample.shape[2])])\n",
        "                # Fill the array based on channel locations\n",
        "                for l, channel in enumerate(sample):\n",
        "                  array[h][i][j][k][coord_dict[l][0]][coord_dict[l][1]] = channel\n",
        "\n",
        "# Output the shape of the final array\n",
        "print(array.shape)"
      ],
      "metadata": {
        "colab": {
          "base_uri": "https://localhost:8080/"
        },
        "id": "jlYfMGT5sJz1",
        "outputId": "6cdb436c-a192-4752-835e-9f5feb26522a"
      },
      "execution_count": 9,
      "outputs": [
        {
          "output_type": "stream",
          "name": "stdout",
          "text": [
            "/root/.cache/kagglehub/datasets/phhasian0710/seed-iv/versions/1/eeg_feature_smooth/1\n",
            "/root/.cache/kagglehub/datasets/phhasian0710/seed-iv/versions/1/eeg_feature_smooth/2\n",
            "/root/.cache/kagglehub/datasets/phhasian0710/seed-iv/versions/1/eeg_feature_smooth/3\n",
            "(3, 15, 24, 4, 8, 9, 5, 64)\n"
          ]
        }
      ]
    },
    {
      "cell_type": "code",
      "source": [
        "_X = array.reshape(np.prod(array.shape[0:3]), *array.shape[3:])\n",
        "print(_X.shape)\n",
        "X_loso = array[:,:,:,1,:,:,]\n",
        "X_loso = np.transpose(X_loso, (0,1,2,6,3,4,5))\n",
        "print(X_loso.shape)"
      ],
      "metadata": {
        "colab": {
          "base_uri": "https://localhost:8080/"
        },
        "id": "t0ZoB1DzsOwK",
        "outputId": "c0187b97-ccba-44f5-c3e7-f6cbf5fea50b"
      },
      "execution_count": 10,
      "outputs": [
        {
          "output_type": "stream",
          "name": "stdout",
          "text": [
            "(1080, 4, 8, 9, 5, 64)\n",
            "(3, 15, 24, 64, 8, 9, 5)\n"
          ]
        }
      ]
    },
    {
      "cell_type": "code",
      "source": [
        "session1_label = [1,2,3,0,2,0,0,1,0,1,2,1,1,1,2,3,2,2,3,3,0,3,0,3]\n",
        "session2_label = [2,1,3,0,0,2,0,2,3,3,2,3,2,0,1,1,2,1,0,3,0,1,3,1]\n",
        "session3_label = [1,2,2,1,3,3,3,1,1,2,1,0,2,3,3,0,2,3,0,0,2,0,1,0]\n",
        "labels = {0: 'neutral', 1: 'sad', 2: 'fear', 3: 'happy'}\n",
        "y = np.array(session1_label * 15 + session2_label * 15 + session3_label * 15)\n",
        "print(y.shape)\n",
        "y_loso = np.reshape(y, (3,15,24))\n",
        "print(y_loso.shape)"
      ],
      "metadata": {
        "colab": {
          "base_uri": "https://localhost:8080/"
        },
        "id": "iFAvtBAHsw0r",
        "outputId": "be84a0cf-4da7-40ee-e166-f61fabce3320"
      },
      "execution_count": 11,
      "outputs": [
        {
          "output_type": "stream",
          "name": "stdout",
          "text": [
            "(1080,)\n",
            "(3, 15, 24)\n"
          ]
        }
      ]
    },
    {
      "cell_type": "code",
      "source": [
        "def fully_conv():\n",
        "    return tf.keras.Sequential([\n",
        "    tf.keras.layers.SeparableConv1D(128, 3, data_format='channels_last', padding=\"same\", activation='relu',input_shape=X.shape[1:]),\n",
        "    tf.keras.layers.MaxPooling1D(pool_size=2, strides=2, data_format=\"channels_last\"),\n",
        "    tf.keras.layers.SeparableConv1D(128, 3, data_format='channels_last', padding=\"same\", activation='relu'),\n",
        "    tf.keras.layers.MaxPooling1D(pool_size=2, strides=2, data_format=\"channels_last\"),\n",
        "    tf.keras.layers.SeparableConv1D(128, 3, data_format='channels_last', padding=\"same\", activation='relu'),\n",
        "    tf.keras.layers.MaxPooling1D(\n",
        "    pool_size=2, strides=2, data_format=\"channels_last\"),\n",
        "    tf.keras.layers.SeparableConv1D(128, 3, data_format='channels_last', padding=\"same\", activation='relu'),\n",
        "    tf.keras.layers.MaxPooling1D(\n",
        "    pool_size=2, strides=2, data_format=\"channels_last\"),\n",
        "    tf.keras.layers.Flatten(),\n",
        "    tf.keras.layers.Dense(128, activation='relu'),\n",
        "    tf.keras.layers.Dense(4,activation='softmax')\n",
        "])"
      ],
      "metadata": {
        "id": "aArpA5a789fs"
      },
      "execution_count": 12,
      "outputs": []
    },
    {
      "cell_type": "code",
      "source": [
        "def single_conv():\n",
        "    return tf.keras.Sequential([\n",
        "    tf.keras.layers.Conv1D(32, 3, activation='relu',input_shape=X.shape[1:]),\n",
        "    tf.keras.layers.MaxPooling1D(\n",
        "    pool_size=2, strides=2, data_format=\"channels_last\"),\n",
        "    tf.keras.layers.Flatten(),\n",
        "    tf.keras.layers.Dense(128, activation='relu'),\n",
        "    tf.keras.layers.Dense(32),\n",
        "    tf.keras.layers.Dense(4)\n",
        "])"
      ],
      "metadata": {
        "id": "rNq5YtvR9DvL"
      },
      "execution_count": 13,
      "outputs": []
    },
    {
      "cell_type": "code",
      "source": [
        "def LSTM():\n",
        "    return tf.keras.Sequential([\n",
        "    tf.keras.layers.LSTM(100),\n",
        "    tf.keras.layers.Dense(128, activation='relu'),\n",
        "    tf.keras.layers.Dense(10)\n",
        "    ])\n",
        "def dense():\n",
        "    return tf.keras.Sequential([\n",
        "    tf.keras.layers.Flatten(input_shape=X.shape[1:]),\n",
        "    tf.keras.layers.Dense(128, activation='relu'),\n",
        "    tf.keras.layers.Dense(32),\n",
        "    tf.keras.layers.Dense(4)\n",
        "])"
      ],
      "metadata": {
        "id": "d-w4C1m89I7t"
      },
      "execution_count": 14,
      "outputs": []
    },
    {
      "cell_type": "code",
      "source": [
        "def convlstm2d():\n",
        "    model = tf.keras.Sequential()\n",
        "    model.add(tf.keras.layers.ConvLSTM2D(16, kernel_size=5, padding=\"same\", return_sequences = False, input_shape=X.shape[1:]))\n",
        "    model.add(tf.keras.layers.Dropout(0.2))\n",
        "    model.add(tf.keras.layers.Flatten())\n",
        "    model.add(tf.keras.layers.Dense(256, activation=\"relu\"))\n",
        "    model.add(tf.keras.layers.Dense(10))\n",
        "    return model"
      ],
      "metadata": {
        "id": "1LidSPub9Y4M"
      },
      "execution_count": 17,
      "outputs": []
    },
    {
      "cell_type": "code",
      "source": [
        "X = _X.transpose(0, 5, 1,2,3,4)\n",
        "print(X.shape)\n",
        "X = X.reshape(X.shape[0], X.shape[1], np.prod(X.shape[2:]))\n",
        "print(X.shape)\n",
        "X_train, X_test, y_train, y_test = train_test_split(X, y, test_size=0.2, random_state=42)\n",
        "model = fully_conv()\n",
        "model.compile(optimizer='adam',loss=tf.keras.losses.SparseCategoricalCrossentropy(from_logits=True),metrics=['accuracy'])\n",
        "model.fit(X, y, epochs=50, batch_size=32, validation_split=0.2)\n",
        "loss, acc = model.evaluate(X, y)\n",
        "print(f\"Test Accuracy: {acc}\")"
      ],
      "metadata": {
        "colab": {
          "base_uri": "https://localhost:8080/"
        },
        "id": "F4lWhl609e2L",
        "outputId": "17d68ecb-d1b3-4377-8c26-50473d0a71a4"
      },
      "execution_count": 18,
      "outputs": [
        {
          "output_type": "stream",
          "name": "stdout",
          "text": [
            "(1080, 64, 4, 8, 9, 5)\n",
            "(1080, 64, 1440)\n"
          ]
        },
        {
          "output_type": "stream",
          "name": "stderr",
          "text": [
            "/usr/local/lib/python3.11/dist-packages/keras/src/layers/convolutional/base_separable_conv.py:104: UserWarning: Do not pass an `input_shape`/`input_dim` argument to a layer. When using Sequential models, prefer using an `Input(shape)` object as the first layer in the model instead.\n",
            "  super().__init__(\n"
          ]
        },
        {
          "output_type": "stream",
          "name": "stdout",
          "text": [
            "Epoch 1/50\n"
          ]
        },
        {
          "output_type": "stream",
          "name": "stderr",
          "text": [
            "/usr/local/lib/python3.11/dist-packages/keras/src/backend/tensorflow/nn.py:708: UserWarning: \"`sparse_categorical_crossentropy` received `from_logits=True`, but the `output` argument was produced by a Softmax activation and thus does not represent logits. Was this intended?\n",
            "  output, from_logits = _get_logits(\n"
          ]
        },
        {
          "output_type": "stream",
          "name": "stdout",
          "text": [
            "\u001b[1m27/27\u001b[0m \u001b[32m━━━━━━━━━━━━━━━━━━━━\u001b[0m\u001b[37m\u001b[0m \u001b[1m6s\u001b[0m 116ms/step - accuracy: 0.2813 - loss: 2660.7061 - val_accuracy: 0.2824 - val_loss: 340.2416\n",
            "Epoch 2/50\n",
            "\u001b[1m27/27\u001b[0m \u001b[32m━━━━━━━━━━━━━━━━━━━━\u001b[0m\u001b[37m\u001b[0m \u001b[1m3s\u001b[0m 101ms/step - accuracy: 0.3162 - loss: 1580.1527 - val_accuracy: 0.3148 - val_loss: 18.9671\n",
            "Epoch 3/50\n",
            "\u001b[1m27/27\u001b[0m \u001b[32m━━━━━━━━━━━━━━━━━━━━\u001b[0m\u001b[37m\u001b[0m \u001b[1m5s\u001b[0m 100ms/step - accuracy: 0.3510 - loss: 68.8944 - val_accuracy: 0.3611 - val_loss: 10.9775\n",
            "Epoch 4/50\n",
            "\u001b[1m27/27\u001b[0m \u001b[32m━━━━━━━━━━━━━━━━━━━━\u001b[0m\u001b[37m\u001b[0m \u001b[1m6s\u001b[0m 124ms/step - accuracy: 0.3548 - loss: 83.6672 - val_accuracy: 0.3657 - val_loss: 4313.7051\n",
            "Epoch 5/50\n",
            "\u001b[1m27/27\u001b[0m \u001b[32m━━━━━━━━━━━━━━━━━━━━\u001b[0m\u001b[37m\u001b[0m \u001b[1m5s\u001b[0m 117ms/step - accuracy: 0.3627 - loss: 174.8836 - val_accuracy: 0.2917 - val_loss: 777.0311\n",
            "Epoch 6/50\n",
            "\u001b[1m27/27\u001b[0m \u001b[32m━━━━━━━━━━━━━━━━━━━━\u001b[0m\u001b[37m\u001b[0m \u001b[1m3s\u001b[0m 94ms/step - accuracy: 0.4526 - loss: 15.1511 - val_accuracy: 0.3194 - val_loss: 1556.4722\n",
            "Epoch 7/50\n",
            "\u001b[1m27/27\u001b[0m \u001b[32m━━━━━━━━━━━━━━━━━━━━\u001b[0m\u001b[37m\u001b[0m \u001b[1m3s\u001b[0m 101ms/step - accuracy: 0.3622 - loss: 13.8414 - val_accuracy: 0.3380 - val_loss: 5004.6191\n",
            "Epoch 8/50\n",
            "\u001b[1m27/27\u001b[0m \u001b[32m━━━━━━━━━━━━━━━━━━━━\u001b[0m\u001b[37m\u001b[0m \u001b[1m6s\u001b[0m 148ms/step - accuracy: 0.4663 - loss: 3.5984 - val_accuracy: 0.3657 - val_loss: 2925.4163\n",
            "Epoch 9/50\n",
            "\u001b[1m27/27\u001b[0m \u001b[32m━━━━━━━━━━━━━━━━━━━━\u001b[0m\u001b[37m\u001b[0m \u001b[1m3s\u001b[0m 100ms/step - accuracy: 0.4842 - loss: 2.1251 - val_accuracy: 0.3333 - val_loss: 4220.1860\n",
            "Epoch 10/50\n",
            "\u001b[1m27/27\u001b[0m \u001b[32m━━━━━━━━━━━━━━━━━━━━\u001b[0m\u001b[37m\u001b[0m \u001b[1m3s\u001b[0m 96ms/step - accuracy: 0.4149 - loss: 15.4960 - val_accuracy: 0.3704 - val_loss: 2061.0601\n",
            "Epoch 11/50\n",
            "\u001b[1m27/27\u001b[0m \u001b[32m━━━━━━━━━━━━━━━━━━━━\u001b[0m\u001b[37m\u001b[0m \u001b[1m3s\u001b[0m 100ms/step - accuracy: 0.4653 - loss: 9.2899 - val_accuracy: 0.2870 - val_loss: 693.2809\n",
            "Epoch 12/50\n",
            "\u001b[1m27/27\u001b[0m \u001b[32m━━━━━━━━━━━━━━━━━━━━\u001b[0m\u001b[37m\u001b[0m \u001b[1m6s\u001b[0m 133ms/step - accuracy: 0.4340 - loss: 155.5468 - val_accuracy: 0.3750 - val_loss: 1075.7258\n",
            "Epoch 13/50\n",
            "\u001b[1m27/27\u001b[0m \u001b[32m━━━━━━━━━━━━━━━━━━━━\u001b[0m\u001b[37m\u001b[0m \u001b[1m3s\u001b[0m 98ms/step - accuracy: 0.5023 - loss: 15.9477 - val_accuracy: 0.3194 - val_loss: 5723.8257\n",
            "Epoch 14/50\n",
            "\u001b[1m27/27\u001b[0m \u001b[32m━━━━━━━━━━━━━━━━━━━━\u001b[0m\u001b[37m\u001b[0m \u001b[1m3s\u001b[0m 101ms/step - accuracy: 0.3516 - loss: 35.2121 - val_accuracy: 0.3333 - val_loss: 9668.0977\n",
            "Epoch 15/50\n",
            "\u001b[1m27/27\u001b[0m \u001b[32m━━━━━━━━━━━━━━━━━━━━\u001b[0m\u001b[37m\u001b[0m \u001b[1m3s\u001b[0m 98ms/step - accuracy: 0.3541 - loss: 113.9150 - val_accuracy: 0.2870 - val_loss: 18901.6641\n",
            "Epoch 16/50\n",
            "\u001b[1m27/27\u001b[0m \u001b[32m━━━━━━━━━━━━━━━━━━━━\u001b[0m\u001b[37m\u001b[0m \u001b[1m5s\u001b[0m 97ms/step - accuracy: 0.3964 - loss: 140.8011 - val_accuracy: 0.3241 - val_loss: 11420.5674\n",
            "Epoch 17/50\n",
            "\u001b[1m27/27\u001b[0m \u001b[32m━━━━━━━━━━━━━━━━━━━━\u001b[0m\u001b[37m\u001b[0m \u001b[1m6s\u001b[0m 129ms/step - accuracy: 0.4431 - loss: 7.3777 - val_accuracy: 0.3565 - val_loss: 10388.9053\n",
            "Epoch 18/50\n",
            "\u001b[1m27/27\u001b[0m \u001b[32m━━━━━━━━━━━━━━━━━━━━\u001b[0m\u001b[37m\u001b[0m \u001b[1m4s\u001b[0m 138ms/step - accuracy: 0.4884 - loss: 11.5730 - val_accuracy: 0.3287 - val_loss: 9748.0068\n",
            "Epoch 19/50\n",
            "\u001b[1m27/27\u001b[0m \u001b[32m━━━━━━━━━━━━━━━━━━━━\u001b[0m\u001b[37m\u001b[0m \u001b[1m7s\u001b[0m 191ms/step - accuracy: 0.5181 - loss: 1.7953 - val_accuracy: 0.3426 - val_loss: 9241.7676\n",
            "Epoch 20/50\n",
            "\u001b[1m27/27\u001b[0m \u001b[32m━━━━━━━━━━━━━━━━━━━━\u001b[0m\u001b[37m\u001b[0m \u001b[1m8s\u001b[0m 110ms/step - accuracy: 0.5644 - loss: 1.3578 - val_accuracy: 0.3565 - val_loss: 8992.8516\n",
            "Epoch 21/50\n",
            "\u001b[1m27/27\u001b[0m \u001b[32m━━━━━━━━━━━━━━━━━━━━\u001b[0m\u001b[37m\u001b[0m \u001b[1m3s\u001b[0m 105ms/step - accuracy: 0.5594 - loss: 1.2476 - val_accuracy: 0.3380 - val_loss: 8940.0830\n",
            "Epoch 22/50\n",
            "\u001b[1m27/27\u001b[0m \u001b[32m━━━━━━━━━━━━━━━━━━━━\u001b[0m\u001b[37m\u001b[0m \u001b[1m5s\u001b[0m 104ms/step - accuracy: 0.5954 - loss: 1.1724 - val_accuracy: 0.3565 - val_loss: 8823.6240\n",
            "Epoch 23/50\n",
            "\u001b[1m27/27\u001b[0m \u001b[32m━━━━━━━━━━━━━━━━━━━━\u001b[0m\u001b[37m\u001b[0m \u001b[1m4s\u001b[0m 137ms/step - accuracy: 0.6141 - loss: 1.0258 - val_accuracy: 0.3426 - val_loss: 8719.4414\n",
            "Epoch 24/50\n",
            "\u001b[1m27/27\u001b[0m \u001b[32m━━━━━━━━━━━━━━━━━━━━\u001b[0m\u001b[37m\u001b[0m \u001b[1m3s\u001b[0m 101ms/step - accuracy: 0.6186 - loss: 1.0330 - val_accuracy: 0.3519 - val_loss: 8627.5293\n",
            "Epoch 25/50\n",
            "\u001b[1m27/27\u001b[0m \u001b[32m━━━━━━━━━━━━━━━━━━━━\u001b[0m\u001b[37m\u001b[0m \u001b[1m3s\u001b[0m 102ms/step - accuracy: 0.6030 - loss: 0.9928 - val_accuracy: 0.3611 - val_loss: 8516.5771\n",
            "Epoch 26/50\n",
            "\u001b[1m27/27\u001b[0m \u001b[32m━━━━━━━━━━━━━━━━━━━━\u001b[0m\u001b[37m\u001b[0m \u001b[1m6s\u001b[0m 133ms/step - accuracy: 0.6565 - loss: 0.8975 - val_accuracy: 0.3472 - val_loss: 8425.1914\n",
            "Epoch 27/50\n",
            "\u001b[1m27/27\u001b[0m \u001b[32m━━━━━━━━━━━━━━━━━━━━\u001b[0m\u001b[37m\u001b[0m \u001b[1m4s\u001b[0m 103ms/step - accuracy: 0.6404 - loss: 0.8782 - val_accuracy: 0.3519 - val_loss: 8330.6494\n",
            "Epoch 28/50\n",
            "\u001b[1m27/27\u001b[0m \u001b[32m━━━━━━━━━━━━━━━━━━━━\u001b[0m\u001b[37m\u001b[0m \u001b[1m5s\u001b[0m 106ms/step - accuracy: 0.6763 - loss: 0.8209 - val_accuracy: 0.3565 - val_loss: 8233.3828\n",
            "Epoch 29/50\n",
            "\u001b[1m27/27\u001b[0m \u001b[32m━━━━━━━━━━━━━━━━━━━━\u001b[0m\u001b[37m\u001b[0m \u001b[1m4s\u001b[0m 146ms/step - accuracy: 0.7069 - loss: 0.7649 - val_accuracy: 0.3565 - val_loss: 8151.6538\n",
            "Epoch 30/50\n",
            "\u001b[1m27/27\u001b[0m \u001b[32m━━━━━━━━━━━━━━━━━━━━\u001b[0m\u001b[37m\u001b[0m \u001b[1m3s\u001b[0m 95ms/step - accuracy: 0.7135 - loss: 0.7985 - val_accuracy: 0.3657 - val_loss: 8084.8833\n",
            "Epoch 31/50\n",
            "\u001b[1m27/27\u001b[0m \u001b[32m━━━━━━━━━━━━━━━━━━━━\u001b[0m\u001b[37m\u001b[0m \u001b[1m5s\u001b[0m 100ms/step - accuracy: 0.7088 - loss: 0.7335 - val_accuracy: 0.3565 - val_loss: 8022.0435\n",
            "Epoch 32/50\n",
            "\u001b[1m27/27\u001b[0m \u001b[32m━━━━━━━━━━━━━━━━━━━━\u001b[0m\u001b[37m\u001b[0m \u001b[1m6s\u001b[0m 138ms/step - accuracy: 0.7397 - loss: 0.6926 - val_accuracy: 0.3657 - val_loss: 7965.6748\n",
            "Epoch 33/50\n",
            "\u001b[1m27/27\u001b[0m \u001b[32m━━━━━━━━━━━━━━━━━━━━\u001b[0m\u001b[37m\u001b[0m \u001b[1m4s\u001b[0m 101ms/step - accuracy: 0.7459 - loss: 0.6835 - val_accuracy: 0.3704 - val_loss: 7940.9028\n",
            "Epoch 34/50\n",
            "\u001b[1m27/27\u001b[0m \u001b[32m━━━━━━━━━━━━━━━━━━━━\u001b[0m\u001b[37m\u001b[0m \u001b[1m3s\u001b[0m 97ms/step - accuracy: 0.7679 - loss: 0.6670 - val_accuracy: 0.3796 - val_loss: 7914.0596\n",
            "Epoch 35/50\n",
            "\u001b[1m27/27\u001b[0m \u001b[32m━━━━━━━━━━━━━━━━━━━━\u001b[0m\u001b[37m\u001b[0m \u001b[1m6s\u001b[0m 143ms/step - accuracy: 0.7376 - loss: 0.6938 - val_accuracy: 0.3796 - val_loss: 7875.3555\n",
            "Epoch 36/50\n",
            "\u001b[1m27/27\u001b[0m \u001b[32m━━━━━━━━━━━━━━━━━━━━\u001b[0m\u001b[37m\u001b[0m \u001b[1m3s\u001b[0m 99ms/step - accuracy: 0.7620 - loss: 0.6532 - val_accuracy: 0.3750 - val_loss: 7861.3145\n",
            "Epoch 37/50\n",
            "\u001b[1m27/27\u001b[0m \u001b[32m━━━━━━━━━━━━━━━━━━━━\u001b[0m\u001b[37m\u001b[0m \u001b[1m3s\u001b[0m 96ms/step - accuracy: 0.7239 - loss: 0.7169 - val_accuracy: 0.3657 - val_loss: 7608.5635\n",
            "Epoch 38/50\n",
            "\u001b[1m27/27\u001b[0m \u001b[32m━━━━━━━━━━━━━━━━━━━━\u001b[0m\u001b[37m\u001b[0m \u001b[1m6s\u001b[0m 128ms/step - accuracy: 0.7815 - loss: 0.6052 - val_accuracy: 0.3843 - val_loss: 7633.5054\n",
            "Epoch 39/50\n",
            "\u001b[1m27/27\u001b[0m \u001b[32m━━━━━━━━━━━━━━━━━━━━\u001b[0m\u001b[37m\u001b[0m \u001b[1m4s\u001b[0m 101ms/step - accuracy: 0.7827 - loss: 0.6024 - val_accuracy: 0.3750 - val_loss: 7584.1792\n",
            "Epoch 40/50\n",
            "\u001b[1m27/27\u001b[0m \u001b[32m━━━━━━━━━━━━━━━━━━━━\u001b[0m\u001b[37m\u001b[0m \u001b[1m5s\u001b[0m 100ms/step - accuracy: 0.8008 - loss: 0.5668 - val_accuracy: 0.3843 - val_loss: 7580.3774\n",
            "Epoch 41/50\n",
            "\u001b[1m27/27\u001b[0m \u001b[32m━━━━━━━━━━━━━━━━━━━━\u001b[0m\u001b[37m\u001b[0m \u001b[1m5s\u001b[0m 110ms/step - accuracy: 0.8139 - loss: 0.5516 - val_accuracy: 0.3796 - val_loss: 7588.9614\n",
            "Epoch 42/50\n",
            "\u001b[1m27/27\u001b[0m \u001b[32m━━━━━━━━━━━━━━━━━━━━\u001b[0m\u001b[37m\u001b[0m \u001b[1m5s\u001b[0m 96ms/step - accuracy: 0.7916 - loss: 0.5768 - val_accuracy: 0.3981 - val_loss: 7565.3569\n",
            "Epoch 43/50\n",
            "\u001b[1m27/27\u001b[0m \u001b[32m━━━━━━━━━━━━━━━━━━━━\u001b[0m\u001b[37m\u001b[0m \u001b[1m6s\u001b[0m 146ms/step - accuracy: 0.8129 - loss: 0.5006 - val_accuracy: 0.3750 - val_loss: 7565.2227\n",
            "Epoch 44/50\n",
            "\u001b[1m27/27\u001b[0m \u001b[32m━━━━━━━━━━━━━━━━━━━━\u001b[0m\u001b[37m\u001b[0m \u001b[1m4s\u001b[0m 100ms/step - accuracy: 0.8053 - loss: 0.5159 - val_accuracy: 0.3935 - val_loss: 7538.0161\n",
            "Epoch 45/50\n",
            "\u001b[1m27/27\u001b[0m \u001b[32m━━━━━━━━━━━━━━━━━━━━\u001b[0m\u001b[37m\u001b[0m \u001b[1m5s\u001b[0m 103ms/step - accuracy: 0.8077 - loss: 0.5401 - val_accuracy: 0.3935 - val_loss: 7553.7583\n",
            "Epoch 46/50\n",
            "\u001b[1m27/27\u001b[0m \u001b[32m━━━━━━━━━━━━━━━━━━━━\u001b[0m\u001b[37m\u001b[0m \u001b[1m5s\u001b[0m 105ms/step - accuracy: 0.8430 - loss: 0.4598 - val_accuracy: 0.3704 - val_loss: 7527.3354\n",
            "Epoch 47/50\n",
            "\u001b[1m27/27\u001b[0m \u001b[32m━━━━━━━━━━━━━━━━━━━━\u001b[0m\u001b[37m\u001b[0m \u001b[1m5s\u001b[0m 109ms/step - accuracy: 0.8360 - loss: 0.4668 - val_accuracy: 0.3796 - val_loss: 7523.0532\n",
            "Epoch 48/50\n",
            "\u001b[1m27/27\u001b[0m \u001b[32m━━━━━━━━━━━━━━━━━━━━\u001b[0m\u001b[37m\u001b[0m \u001b[1m6s\u001b[0m 145ms/step - accuracy: 0.8445 - loss: 0.4795 - val_accuracy: 0.3750 - val_loss: 7555.4966\n",
            "Epoch 49/50\n",
            "\u001b[1m27/27\u001b[0m \u001b[32m━━━━━━━━━━━━━━━━━━━━\u001b[0m\u001b[37m\u001b[0m \u001b[1m4s\u001b[0m 102ms/step - accuracy: 0.8594 - loss: 0.4514 - val_accuracy: 0.3796 - val_loss: 7560.9995\n",
            "Epoch 50/50\n",
            "\u001b[1m27/27\u001b[0m \u001b[32m━━━━━━━━━━━━━━━━━━━━\u001b[0m\u001b[37m\u001b[0m \u001b[1m3s\u001b[0m 101ms/step - accuracy: 0.8423 - loss: 0.4442 - val_accuracy: 0.3657 - val_loss: 7613.8037\n",
            "\u001b[1m34/34\u001b[0m \u001b[32m━━━━━━━━━━━━━━━━━━━━\u001b[0m\u001b[37m\u001b[0m \u001b[1m1s\u001b[0m 36ms/step - accuracy: 0.8392 - loss: 225.3589\n",
            "Test Accuracy: 0.7268518805503845\n"
          ]
        }
      ]
    },
    {
      "cell_type": "code",
      "source": [
        "model.summary()"
      ],
      "metadata": {
        "colab": {
          "base_uri": "https://localhost:8080/",
          "height": 497
        },
        "id": "ZjV8LONDWbqQ",
        "outputId": "b2705d18-864d-4616-8136-a4dd258f4b8c"
      },
      "execution_count": 19,
      "outputs": [
        {
          "output_type": "display_data",
          "data": {
            "text/plain": [
              "\u001b[1mModel: \"sequential\"\u001b[0m\n"
            ],
            "text/html": [
              "<pre style=\"white-space:pre;overflow-x:auto;line-height:normal;font-family:Menlo,'DejaVu Sans Mono',consolas,'Courier New',monospace\"><span style=\"font-weight: bold\">Model: \"sequential\"</span>\n",
              "</pre>\n"
            ]
          },
          "metadata": {}
        },
        {
          "output_type": "display_data",
          "data": {
            "text/plain": [
              "┏━━━━━━━━━━━━━━━━━━━━━━━━━━━━━━━━━━━━━━┳━━━━━━━━━━━━━━━━━━━━━━━━━━━━━┳━━━━━━━━━━━━━━━━━┓\n",
              "┃\u001b[1m \u001b[0m\u001b[1mLayer (type)                        \u001b[0m\u001b[1m \u001b[0m┃\u001b[1m \u001b[0m\u001b[1mOutput Shape               \u001b[0m\u001b[1m \u001b[0m┃\u001b[1m \u001b[0m\u001b[1m        Param #\u001b[0m\u001b[1m \u001b[0m┃\n",
              "┡━━━━━━━━━━━━━━━━━━━━━━━━━━━━━━━━━━━━━━╇━━━━━━━━━━━━━━━━━━━━━━━━━━━━━╇━━━━━━━━━━━━━━━━━┩\n",
              "│ separable_conv1d (\u001b[38;5;33mSeparableConv1D\u001b[0m)   │ (\u001b[38;5;45mNone\u001b[0m, \u001b[38;5;34m64\u001b[0m, \u001b[38;5;34m128\u001b[0m)             │         \u001b[38;5;34m188,768\u001b[0m │\n",
              "├──────────────────────────────────────┼─────────────────────────────┼─────────────────┤\n",
              "│ max_pooling1d (\u001b[38;5;33mMaxPooling1D\u001b[0m)         │ (\u001b[38;5;45mNone\u001b[0m, \u001b[38;5;34m32\u001b[0m, \u001b[38;5;34m128\u001b[0m)             │               \u001b[38;5;34m0\u001b[0m │\n",
              "├──────────────────────────────────────┼─────────────────────────────┼─────────────────┤\n",
              "│ separable_conv1d_1 (\u001b[38;5;33mSeparableConv1D\u001b[0m) │ (\u001b[38;5;45mNone\u001b[0m, \u001b[38;5;34m32\u001b[0m, \u001b[38;5;34m128\u001b[0m)             │          \u001b[38;5;34m16,896\u001b[0m │\n",
              "├──────────────────────────────────────┼─────────────────────────────┼─────────────────┤\n",
              "│ max_pooling1d_1 (\u001b[38;5;33mMaxPooling1D\u001b[0m)       │ (\u001b[38;5;45mNone\u001b[0m, \u001b[38;5;34m16\u001b[0m, \u001b[38;5;34m128\u001b[0m)             │               \u001b[38;5;34m0\u001b[0m │\n",
              "├──────────────────────────────────────┼─────────────────────────────┼─────────────────┤\n",
              "│ separable_conv1d_2 (\u001b[38;5;33mSeparableConv1D\u001b[0m) │ (\u001b[38;5;45mNone\u001b[0m, \u001b[38;5;34m16\u001b[0m, \u001b[38;5;34m128\u001b[0m)             │          \u001b[38;5;34m16,896\u001b[0m │\n",
              "├──────────────────────────────────────┼─────────────────────────────┼─────────────────┤\n",
              "│ max_pooling1d_2 (\u001b[38;5;33mMaxPooling1D\u001b[0m)       │ (\u001b[38;5;45mNone\u001b[0m, \u001b[38;5;34m8\u001b[0m, \u001b[38;5;34m128\u001b[0m)              │               \u001b[38;5;34m0\u001b[0m │\n",
              "├──────────────────────────────────────┼─────────────────────────────┼─────────────────┤\n",
              "│ separable_conv1d_3 (\u001b[38;5;33mSeparableConv1D\u001b[0m) │ (\u001b[38;5;45mNone\u001b[0m, \u001b[38;5;34m8\u001b[0m, \u001b[38;5;34m128\u001b[0m)              │          \u001b[38;5;34m16,896\u001b[0m │\n",
              "├──────────────────────────────────────┼─────────────────────────────┼─────────────────┤\n",
              "│ max_pooling1d_3 (\u001b[38;5;33mMaxPooling1D\u001b[0m)       │ (\u001b[38;5;45mNone\u001b[0m, \u001b[38;5;34m4\u001b[0m, \u001b[38;5;34m128\u001b[0m)              │               \u001b[38;5;34m0\u001b[0m │\n",
              "├──────────────────────────────────────┼─────────────────────────────┼─────────────────┤\n",
              "│ flatten (\u001b[38;5;33mFlatten\u001b[0m)                    │ (\u001b[38;5;45mNone\u001b[0m, \u001b[38;5;34m512\u001b[0m)                 │               \u001b[38;5;34m0\u001b[0m │\n",
              "├──────────────────────────────────────┼─────────────────────────────┼─────────────────┤\n",
              "│ dense (\u001b[38;5;33mDense\u001b[0m)                        │ (\u001b[38;5;45mNone\u001b[0m, \u001b[38;5;34m128\u001b[0m)                 │          \u001b[38;5;34m65,664\u001b[0m │\n",
              "├──────────────────────────────────────┼─────────────────────────────┼─────────────────┤\n",
              "│ dense_1 (\u001b[38;5;33mDense\u001b[0m)                      │ (\u001b[38;5;45mNone\u001b[0m, \u001b[38;5;34m4\u001b[0m)                   │             \u001b[38;5;34m516\u001b[0m │\n",
              "└──────────────────────────────────────┴─────────────────────────────┴─────────────────┘\n"
            ],
            "text/html": [
              "<pre style=\"white-space:pre;overflow-x:auto;line-height:normal;font-family:Menlo,'DejaVu Sans Mono',consolas,'Courier New',monospace\">┏━━━━━━━━━━━━━━━━━━━━━━━━━━━━━━━━━━━━━━┳━━━━━━━━━━━━━━━━━━━━━━━━━━━━━┳━━━━━━━━━━━━━━━━━┓\n",
              "┃<span style=\"font-weight: bold\"> Layer (type)                         </span>┃<span style=\"font-weight: bold\"> Output Shape                </span>┃<span style=\"font-weight: bold\">         Param # </span>┃\n",
              "┡━━━━━━━━━━━━━━━━━━━━━━━━━━━━━━━━━━━━━━╇━━━━━━━━━━━━━━━━━━━━━━━━━━━━━╇━━━━━━━━━━━━━━━━━┩\n",
              "│ separable_conv1d (<span style=\"color: #0087ff; text-decoration-color: #0087ff\">SeparableConv1D</span>)   │ (<span style=\"color: #00d7ff; text-decoration-color: #00d7ff\">None</span>, <span style=\"color: #00af00; text-decoration-color: #00af00\">64</span>, <span style=\"color: #00af00; text-decoration-color: #00af00\">128</span>)             │         <span style=\"color: #00af00; text-decoration-color: #00af00\">188,768</span> │\n",
              "├──────────────────────────────────────┼─────────────────────────────┼─────────────────┤\n",
              "│ max_pooling1d (<span style=\"color: #0087ff; text-decoration-color: #0087ff\">MaxPooling1D</span>)         │ (<span style=\"color: #00d7ff; text-decoration-color: #00d7ff\">None</span>, <span style=\"color: #00af00; text-decoration-color: #00af00\">32</span>, <span style=\"color: #00af00; text-decoration-color: #00af00\">128</span>)             │               <span style=\"color: #00af00; text-decoration-color: #00af00\">0</span> │\n",
              "├──────────────────────────────────────┼─────────────────────────────┼─────────────────┤\n",
              "│ separable_conv1d_1 (<span style=\"color: #0087ff; text-decoration-color: #0087ff\">SeparableConv1D</span>) │ (<span style=\"color: #00d7ff; text-decoration-color: #00d7ff\">None</span>, <span style=\"color: #00af00; text-decoration-color: #00af00\">32</span>, <span style=\"color: #00af00; text-decoration-color: #00af00\">128</span>)             │          <span style=\"color: #00af00; text-decoration-color: #00af00\">16,896</span> │\n",
              "├──────────────────────────────────────┼─────────────────────────────┼─────────────────┤\n",
              "│ max_pooling1d_1 (<span style=\"color: #0087ff; text-decoration-color: #0087ff\">MaxPooling1D</span>)       │ (<span style=\"color: #00d7ff; text-decoration-color: #00d7ff\">None</span>, <span style=\"color: #00af00; text-decoration-color: #00af00\">16</span>, <span style=\"color: #00af00; text-decoration-color: #00af00\">128</span>)             │               <span style=\"color: #00af00; text-decoration-color: #00af00\">0</span> │\n",
              "├──────────────────────────────────────┼─────────────────────────────┼─────────────────┤\n",
              "│ separable_conv1d_2 (<span style=\"color: #0087ff; text-decoration-color: #0087ff\">SeparableConv1D</span>) │ (<span style=\"color: #00d7ff; text-decoration-color: #00d7ff\">None</span>, <span style=\"color: #00af00; text-decoration-color: #00af00\">16</span>, <span style=\"color: #00af00; text-decoration-color: #00af00\">128</span>)             │          <span style=\"color: #00af00; text-decoration-color: #00af00\">16,896</span> │\n",
              "├──────────────────────────────────────┼─────────────────────────────┼─────────────────┤\n",
              "│ max_pooling1d_2 (<span style=\"color: #0087ff; text-decoration-color: #0087ff\">MaxPooling1D</span>)       │ (<span style=\"color: #00d7ff; text-decoration-color: #00d7ff\">None</span>, <span style=\"color: #00af00; text-decoration-color: #00af00\">8</span>, <span style=\"color: #00af00; text-decoration-color: #00af00\">128</span>)              │               <span style=\"color: #00af00; text-decoration-color: #00af00\">0</span> │\n",
              "├──────────────────────────────────────┼─────────────────────────────┼─────────────────┤\n",
              "│ separable_conv1d_3 (<span style=\"color: #0087ff; text-decoration-color: #0087ff\">SeparableConv1D</span>) │ (<span style=\"color: #00d7ff; text-decoration-color: #00d7ff\">None</span>, <span style=\"color: #00af00; text-decoration-color: #00af00\">8</span>, <span style=\"color: #00af00; text-decoration-color: #00af00\">128</span>)              │          <span style=\"color: #00af00; text-decoration-color: #00af00\">16,896</span> │\n",
              "├──────────────────────────────────────┼─────────────────────────────┼─────────────────┤\n",
              "│ max_pooling1d_3 (<span style=\"color: #0087ff; text-decoration-color: #0087ff\">MaxPooling1D</span>)       │ (<span style=\"color: #00d7ff; text-decoration-color: #00d7ff\">None</span>, <span style=\"color: #00af00; text-decoration-color: #00af00\">4</span>, <span style=\"color: #00af00; text-decoration-color: #00af00\">128</span>)              │               <span style=\"color: #00af00; text-decoration-color: #00af00\">0</span> │\n",
              "├──────────────────────────────────────┼─────────────────────────────┼─────────────────┤\n",
              "│ flatten (<span style=\"color: #0087ff; text-decoration-color: #0087ff\">Flatten</span>)                    │ (<span style=\"color: #00d7ff; text-decoration-color: #00d7ff\">None</span>, <span style=\"color: #00af00; text-decoration-color: #00af00\">512</span>)                 │               <span style=\"color: #00af00; text-decoration-color: #00af00\">0</span> │\n",
              "├──────────────────────────────────────┼─────────────────────────────┼─────────────────┤\n",
              "│ dense (<span style=\"color: #0087ff; text-decoration-color: #0087ff\">Dense</span>)                        │ (<span style=\"color: #00d7ff; text-decoration-color: #00d7ff\">None</span>, <span style=\"color: #00af00; text-decoration-color: #00af00\">128</span>)                 │          <span style=\"color: #00af00; text-decoration-color: #00af00\">65,664</span> │\n",
              "├──────────────────────────────────────┼─────────────────────────────┼─────────────────┤\n",
              "│ dense_1 (<span style=\"color: #0087ff; text-decoration-color: #0087ff\">Dense</span>)                      │ (<span style=\"color: #00d7ff; text-decoration-color: #00d7ff\">None</span>, <span style=\"color: #00af00; text-decoration-color: #00af00\">4</span>)                   │             <span style=\"color: #00af00; text-decoration-color: #00af00\">516</span> │\n",
              "└──────────────────────────────────────┴─────────────────────────────┴─────────────────┘\n",
              "</pre>\n"
            ]
          },
          "metadata": {}
        },
        {
          "output_type": "display_data",
          "data": {
            "text/plain": [
              "\u001b[1m Total params: \u001b[0m\u001b[38;5;34m916,910\u001b[0m (3.50 MB)\n"
            ],
            "text/html": [
              "<pre style=\"white-space:pre;overflow-x:auto;line-height:normal;font-family:Menlo,'DejaVu Sans Mono',consolas,'Courier New',monospace\"><span style=\"font-weight: bold\"> Total params: </span><span style=\"color: #00af00; text-decoration-color: #00af00\">916,910</span> (3.50 MB)\n",
              "</pre>\n"
            ]
          },
          "metadata": {}
        },
        {
          "output_type": "display_data",
          "data": {
            "text/plain": [
              "\u001b[1m Trainable params: \u001b[0m\u001b[38;5;34m305,636\u001b[0m (1.17 MB)\n"
            ],
            "text/html": [
              "<pre style=\"white-space:pre;overflow-x:auto;line-height:normal;font-family:Menlo,'DejaVu Sans Mono',consolas,'Courier New',monospace\"><span style=\"font-weight: bold\"> Trainable params: </span><span style=\"color: #00af00; text-decoration-color: #00af00\">305,636</span> (1.17 MB)\n",
              "</pre>\n"
            ]
          },
          "metadata": {}
        },
        {
          "output_type": "display_data",
          "data": {
            "text/plain": [
              "\u001b[1m Non-trainable params: \u001b[0m\u001b[38;5;34m0\u001b[0m (0.00 B)\n"
            ],
            "text/html": [
              "<pre style=\"white-space:pre;overflow-x:auto;line-height:normal;font-family:Menlo,'DejaVu Sans Mono',consolas,'Courier New',monospace\"><span style=\"font-weight: bold\"> Non-trainable params: </span><span style=\"color: #00af00; text-decoration-color: #00af00\">0</span> (0.00 B)\n",
              "</pre>\n"
            ]
          },
          "metadata": {}
        },
        {
          "output_type": "display_data",
          "data": {
            "text/plain": [
              "\u001b[1m Optimizer params: \u001b[0m\u001b[38;5;34m611,274\u001b[0m (2.33 MB)\n"
            ],
            "text/html": [
              "<pre style=\"white-space:pre;overflow-x:auto;line-height:normal;font-family:Menlo,'DejaVu Sans Mono',consolas,'Courier New',monospace\"><span style=\"font-weight: bold\"> Optimizer params: </span><span style=\"color: #00af00; text-decoration-color: #00af00\">611,274</span> (2.33 MB)\n",
              "</pre>\n"
            ]
          },
          "metadata": {}
        }
      ]
    },
    {
      "cell_type": "code",
      "source": [
        "X = _X.transpose(0, 5, 1,2,3,4)\n",
        "print(X.shape)\n",
        "X = X.reshape(X.shape[0], X.shape[1], np.prod(X.shape[2:]))\n",
        "print(X.shape)\n",
        "X_train, X_test, y_train, y_test = train_test_split(X, y, test_size=0.2, random_state=42)\n",
        "model = single_conv()\n",
        "model.compile(optimizer='adam',loss=tf.keras.losses.SparseCategoricalCrossentropy(from_logits=True),metrics=['accuracy'])\n",
        "model.fit(X, y, epochs=50, batch_size=32, validation_split=0.2)\n",
        "loss, acc = model.evaluate(X, y)\n",
        "print(f\"Test Accuracy: {acc}\")"
      ],
      "metadata": {
        "colab": {
          "base_uri": "https://localhost:8080/"
        },
        "id": "VHfhF6jIhI_8",
        "outputId": "a2eca7d0-a44a-4754-d2bd-897f222ebba3"
      },
      "execution_count": 20,
      "outputs": [
        {
          "output_type": "stream",
          "name": "stdout",
          "text": [
            "(1080, 64, 4, 8, 9, 5)\n",
            "(1080, 64, 1440)\n"
          ]
        },
        {
          "output_type": "stream",
          "name": "stderr",
          "text": [
            "/usr/local/lib/python3.11/dist-packages/keras/src/layers/convolutional/base_conv.py:107: UserWarning: Do not pass an `input_shape`/`input_dim` argument to a layer. When using Sequential models, prefer using an `Input(shape)` object as the first layer in the model instead.\n",
            "  super().__init__(activity_regularizer=activity_regularizer, **kwargs)\n"
          ]
        },
        {
          "output_type": "stream",
          "name": "stdout",
          "text": [
            "Epoch 1/50\n",
            "\u001b[1m27/27\u001b[0m \u001b[32m━━━━━━━━━━━━━━━━━━━━\u001b[0m\u001b[37m\u001b[0m \u001b[1m4s\u001b[0m 84ms/step - accuracy: 0.2419 - loss: 137330224.0000 - val_accuracy: 0.3102 - val_loss: 7783634.5000\n",
            "Epoch 2/50\n",
            "\u001b[1m27/27\u001b[0m \u001b[32m━━━━━━━━━━━━━━━━━━━━\u001b[0m\u001b[37m\u001b[0m \u001b[1m3s\u001b[0m 104ms/step - accuracy: 0.4083 - loss: 35300676.0000 - val_accuracy: 0.2546 - val_loss: 153832064.0000\n",
            "Epoch 3/50\n",
            "\u001b[1m27/27\u001b[0m \u001b[32m━━━━━━━━━━━━━━━━━━━━\u001b[0m\u001b[37m\u001b[0m \u001b[1m2s\u001b[0m 78ms/step - accuracy: 0.4203 - loss: 5100375.5000 - val_accuracy: 0.3750 - val_loss: 129459184.0000\n",
            "Epoch 4/50\n",
            "\u001b[1m27/27\u001b[0m \u001b[32m━━━━━━━━━━━━━━━━━━━━\u001b[0m\u001b[37m\u001b[0m \u001b[1m2s\u001b[0m 61ms/step - accuracy: 0.5075 - loss: 305598.6875 - val_accuracy: 0.3796 - val_loss: 109700392.0000\n",
            "Epoch 5/50\n",
            "\u001b[1m27/27\u001b[0m \u001b[32m━━━━━━━━━━━━━━━━━━━━\u001b[0m\u001b[37m\u001b[0m \u001b[1m3s\u001b[0m 69ms/step - accuracy: 0.4966 - loss: 250314.6406 - val_accuracy: 0.2778 - val_loss: 481880352.0000\n",
            "Epoch 6/50\n",
            "\u001b[1m27/27\u001b[0m \u001b[32m━━━━━━━━━━━━━━━━━━━━\u001b[0m\u001b[37m\u001b[0m \u001b[1m2s\u001b[0m 62ms/step - accuracy: 0.4218 - loss: 2867912.7500 - val_accuracy: 0.2963 - val_loss: 153835104.0000\n",
            "Epoch 7/50\n",
            "\u001b[1m27/27\u001b[0m \u001b[32m━━━━━━━━━━━━━━━━━━━━\u001b[0m\u001b[37m\u001b[0m \u001b[1m3s\u001b[0m 79ms/step - accuracy: 0.3813 - loss: 6903568.5000 - val_accuracy: 0.3796 - val_loss: 270997344.0000\n",
            "Epoch 8/50\n",
            "\u001b[1m27/27\u001b[0m \u001b[32m━━━━━━━━━━━━━━━━━━━━\u001b[0m\u001b[37m\u001b[0m \u001b[1m2s\u001b[0m 77ms/step - accuracy: 0.4878 - loss: 157159.7969 - val_accuracy: 0.3472 - val_loss: 334835072.0000\n",
            "Epoch 9/50\n",
            "\u001b[1m27/27\u001b[0m \u001b[32m━━━━━━━━━━━━━━━━━━━━\u001b[0m\u001b[37m\u001b[0m \u001b[1m2s\u001b[0m 68ms/step - accuracy: 0.5182 - loss: 3271240.7500 - val_accuracy: 0.3889 - val_loss: 268579264.0000\n",
            "Epoch 10/50\n",
            "\u001b[1m27/27\u001b[0m \u001b[32m━━━━━━━━━━━━━━━━━━━━\u001b[0m\u001b[37m\u001b[0m \u001b[1m2s\u001b[0m 62ms/step - accuracy: 0.5644 - loss: 15338130.0000 - val_accuracy: 0.4306 - val_loss: 418943552.0000\n",
            "Epoch 11/50\n",
            "\u001b[1m27/27\u001b[0m \u001b[32m━━━━━━━━━━━━━━━━━━━━\u001b[0m\u001b[37m\u001b[0m \u001b[1m3s\u001b[0m 64ms/step - accuracy: 0.5732 - loss: 93762.5547 - val_accuracy: 0.4167 - val_loss: 353205184.0000\n",
            "Epoch 12/50\n",
            "\u001b[1m27/27\u001b[0m \u001b[32m━━━━━━━━━━━━━━━━━━━━\u001b[0m\u001b[37m\u001b[0m \u001b[1m3s\u001b[0m 75ms/step - accuracy: 0.6121 - loss: 44307.1797 - val_accuracy: 0.4306 - val_loss: 314611488.0000\n",
            "Epoch 13/50\n",
            "\u001b[1m27/27\u001b[0m \u001b[32m━━━━━━━━━━━━━━━━━━━━\u001b[0m\u001b[37m\u001b[0m \u001b[1m3s\u001b[0m 96ms/step - accuracy: 0.6278 - loss: 32564.9258 - val_accuracy: 0.4213 - val_loss: 298383104.0000\n",
            "Epoch 14/50\n",
            "\u001b[1m27/27\u001b[0m \u001b[32m━━━━━━━━━━━━━━━━━━━━\u001b[0m\u001b[37m\u001b[0m \u001b[1m4s\u001b[0m 61ms/step - accuracy: 0.6275 - loss: 30377.1074 - val_accuracy: 0.4213 - val_loss: 286069024.0000\n",
            "Epoch 15/50\n",
            "\u001b[1m27/27\u001b[0m \u001b[32m━━━━━━━━━━━━━━━━━━━━\u001b[0m\u001b[37m\u001b[0m \u001b[1m3s\u001b[0m 65ms/step - accuracy: 0.6719 - loss: 25566.2988 - val_accuracy: 0.4306 - val_loss: 270385760.0000\n",
            "Epoch 16/50\n",
            "\u001b[1m27/27\u001b[0m \u001b[32m━━━━━━━━━━━━━━━━━━━━\u001b[0m\u001b[37m\u001b[0m \u001b[1m2s\u001b[0m 62ms/step - accuracy: 0.6675 - loss: 32072.9316 - val_accuracy: 0.4306 - val_loss: 256502208.0000\n",
            "Epoch 17/50\n",
            "\u001b[1m27/27\u001b[0m \u001b[32m━━━━━━━━━━━━━━━━━━━━\u001b[0m\u001b[37m\u001b[0m \u001b[1m2s\u001b[0m 92ms/step - accuracy: 0.6840 - loss: 21560.0977 - val_accuracy: 0.4120 - val_loss: 255966144.0000\n",
            "Epoch 18/50\n",
            "\u001b[1m27/27\u001b[0m \u001b[32m━━━━━━━━━━━━━━━━━━━━\u001b[0m\u001b[37m\u001b[0m \u001b[1m2s\u001b[0m 70ms/step - accuracy: 0.6882 - loss: 16960.7891 - val_accuracy: 0.4167 - val_loss: 248316048.0000\n",
            "Epoch 19/50\n",
            "\u001b[1m27/27\u001b[0m \u001b[32m━━━━━━━━━━━━━━━━━━━━\u001b[0m\u001b[37m\u001b[0m \u001b[1m2s\u001b[0m 62ms/step - accuracy: 0.7045 - loss: 17141.7227 - val_accuracy: 0.4120 - val_loss: 244693360.0000\n",
            "Epoch 20/50\n",
            "\u001b[1m27/27\u001b[0m \u001b[32m━━━━━━━━━━━━━━━━━━━━\u001b[0m\u001b[37m\u001b[0m \u001b[1m2s\u001b[0m 60ms/step - accuracy: 0.7435 - loss: 11914.4189 - val_accuracy: 0.4120 - val_loss: 240940336.0000\n",
            "Epoch 21/50\n",
            "\u001b[1m27/27\u001b[0m \u001b[32m━━━━━━━━━━━━━━━━━━━━\u001b[0m\u001b[37m\u001b[0m \u001b[1m3s\u001b[0m 64ms/step - accuracy: 0.7516 - loss: 9420.6094 - val_accuracy: 0.4120 - val_loss: 239580752.0000\n",
            "Epoch 22/50\n",
            "\u001b[1m27/27\u001b[0m \u001b[32m━━━━━━━━━━━━━━━━━━━━\u001b[0m\u001b[37m\u001b[0m \u001b[1m3s\u001b[0m 72ms/step - accuracy: 0.7579 - loss: 10707.2246 - val_accuracy: 0.4028 - val_loss: 235908176.0000\n",
            "Epoch 23/50\n",
            "\u001b[1m27/27\u001b[0m \u001b[32m━━━━━━━━━━━━━━━━━━━━\u001b[0m\u001b[37m\u001b[0m \u001b[1m3s\u001b[0m 97ms/step - accuracy: 0.7298 - loss: 10704.4688 - val_accuracy: 0.4120 - val_loss: 231959280.0000\n",
            "Epoch 24/50\n",
            "\u001b[1m27/27\u001b[0m \u001b[32m━━━━━━━━━━━━━━━━━━━━\u001b[0m\u001b[37m\u001b[0m \u001b[1m4s\u001b[0m 64ms/step - accuracy: 0.7643 - loss: 9781.0635 - val_accuracy: 0.4074 - val_loss: 231542240.0000\n",
            "Epoch 25/50\n",
            "\u001b[1m27/27\u001b[0m \u001b[32m━━━━━━━━━━━━━━━━━━━━\u001b[0m\u001b[37m\u001b[0m \u001b[1m3s\u001b[0m 73ms/step - accuracy: 0.7504 - loss: 7085.3516 - val_accuracy: 0.4167 - val_loss: 231489408.0000\n",
            "Epoch 26/50\n",
            "\u001b[1m27/27\u001b[0m \u001b[32m━━━━━━━━━━━━━━━━━━━━\u001b[0m\u001b[37m\u001b[0m \u001b[1m2s\u001b[0m 68ms/step - accuracy: 0.7398 - loss: 8024.1460 - val_accuracy: 0.4167 - val_loss: 230165616.0000\n",
            "Epoch 27/50\n",
            "\u001b[1m27/27\u001b[0m \u001b[32m━━━━━━━━━━━━━━━━━━━━\u001b[0m\u001b[37m\u001b[0m \u001b[1m3s\u001b[0m 108ms/step - accuracy: 0.7860 - loss: 11071.5625 - val_accuracy: 0.4306 - val_loss: 218067936.0000\n",
            "Epoch 28/50\n",
            "\u001b[1m27/27\u001b[0m \u001b[32m━━━━━━━━━━━━━━━━━━━━\u001b[0m\u001b[37m\u001b[0m \u001b[1m2s\u001b[0m 68ms/step - accuracy: 0.7650 - loss: 5846.7021 - val_accuracy: 0.4259 - val_loss: 214696832.0000\n",
            "Epoch 29/50\n",
            "\u001b[1m27/27\u001b[0m \u001b[32m━━━━━━━━━━━━━━━━━━━━\u001b[0m\u001b[37m\u001b[0m \u001b[1m3s\u001b[0m 72ms/step - accuracy: 0.7663 - loss: 6655.3257 - val_accuracy: 0.4259 - val_loss: 221878144.0000\n",
            "Epoch 30/50\n",
            "\u001b[1m27/27\u001b[0m \u001b[32m━━━━━━━━━━━━━━━━━━━━\u001b[0m\u001b[37m\u001b[0m \u001b[1m2s\u001b[0m 59ms/step - accuracy: 0.7778 - loss: 4865.7783 - val_accuracy: 0.4398 - val_loss: 220637600.0000\n",
            "Epoch 31/50\n",
            "\u001b[1m27/27\u001b[0m \u001b[32m━━━━━━━━━━━━━━━━━━━━\u001b[0m\u001b[37m\u001b[0m \u001b[1m3s\u001b[0m 61ms/step - accuracy: 0.7541 - loss: 6713.9209 - val_accuracy: 0.4306 - val_loss: 216279536.0000\n",
            "Epoch 32/50\n",
            "\u001b[1m27/27\u001b[0m \u001b[32m━━━━━━━━━━━━━━━━━━━━\u001b[0m\u001b[37m\u001b[0m \u001b[1m2s\u001b[0m 61ms/step - accuracy: 0.7767 - loss: 4808.3032 - val_accuracy: 0.4306 - val_loss: 213300928.0000\n",
            "Epoch 33/50\n",
            "\u001b[1m27/27\u001b[0m \u001b[32m━━━━━━━━━━━━━━━━━━━━\u001b[0m\u001b[37m\u001b[0m \u001b[1m3s\u001b[0m 99ms/step - accuracy: 0.7741 - loss: 4016.5525 - val_accuracy: 0.4491 - val_loss: 210800560.0000\n",
            "Epoch 34/50\n",
            "\u001b[1m27/27\u001b[0m \u001b[32m━━━━━━━━━━━━━━━━━━━━\u001b[0m\u001b[37m\u001b[0m \u001b[1m2s\u001b[0m 67ms/step - accuracy: 0.7666 - loss: 4597.2773 - val_accuracy: 0.4491 - val_loss: 208065328.0000\n",
            "Epoch 35/50\n",
            "\u001b[1m27/27\u001b[0m \u001b[32m━━━━━━━━━━━━━━━━━━━━\u001b[0m\u001b[37m\u001b[0m \u001b[1m2s\u001b[0m 60ms/step - accuracy: 0.7823 - loss: 3764.3811 - val_accuracy: 0.4491 - val_loss: 206167952.0000\n",
            "Epoch 36/50\n",
            "\u001b[1m27/27\u001b[0m \u001b[32m━━━━━━━━━━━━━━━━━━━━\u001b[0m\u001b[37m\u001b[0m \u001b[1m2s\u001b[0m 61ms/step - accuracy: 0.7986 - loss: 4045.3308 - val_accuracy: 0.4491 - val_loss: 204974592.0000\n",
            "Epoch 37/50\n",
            "\u001b[1m27/27\u001b[0m \u001b[32m━━━━━━━━━━━━━━━━━━━━\u001b[0m\u001b[37m\u001b[0m \u001b[1m2s\u001b[0m 67ms/step - accuracy: 0.7888 - loss: 3633.4246 - val_accuracy: 0.4537 - val_loss: 204376080.0000\n",
            "Epoch 38/50\n",
            "\u001b[1m27/27\u001b[0m \u001b[32m━━━━━━━━━━━━━━━━━━━━\u001b[0m\u001b[37m\u001b[0m \u001b[1m2s\u001b[0m 60ms/step - accuracy: 0.7917 - loss: 2950.4067 - val_accuracy: 0.4444 - val_loss: 202093584.0000\n",
            "Epoch 39/50\n",
            "\u001b[1m27/27\u001b[0m \u001b[32m━━━━━━━━━━━━━━━━━━━━\u001b[0m\u001b[37m\u001b[0m \u001b[1m2s\u001b[0m 68ms/step - accuracy: 0.8011 - loss: 2656.9937 - val_accuracy: 0.4444 - val_loss: 201767216.0000\n",
            "Epoch 40/50\n",
            "\u001b[1m27/27\u001b[0m \u001b[32m━━━━━━━━━━━━━━━━━━━━\u001b[0m\u001b[37m\u001b[0m \u001b[1m3s\u001b[0m 114ms/step - accuracy: 0.7869 - loss: 3036.1167 - val_accuracy: 0.4444 - val_loss: 200294112.0000\n",
            "Epoch 41/50\n",
            "\u001b[1m27/27\u001b[0m \u001b[32m━━━━━━━━━━━━━━━━━━━━\u001b[0m\u001b[37m\u001b[0m \u001b[1m2s\u001b[0m 67ms/step - accuracy: 0.8132 - loss: 2960.8340 - val_accuracy: 0.4398 - val_loss: 199313488.0000\n",
            "Epoch 42/50\n",
            "\u001b[1m27/27\u001b[0m \u001b[32m━━━━━━━━━━━━━━━━━━━━\u001b[0m\u001b[37m\u001b[0m \u001b[1m3s\u001b[0m 69ms/step - accuracy: 0.8078 - loss: 2435.2930 - val_accuracy: 0.4444 - val_loss: 198103312.0000\n",
            "Epoch 43/50\n",
            "\u001b[1m27/27\u001b[0m \u001b[32m━━━━━━━━━━━━━━━━━━━━\u001b[0m\u001b[37m\u001b[0m \u001b[1m2s\u001b[0m 61ms/step - accuracy: 0.8297 - loss: 2162.8369 - val_accuracy: 0.4583 - val_loss: 197929776.0000\n",
            "Epoch 44/50\n",
            "\u001b[1m27/27\u001b[0m \u001b[32m━━━━━━━━━━━━━━━━━━━━\u001b[0m\u001b[37m\u001b[0m \u001b[1m3s\u001b[0m 69ms/step - accuracy: 0.7851 - loss: 2532.4844 - val_accuracy: 0.4630 - val_loss: 196513200.0000\n",
            "Epoch 45/50\n",
            "\u001b[1m27/27\u001b[0m \u001b[32m━━━━━━━━━━━━━━━━━━━━\u001b[0m\u001b[37m\u001b[0m \u001b[1m2s\u001b[0m 72ms/step - accuracy: 0.8128 - loss: 1992.0117 - val_accuracy: 0.4444 - val_loss: 196259312.0000\n",
            "Epoch 46/50\n",
            "\u001b[1m27/27\u001b[0m \u001b[32m━━━━━━━━━━━━━━━━━━━━\u001b[0m\u001b[37m\u001b[0m \u001b[1m3s\u001b[0m 97ms/step - accuracy: 0.8043 - loss: 2157.6709 - val_accuracy: 0.4537 - val_loss: 195420880.0000\n",
            "Epoch 47/50\n",
            "\u001b[1m27/27\u001b[0m \u001b[32m━━━━━━━━━━━━━━━━━━━━\u001b[0m\u001b[37m\u001b[0m \u001b[1m2s\u001b[0m 68ms/step - accuracy: 0.8098 - loss: 2148.9236 - val_accuracy: 0.4398 - val_loss: 195287472.0000\n",
            "Epoch 48/50\n",
            "\u001b[1m27/27\u001b[0m \u001b[32m━━━━━━━━━━━━━━━━━━━━\u001b[0m\u001b[37m\u001b[0m \u001b[1m2s\u001b[0m 64ms/step - accuracy: 0.8208 - loss: 1831.8276 - val_accuracy: 0.4491 - val_loss: 195015984.0000\n",
            "Epoch 49/50\n",
            "\u001b[1m27/27\u001b[0m \u001b[32m━━━━━━━━━━━━━━━━━━━━\u001b[0m\u001b[37m\u001b[0m \u001b[1m2s\u001b[0m 64ms/step - accuracy: 0.8207 - loss: 2018.5310 - val_accuracy: 0.4398 - val_loss: 188624992.0000\n",
            "Epoch 50/50\n",
            "\u001b[1m27/27\u001b[0m \u001b[32m━━━━━━━━━━━━━━━━━━━━\u001b[0m\u001b[37m\u001b[0m \u001b[1m2s\u001b[0m 62ms/step - accuracy: 0.8121 - loss: 1859.8878 - val_accuracy: 0.4444 - val_loss: 192435632.0000\n",
            "\u001b[1m34/34\u001b[0m \u001b[32m━━━━━━━━━━━━━━━━━━━━\u001b[0m\u001b[37m\u001b[0m \u001b[1m1s\u001b[0m 39ms/step - accuracy: 0.8480 - loss: 5711092.5000\n",
            "Test Accuracy: 0.7527777552604675\n"
          ]
        }
      ]
    },
    {
      "cell_type": "code",
      "source": [
        "model.summary()"
      ],
      "metadata": {
        "colab": {
          "base_uri": "https://localhost:8080/",
          "height": 337
        },
        "id": "_Cq9sAKahy8U",
        "outputId": "caf39844-bfc9-41e9-a275-2c3b054eda3d"
      },
      "execution_count": 21,
      "outputs": [
        {
          "output_type": "display_data",
          "data": {
            "text/plain": [
              "\u001b[1mModel: \"sequential_1\"\u001b[0m\n"
            ],
            "text/html": [
              "<pre style=\"white-space:pre;overflow-x:auto;line-height:normal;font-family:Menlo,'DejaVu Sans Mono',consolas,'Courier New',monospace\"><span style=\"font-weight: bold\">Model: \"sequential_1\"</span>\n",
              "</pre>\n"
            ]
          },
          "metadata": {}
        },
        {
          "output_type": "display_data",
          "data": {
            "text/plain": [
              "┏━━━━━━━━━━━━━━━━━━━━━━━━━━━━━━━━━━━━━━┳━━━━━━━━━━━━━━━━━━━━━━━━━━━━━┳━━━━━━━━━━━━━━━━━┓\n",
              "┃\u001b[1m \u001b[0m\u001b[1mLayer (type)                        \u001b[0m\u001b[1m \u001b[0m┃\u001b[1m \u001b[0m\u001b[1mOutput Shape               \u001b[0m\u001b[1m \u001b[0m┃\u001b[1m \u001b[0m\u001b[1m        Param #\u001b[0m\u001b[1m \u001b[0m┃\n",
              "┡━━━━━━━━━━━━━━━━━━━━━━━━━━━━━━━━━━━━━━╇━━━━━━━━━━━━━━━━━━━━━━━━━━━━━╇━━━━━━━━━━━━━━━━━┩\n",
              "│ conv1d (\u001b[38;5;33mConv1D\u001b[0m)                      │ (\u001b[38;5;45mNone\u001b[0m, \u001b[38;5;34m62\u001b[0m, \u001b[38;5;34m32\u001b[0m)              │         \u001b[38;5;34m138,272\u001b[0m │\n",
              "├──────────────────────────────────────┼─────────────────────────────┼─────────────────┤\n",
              "│ max_pooling1d_4 (\u001b[38;5;33mMaxPooling1D\u001b[0m)       │ (\u001b[38;5;45mNone\u001b[0m, \u001b[38;5;34m31\u001b[0m, \u001b[38;5;34m32\u001b[0m)              │               \u001b[38;5;34m0\u001b[0m │\n",
              "├──────────────────────────────────────┼─────────────────────────────┼─────────────────┤\n",
              "│ flatten_1 (\u001b[38;5;33mFlatten\u001b[0m)                  │ (\u001b[38;5;45mNone\u001b[0m, \u001b[38;5;34m992\u001b[0m)                 │               \u001b[38;5;34m0\u001b[0m │\n",
              "├──────────────────────────────────────┼─────────────────────────────┼─────────────────┤\n",
              "│ dense_2 (\u001b[38;5;33mDense\u001b[0m)                      │ (\u001b[38;5;45mNone\u001b[0m, \u001b[38;5;34m128\u001b[0m)                 │         \u001b[38;5;34m127,104\u001b[0m │\n",
              "├──────────────────────────────────────┼─────────────────────────────┼─────────────────┤\n",
              "│ dense_3 (\u001b[38;5;33mDense\u001b[0m)                      │ (\u001b[38;5;45mNone\u001b[0m, \u001b[38;5;34m32\u001b[0m)                  │           \u001b[38;5;34m4,128\u001b[0m │\n",
              "├──────────────────────────────────────┼─────────────────────────────┼─────────────────┤\n",
              "│ dense_4 (\u001b[38;5;33mDense\u001b[0m)                      │ (\u001b[38;5;45mNone\u001b[0m, \u001b[38;5;34m4\u001b[0m)                   │             \u001b[38;5;34m132\u001b[0m │\n",
              "└──────────────────────────────────────┴─────────────────────────────┴─────────────────┘\n"
            ],
            "text/html": [
              "<pre style=\"white-space:pre;overflow-x:auto;line-height:normal;font-family:Menlo,'DejaVu Sans Mono',consolas,'Courier New',monospace\">┏━━━━━━━━━━━━━━━━━━━━━━━━━━━━━━━━━━━━━━┳━━━━━━━━━━━━━━━━━━━━━━━━━━━━━┳━━━━━━━━━━━━━━━━━┓\n",
              "┃<span style=\"font-weight: bold\"> Layer (type)                         </span>┃<span style=\"font-weight: bold\"> Output Shape                </span>┃<span style=\"font-weight: bold\">         Param # </span>┃\n",
              "┡━━━━━━━━━━━━━━━━━━━━━━━━━━━━━━━━━━━━━━╇━━━━━━━━━━━━━━━━━━━━━━━━━━━━━╇━━━━━━━━━━━━━━━━━┩\n",
              "│ conv1d (<span style=\"color: #0087ff; text-decoration-color: #0087ff\">Conv1D</span>)                      │ (<span style=\"color: #00d7ff; text-decoration-color: #00d7ff\">None</span>, <span style=\"color: #00af00; text-decoration-color: #00af00\">62</span>, <span style=\"color: #00af00; text-decoration-color: #00af00\">32</span>)              │         <span style=\"color: #00af00; text-decoration-color: #00af00\">138,272</span> │\n",
              "├──────────────────────────────────────┼─────────────────────────────┼─────────────────┤\n",
              "│ max_pooling1d_4 (<span style=\"color: #0087ff; text-decoration-color: #0087ff\">MaxPooling1D</span>)       │ (<span style=\"color: #00d7ff; text-decoration-color: #00d7ff\">None</span>, <span style=\"color: #00af00; text-decoration-color: #00af00\">31</span>, <span style=\"color: #00af00; text-decoration-color: #00af00\">32</span>)              │               <span style=\"color: #00af00; text-decoration-color: #00af00\">0</span> │\n",
              "├──────────────────────────────────────┼─────────────────────────────┼─────────────────┤\n",
              "│ flatten_1 (<span style=\"color: #0087ff; text-decoration-color: #0087ff\">Flatten</span>)                  │ (<span style=\"color: #00d7ff; text-decoration-color: #00d7ff\">None</span>, <span style=\"color: #00af00; text-decoration-color: #00af00\">992</span>)                 │               <span style=\"color: #00af00; text-decoration-color: #00af00\">0</span> │\n",
              "├──────────────────────────────────────┼─────────────────────────────┼─────────────────┤\n",
              "│ dense_2 (<span style=\"color: #0087ff; text-decoration-color: #0087ff\">Dense</span>)                      │ (<span style=\"color: #00d7ff; text-decoration-color: #00d7ff\">None</span>, <span style=\"color: #00af00; text-decoration-color: #00af00\">128</span>)                 │         <span style=\"color: #00af00; text-decoration-color: #00af00\">127,104</span> │\n",
              "├──────────────────────────────────────┼─────────────────────────────┼─────────────────┤\n",
              "│ dense_3 (<span style=\"color: #0087ff; text-decoration-color: #0087ff\">Dense</span>)                      │ (<span style=\"color: #00d7ff; text-decoration-color: #00d7ff\">None</span>, <span style=\"color: #00af00; text-decoration-color: #00af00\">32</span>)                  │           <span style=\"color: #00af00; text-decoration-color: #00af00\">4,128</span> │\n",
              "├──────────────────────────────────────┼─────────────────────────────┼─────────────────┤\n",
              "│ dense_4 (<span style=\"color: #0087ff; text-decoration-color: #0087ff\">Dense</span>)                      │ (<span style=\"color: #00d7ff; text-decoration-color: #00d7ff\">None</span>, <span style=\"color: #00af00; text-decoration-color: #00af00\">4</span>)                   │             <span style=\"color: #00af00; text-decoration-color: #00af00\">132</span> │\n",
              "└──────────────────────────────────────┴─────────────────────────────┴─────────────────┘\n",
              "</pre>\n"
            ]
          },
          "metadata": {}
        },
        {
          "output_type": "display_data",
          "data": {
            "text/plain": [
              "\u001b[1m Total params: \u001b[0m\u001b[38;5;34m808,910\u001b[0m (3.09 MB)\n"
            ],
            "text/html": [
              "<pre style=\"white-space:pre;overflow-x:auto;line-height:normal;font-family:Menlo,'DejaVu Sans Mono',consolas,'Courier New',monospace\"><span style=\"font-weight: bold\"> Total params: </span><span style=\"color: #00af00; text-decoration-color: #00af00\">808,910</span> (3.09 MB)\n",
              "</pre>\n"
            ]
          },
          "metadata": {}
        },
        {
          "output_type": "display_data",
          "data": {
            "text/plain": [
              "\u001b[1m Trainable params: \u001b[0m\u001b[38;5;34m269,636\u001b[0m (1.03 MB)\n"
            ],
            "text/html": [
              "<pre style=\"white-space:pre;overflow-x:auto;line-height:normal;font-family:Menlo,'DejaVu Sans Mono',consolas,'Courier New',monospace\"><span style=\"font-weight: bold\"> Trainable params: </span><span style=\"color: #00af00; text-decoration-color: #00af00\">269,636</span> (1.03 MB)\n",
              "</pre>\n"
            ]
          },
          "metadata": {}
        },
        {
          "output_type": "display_data",
          "data": {
            "text/plain": [
              "\u001b[1m Non-trainable params: \u001b[0m\u001b[38;5;34m0\u001b[0m (0.00 B)\n"
            ],
            "text/html": [
              "<pre style=\"white-space:pre;overflow-x:auto;line-height:normal;font-family:Menlo,'DejaVu Sans Mono',consolas,'Courier New',monospace\"><span style=\"font-weight: bold\"> Non-trainable params: </span><span style=\"color: #00af00; text-decoration-color: #00af00\">0</span> (0.00 B)\n",
              "</pre>\n"
            ]
          },
          "metadata": {}
        },
        {
          "output_type": "display_data",
          "data": {
            "text/plain": [
              "\u001b[1m Optimizer params: \u001b[0m\u001b[38;5;34m539,274\u001b[0m (2.06 MB)\n"
            ],
            "text/html": [
              "<pre style=\"white-space:pre;overflow-x:auto;line-height:normal;font-family:Menlo,'DejaVu Sans Mono',consolas,'Courier New',monospace\"><span style=\"font-weight: bold\"> Optimizer params: </span><span style=\"color: #00af00; text-decoration-color: #00af00\">539,274</span> (2.06 MB)\n",
              "</pre>\n"
            ]
          },
          "metadata": {}
        }
      ]
    },
    {
      "cell_type": "code",
      "source": [
        "model = LSTM()\n",
        "model.compile(optimizer='adam',loss=tf.keras.losses.SparseCategoricalCrossentropy(from_logits=True),metrics=['accuracy'])\n",
        "model.fit(X, y, epochs=50, batch_size=32, validation_split=0.2)\n",
        "loss, acc = model.evaluate(X, y)\n",
        "print(f\"Test Accuracy: {acc}\")"
      ],
      "metadata": {
        "colab": {
          "base_uri": "https://localhost:8080/"
        },
        "id": "DW0LwMLrUoBE",
        "outputId": "6c8f6f73-b3fe-4a65-ac51-8e9fca03f3b4"
      },
      "execution_count": 22,
      "outputs": [
        {
          "output_type": "stream",
          "name": "stdout",
          "text": [
            "Epoch 1/50\n",
            "\u001b[1m27/27\u001b[0m \u001b[32m━━━━━━━━━━━━━━━━━━━━\u001b[0m\u001b[37m\u001b[0m \u001b[1m10s\u001b[0m 268ms/step - accuracy: 0.2169 - loss: 2.0800 - val_accuracy: 0.2037 - val_loss: 1.4943\n",
            "Epoch 2/50\n",
            "\u001b[1m27/27\u001b[0m \u001b[32m━━━━━━━━━━━━━━━━━━━━\u001b[0m\u001b[37m\u001b[0m \u001b[1m5s\u001b[0m 195ms/step - accuracy: 0.3006 - loss: 1.3959 - val_accuracy: 0.3102 - val_loss: 1.4189\n",
            "Epoch 3/50\n",
            "\u001b[1m27/27\u001b[0m \u001b[32m━━━━━━━━━━━━━━━━━━━━\u001b[0m\u001b[37m\u001b[0m \u001b[1m11s\u001b[0m 230ms/step - accuracy: 0.3679 - loss: 1.3109 - val_accuracy: 0.3935 - val_loss: 1.3455\n",
            "Epoch 4/50\n",
            "\u001b[1m27/27\u001b[0m \u001b[32m━━━━━━━━━━━━━━━━━━━━\u001b[0m\u001b[37m\u001b[0m \u001b[1m11s\u001b[0m 261ms/step - accuracy: 0.4488 - loss: 1.2308 - val_accuracy: 0.3981 - val_loss: 1.3674\n",
            "Epoch 5/50\n",
            "\u001b[1m27/27\u001b[0m \u001b[32m━━━━━━━━━━━━━━━━━━━━\u001b[0m\u001b[37m\u001b[0m \u001b[1m6s\u001b[0m 213ms/step - accuracy: 0.4489 - loss: 1.1983 - val_accuracy: 0.3750 - val_loss: 1.3682\n",
            "Epoch 6/50\n",
            "\u001b[1m27/27\u001b[0m \u001b[32m━━━━━━━━━━━━━━━━━━━━\u001b[0m\u001b[37m\u001b[0m \u001b[1m10s\u001b[0m 214ms/step - accuracy: 0.4334 - loss: 1.2006 - val_accuracy: 0.3796 - val_loss: 1.3320\n",
            "Epoch 7/50\n",
            "\u001b[1m27/27\u001b[0m \u001b[32m━━━━━━━━━━━━━━━━━━━━\u001b[0m\u001b[37m\u001b[0m \u001b[1m7s\u001b[0m 248ms/step - accuracy: 0.4520 - loss: 1.1489 - val_accuracy: 0.3981 - val_loss: 1.3402\n",
            "Epoch 8/50\n",
            "\u001b[1m27/27\u001b[0m \u001b[32m━━━━━━━━━━━━━━━━━━━━\u001b[0m\u001b[37m\u001b[0m \u001b[1m10s\u001b[0m 227ms/step - accuracy: 0.4392 - loss: 1.1482 - val_accuracy: 0.4074 - val_loss: 1.3397\n",
            "Epoch 9/50\n",
            "\u001b[1m27/27\u001b[0m \u001b[32m━━━━━━━━━━━━━━━━━━━━\u001b[0m\u001b[37m\u001b[0m \u001b[1m10s\u001b[0m 207ms/step - accuracy: 0.4948 - loss: 1.0980 - val_accuracy: 0.3981 - val_loss: 1.3156\n",
            "Epoch 10/50\n",
            "\u001b[1m27/27\u001b[0m \u001b[32m━━━━━━━━━━━━━━━━━━━━\u001b[0m\u001b[37m\u001b[0m \u001b[1m11s\u001b[0m 216ms/step - accuracy: 0.4387 - loss: 1.1080 - val_accuracy: 0.3102 - val_loss: 1.3850\n",
            "Epoch 11/50\n",
            "\u001b[1m27/27\u001b[0m \u001b[32m━━━━━━━━━━━━━━━━━━━━\u001b[0m\u001b[37m\u001b[0m \u001b[1m10s\u001b[0m 206ms/step - accuracy: 0.4437 - loss: 1.0942 - val_accuracy: 0.3611 - val_loss: 1.3329\n",
            "Epoch 12/50\n",
            "\u001b[1m27/27\u001b[0m \u001b[32m━━━━━━━━━━━━━━━━━━━━\u001b[0m\u001b[37m\u001b[0m \u001b[1m7s\u001b[0m 252ms/step - accuracy: 0.5331 - loss: 1.0422 - val_accuracy: 0.3796 - val_loss: 1.3176\n",
            "Epoch 13/50\n",
            "\u001b[1m27/27\u001b[0m \u001b[32m━━━━━━━━━━━━━━━━━━━━\u001b[0m\u001b[37m\u001b[0m \u001b[1m9s\u001b[0m 208ms/step - accuracy: 0.5388 - loss: 1.0157 - val_accuracy: 0.3611 - val_loss: 1.3255\n",
            "Epoch 14/50\n",
            "\u001b[1m27/27\u001b[0m \u001b[32m━━━━━━━━━━━━━━━━━━━━\u001b[0m\u001b[37m\u001b[0m \u001b[1m10s\u001b[0m 201ms/step - accuracy: 0.5719 - loss: 0.9957 - val_accuracy: 0.3704 - val_loss: 1.3619\n",
            "Epoch 15/50\n",
            "\u001b[1m27/27\u001b[0m \u001b[32m━━━━━━━━━━━━━━━━━━━━\u001b[0m\u001b[37m\u001b[0m \u001b[1m7s\u001b[0m 256ms/step - accuracy: 0.5725 - loss: 0.9474 - val_accuracy: 0.3102 - val_loss: 1.4213\n",
            "Epoch 16/50\n",
            "\u001b[1m27/27\u001b[0m \u001b[32m━━━━━━━━━━━━━━━━━━━━\u001b[0m\u001b[37m\u001b[0m \u001b[1m9s\u001b[0m 197ms/step - accuracy: 0.5475 - loss: 0.9717 - val_accuracy: 0.3657 - val_loss: 1.3330\n",
            "Epoch 17/50\n",
            "\u001b[1m27/27\u001b[0m \u001b[32m━━━━━━━━━━━━━━━━━━━━\u001b[0m\u001b[37m\u001b[0m \u001b[1m10s\u001b[0m 198ms/step - accuracy: 0.5562 - loss: 0.9679 - val_accuracy: 0.3380 - val_loss: 1.3587\n",
            "Epoch 18/50\n",
            "\u001b[1m27/27\u001b[0m \u001b[32m━━━━━━━━━━━━━━━━━━━━\u001b[0m\u001b[37m\u001b[0m \u001b[1m7s\u001b[0m 247ms/step - accuracy: 0.5971 - loss: 0.8977 - val_accuracy: 0.4028 - val_loss: 1.3289\n",
            "Epoch 19/50\n",
            "\u001b[1m27/27\u001b[0m \u001b[32m━━━━━━━━━━━━━━━━━━━━\u001b[0m\u001b[37m\u001b[0m \u001b[1m16s\u001b[0m 456ms/step - accuracy: 0.5789 - loss: 0.8910 - val_accuracy: 0.3611 - val_loss: 1.3854\n",
            "Epoch 20/50\n",
            "\u001b[1m27/27\u001b[0m \u001b[32m━━━━━━━━━━━━━━━━━━━━\u001b[0m\u001b[37m\u001b[0m \u001b[1m7s\u001b[0m 266ms/step - accuracy: 0.5858 - loss: 0.9017 - val_accuracy: 0.3657 - val_loss: 1.3681\n",
            "Epoch 21/50\n",
            "\u001b[1m27/27\u001b[0m \u001b[32m━━━━━━━━━━━━━━━━━━━━\u001b[0m\u001b[37m\u001b[0m \u001b[1m8s\u001b[0m 202ms/step - accuracy: 0.6375 - loss: 0.8300 - val_accuracy: 0.3750 - val_loss: 1.3548\n",
            "Epoch 22/50\n",
            "\u001b[1m27/27\u001b[0m \u001b[32m━━━━━━━━━━━━━━━━━━━━\u001b[0m\u001b[37m\u001b[0m \u001b[1m7s\u001b[0m 246ms/step - accuracy: 0.6434 - loss: 0.8323 - val_accuracy: 0.3750 - val_loss: 1.3816\n",
            "Epoch 23/50\n",
            "\u001b[1m27/27\u001b[0m \u001b[32m━━━━━━━━━━━━━━━━━━━━\u001b[0m\u001b[37m\u001b[0m \u001b[1m9s\u001b[0m 189ms/step - accuracy: 0.6301 - loss: 0.8225 - val_accuracy: 0.3657 - val_loss: 1.3789\n",
            "Epoch 24/50\n",
            "\u001b[1m27/27\u001b[0m \u001b[32m━━━━━━━━━━━━━━━━━━━━\u001b[0m\u001b[37m\u001b[0m \u001b[1m11s\u001b[0m 200ms/step - accuracy: 0.6594 - loss: 0.7963 - val_accuracy: 0.3611 - val_loss: 1.4261\n",
            "Epoch 25/50\n",
            "\u001b[1m27/27\u001b[0m \u001b[32m━━━━━━━━━━━━━━━━━━━━\u001b[0m\u001b[37m\u001b[0m \u001b[1m10s\u001b[0m 202ms/step - accuracy: 0.6584 - loss: 0.7756 - val_accuracy: 0.3611 - val_loss: 1.4134\n",
            "Epoch 26/50\n",
            "\u001b[1m27/27\u001b[0m \u001b[32m━━━━━━━━━━━━━━━━━━━━\u001b[0m\u001b[37m\u001b[0m \u001b[1m10s\u001b[0m 194ms/step - accuracy: 0.7045 - loss: 0.7380 - val_accuracy: 0.3796 - val_loss: 1.4239\n",
            "Epoch 27/50\n",
            "\u001b[1m27/27\u001b[0m \u001b[32m━━━━━━━━━━━━━━━━━━━━\u001b[0m\u001b[37m\u001b[0m \u001b[1m6s\u001b[0m 217ms/step - accuracy: 0.7011 - loss: 0.7262 - val_accuracy: 0.3843 - val_loss: 1.4196\n",
            "Epoch 28/50\n",
            "\u001b[1m27/27\u001b[0m \u001b[32m━━━━━━━━━━━━━━━━━━━━\u001b[0m\u001b[37m\u001b[0m \u001b[1m13s\u001b[0m 308ms/step - accuracy: 0.7069 - loss: 0.7179 - val_accuracy: 0.3935 - val_loss: 1.4358\n",
            "Epoch 29/50\n",
            "\u001b[1m27/27\u001b[0m \u001b[32m━━━━━━━━━━━━━━━━━━━━\u001b[0m\u001b[37m\u001b[0m \u001b[1m7s\u001b[0m 230ms/step - accuracy: 0.7258 - loss: 0.7096 - val_accuracy: 0.3704 - val_loss: 1.4808\n",
            "Epoch 30/50\n",
            "\u001b[1m27/27\u001b[0m \u001b[32m━━━━━━━━━━━━━━━━━━━━\u001b[0m\u001b[37m\u001b[0m \u001b[1m10s\u001b[0m 247ms/step - accuracy: 0.7163 - loss: 0.6942 - val_accuracy: 0.3981 - val_loss: 1.4860\n",
            "Epoch 31/50\n",
            "\u001b[1m27/27\u001b[0m \u001b[32m━━━━━━━━━━━━━━━━━━━━\u001b[0m\u001b[37m\u001b[0m \u001b[1m9s\u001b[0m 205ms/step - accuracy: 0.7122 - loss: 0.6624 - val_accuracy: 0.3889 - val_loss: 1.5928\n",
            "Epoch 32/50\n",
            "\u001b[1m27/27\u001b[0m \u001b[32m━━━━━━━━━━━━━━━━━━━━\u001b[0m\u001b[37m\u001b[0m \u001b[1m10s\u001b[0m 202ms/step - accuracy: 0.7357 - loss: 0.6579 - val_accuracy: 0.3750 - val_loss: 1.5850\n",
            "Epoch 33/50\n",
            "\u001b[1m27/27\u001b[0m \u001b[32m━━━━━━━━━━━━━━━━━━━━\u001b[0m\u001b[37m\u001b[0m \u001b[1m7s\u001b[0m 244ms/step - accuracy: 0.7216 - loss: 0.6861 - val_accuracy: 0.3380 - val_loss: 1.6295\n",
            "Epoch 34/50\n",
            "\u001b[1m27/27\u001b[0m \u001b[32m━━━━━━━━━━━━━━━━━━━━\u001b[0m\u001b[37m\u001b[0m \u001b[1m10s\u001b[0m 246ms/step - accuracy: 0.7406 - loss: 0.6139 - val_accuracy: 0.3935 - val_loss: 1.6278\n",
            "Epoch 35/50\n",
            "\u001b[1m27/27\u001b[0m \u001b[32m━━━━━━━━━━━━━━━━━━━━\u001b[0m\u001b[37m\u001b[0m \u001b[1m9s\u001b[0m 193ms/step - accuracy: 0.7813 - loss: 0.5550 - val_accuracy: 0.4074 - val_loss: 1.6339\n",
            "Epoch 36/50\n",
            "\u001b[1m27/27\u001b[0m \u001b[32m━━━━━━━━━━━━━━━━━━━━\u001b[0m\u001b[37m\u001b[0m \u001b[1m10s\u001b[0m 201ms/step - accuracy: 0.7527 - loss: 0.6073 - val_accuracy: 0.3750 - val_loss: 1.7795\n",
            "Epoch 37/50\n",
            "\u001b[1m27/27\u001b[0m \u001b[32m━━━━━━━━━━━━━━━━━━━━\u001b[0m\u001b[37m\u001b[0m \u001b[1m10s\u001b[0m 207ms/step - accuracy: 0.7635 - loss: 0.5696 - val_accuracy: 0.4028 - val_loss: 1.6633\n",
            "Epoch 38/50\n",
            "\u001b[1m27/27\u001b[0m \u001b[32m━━━━━━━━━━━━━━━━━━━━\u001b[0m\u001b[37m\u001b[0m \u001b[1m11s\u001b[0m 224ms/step - accuracy: 0.7508 - loss: 0.5730 - val_accuracy: 0.3472 - val_loss: 1.8524\n",
            "Epoch 39/50\n",
            "\u001b[1m27/27\u001b[0m \u001b[32m━━━━━━━━━━━━━━━━━━━━\u001b[0m\u001b[37m\u001b[0m \u001b[1m11s\u001b[0m 274ms/step - accuracy: 0.7777 - loss: 0.5403 - val_accuracy: 0.3889 - val_loss: 1.7604\n",
            "Epoch 40/50\n",
            "\u001b[1m27/27\u001b[0m \u001b[32m━━━━━━━━━━━━━━━━━━━━\u001b[0m\u001b[37m\u001b[0m \u001b[1m5s\u001b[0m 195ms/step - accuracy: 0.7629 - loss: 0.5284 - val_accuracy: 0.3519 - val_loss: 1.8171\n",
            "Epoch 41/50\n",
            "\u001b[1m27/27\u001b[0m \u001b[32m━━━━━━━━━━━━━━━━━━━━\u001b[0m\u001b[37m\u001b[0m \u001b[1m10s\u001b[0m 202ms/step - accuracy: 0.7601 - loss: 0.5677 - val_accuracy: 0.3935 - val_loss: 1.8060\n",
            "Epoch 42/50\n",
            "\u001b[1m27/27\u001b[0m \u001b[32m━━━━━━━━━━━━━━━━━━━━\u001b[0m\u001b[37m\u001b[0m \u001b[1m14s\u001b[0m 331ms/step - accuracy: 0.7940 - loss: 0.5185 - val_accuracy: 0.3657 - val_loss: 1.8407\n",
            "Epoch 43/50\n",
            "\u001b[1m27/27\u001b[0m \u001b[32m━━━━━━━━━━━━━━━━━━━━\u001b[0m\u001b[37m\u001b[0m \u001b[1m8s\u001b[0m 253ms/step - accuracy: 0.7976 - loss: 0.5033 - val_accuracy: 0.3704 - val_loss: 1.8090\n",
            "Epoch 44/50\n",
            "\u001b[1m27/27\u001b[0m \u001b[32m━━━━━━━━━━━━━━━━━━━━\u001b[0m\u001b[37m\u001b[0m \u001b[1m9s\u001b[0m 223ms/step - accuracy: 0.7994 - loss: 0.4666 - val_accuracy: 0.3704 - val_loss: 2.0404\n",
            "Epoch 45/50\n",
            "\u001b[1m27/27\u001b[0m \u001b[32m━━━━━━━━━━━━━━━━━━━━\u001b[0m\u001b[37m\u001b[0m \u001b[1m9s\u001b[0m 194ms/step - accuracy: 0.7652 - loss: 0.5186 - val_accuracy: 0.3843 - val_loss: 1.9762\n",
            "Epoch 46/50\n",
            "\u001b[1m27/27\u001b[0m \u001b[32m━━━━━━━━━━━━━━━━━━━━\u001b[0m\u001b[37m\u001b[0m \u001b[1m10s\u001b[0m 197ms/step - accuracy: 0.8207 - loss: 0.4598 - val_accuracy: 0.3750 - val_loss: 2.0790\n",
            "Epoch 47/50\n",
            "\u001b[1m27/27\u001b[0m \u001b[32m━━━━━━━━━━━━━━━━━━━━\u001b[0m\u001b[37m\u001b[0m \u001b[1m10s\u001b[0m 195ms/step - accuracy: 0.7536 - loss: 0.6158 - val_accuracy: 0.3750 - val_loss: 2.0087\n",
            "Epoch 48/50\n",
            "\u001b[1m27/27\u001b[0m \u001b[32m━━━━━━━━━━━━━━━━━━━━\u001b[0m\u001b[37m\u001b[0m \u001b[1m11s\u001b[0m 225ms/step - accuracy: 0.8383 - loss: 0.4063 - val_accuracy: 0.3796 - val_loss: 2.0023\n",
            "Epoch 49/50\n",
            "\u001b[1m27/27\u001b[0m \u001b[32m━━━━━━━━━━━━━━━━━━━━\u001b[0m\u001b[37m\u001b[0m \u001b[1m11s\u001b[0m 245ms/step - accuracy: 0.8226 - loss: 0.4256 - val_accuracy: 0.4120 - val_loss: 1.9740\n",
            "Epoch 50/50\n",
            "\u001b[1m27/27\u001b[0m \u001b[32m━━━━━━━━━━━━━━━━━━━━\u001b[0m\u001b[37m\u001b[0m \u001b[1m5s\u001b[0m 195ms/step - accuracy: 0.8452 - loss: 0.3976 - val_accuracy: 0.3750 - val_loss: 2.1498\n",
            "\u001b[1m34/34\u001b[0m \u001b[32m━━━━━━━━━━━━━━━━━━━━\u001b[0m\u001b[37m\u001b[0m \u001b[1m3s\u001b[0m 80ms/step - accuracy: 0.8812 - loss: 0.3628\n",
            "Test Accuracy: 0.7648147940635681\n"
          ]
        }
      ]
    },
    {
      "cell_type": "code",
      "source": [
        "model.summary()"
      ],
      "metadata": {
        "colab": {
          "base_uri": "https://localhost:8080/",
          "height": 241
        },
        "id": "lmBhw09JWhKg",
        "outputId": "f16aed44-debb-4b42-da7b-b137f35f5c49"
      },
      "execution_count": 23,
      "outputs": [
        {
          "output_type": "display_data",
          "data": {
            "text/plain": [
              "\u001b[1mModel: \"sequential_2\"\u001b[0m\n"
            ],
            "text/html": [
              "<pre style=\"white-space:pre;overflow-x:auto;line-height:normal;font-family:Menlo,'DejaVu Sans Mono',consolas,'Courier New',monospace\"><span style=\"font-weight: bold\">Model: \"sequential_2\"</span>\n",
              "</pre>\n"
            ]
          },
          "metadata": {}
        },
        {
          "output_type": "display_data",
          "data": {
            "text/plain": [
              "┏━━━━━━━━━━━━━━━━━━━━━━━━━━━━━━━━━━━━━━┳━━━━━━━━━━━━━━━━━━━━━━━━━━━━━┳━━━━━━━━━━━━━━━━━┓\n",
              "┃\u001b[1m \u001b[0m\u001b[1mLayer (type)                        \u001b[0m\u001b[1m \u001b[0m┃\u001b[1m \u001b[0m\u001b[1mOutput Shape               \u001b[0m\u001b[1m \u001b[0m┃\u001b[1m \u001b[0m\u001b[1m        Param #\u001b[0m\u001b[1m \u001b[0m┃\n",
              "┡━━━━━━━━━━━━━━━━━━━━━━━━━━━━━━━━━━━━━━╇━━━━━━━━━━━━━━━━━━━━━━━━━━━━━╇━━━━━━━━━━━━━━━━━┩\n",
              "│ lstm (\u001b[38;5;33mLSTM\u001b[0m)                          │ (\u001b[38;5;34m32\u001b[0m, \u001b[38;5;34m100\u001b[0m)                   │         \u001b[38;5;34m616,400\u001b[0m │\n",
              "├──────────────────────────────────────┼─────────────────────────────┼─────────────────┤\n",
              "│ dense_5 (\u001b[38;5;33mDense\u001b[0m)                      │ (\u001b[38;5;34m32\u001b[0m, \u001b[38;5;34m128\u001b[0m)                   │          \u001b[38;5;34m12,928\u001b[0m │\n",
              "├──────────────────────────────────────┼─────────────────────────────┼─────────────────┤\n",
              "│ dense_6 (\u001b[38;5;33mDense\u001b[0m)                      │ (\u001b[38;5;34m32\u001b[0m, \u001b[38;5;34m10\u001b[0m)                    │           \u001b[38;5;34m1,290\u001b[0m │\n",
              "└──────────────────────────────────────┴─────────────────────────────┴─────────────────┘\n"
            ],
            "text/html": [
              "<pre style=\"white-space:pre;overflow-x:auto;line-height:normal;font-family:Menlo,'DejaVu Sans Mono',consolas,'Courier New',monospace\">┏━━━━━━━━━━━━━━━━━━━━━━━━━━━━━━━━━━━━━━┳━━━━━━━━━━━━━━━━━━━━━━━━━━━━━┳━━━━━━━━━━━━━━━━━┓\n",
              "┃<span style=\"font-weight: bold\"> Layer (type)                         </span>┃<span style=\"font-weight: bold\"> Output Shape                </span>┃<span style=\"font-weight: bold\">         Param # </span>┃\n",
              "┡━━━━━━━━━━━━━━━━━━━━━━━━━━━━━━━━━━━━━━╇━━━━━━━━━━━━━━━━━━━━━━━━━━━━━╇━━━━━━━━━━━━━━━━━┩\n",
              "│ lstm (<span style=\"color: #0087ff; text-decoration-color: #0087ff\">LSTM</span>)                          │ (<span style=\"color: #00af00; text-decoration-color: #00af00\">32</span>, <span style=\"color: #00af00; text-decoration-color: #00af00\">100</span>)                   │         <span style=\"color: #00af00; text-decoration-color: #00af00\">616,400</span> │\n",
              "├──────────────────────────────────────┼─────────────────────────────┼─────────────────┤\n",
              "│ dense_5 (<span style=\"color: #0087ff; text-decoration-color: #0087ff\">Dense</span>)                      │ (<span style=\"color: #00af00; text-decoration-color: #00af00\">32</span>, <span style=\"color: #00af00; text-decoration-color: #00af00\">128</span>)                   │          <span style=\"color: #00af00; text-decoration-color: #00af00\">12,928</span> │\n",
              "├──────────────────────────────────────┼─────────────────────────────┼─────────────────┤\n",
              "│ dense_6 (<span style=\"color: #0087ff; text-decoration-color: #0087ff\">Dense</span>)                      │ (<span style=\"color: #00af00; text-decoration-color: #00af00\">32</span>, <span style=\"color: #00af00; text-decoration-color: #00af00\">10</span>)                    │           <span style=\"color: #00af00; text-decoration-color: #00af00\">1,290</span> │\n",
              "└──────────────────────────────────────┴─────────────────────────────┴─────────────────┘\n",
              "</pre>\n"
            ]
          },
          "metadata": {}
        },
        {
          "output_type": "display_data",
          "data": {
            "text/plain": [
              "\u001b[1m Total params: \u001b[0m\u001b[38;5;34m1,891,856\u001b[0m (7.22 MB)\n"
            ],
            "text/html": [
              "<pre style=\"white-space:pre;overflow-x:auto;line-height:normal;font-family:Menlo,'DejaVu Sans Mono',consolas,'Courier New',monospace\"><span style=\"font-weight: bold\"> Total params: </span><span style=\"color: #00af00; text-decoration-color: #00af00\">1,891,856</span> (7.22 MB)\n",
              "</pre>\n"
            ]
          },
          "metadata": {}
        },
        {
          "output_type": "display_data",
          "data": {
            "text/plain": [
              "\u001b[1m Trainable params: \u001b[0m\u001b[38;5;34m630,618\u001b[0m (2.41 MB)\n"
            ],
            "text/html": [
              "<pre style=\"white-space:pre;overflow-x:auto;line-height:normal;font-family:Menlo,'DejaVu Sans Mono',consolas,'Courier New',monospace\"><span style=\"font-weight: bold\"> Trainable params: </span><span style=\"color: #00af00; text-decoration-color: #00af00\">630,618</span> (2.41 MB)\n",
              "</pre>\n"
            ]
          },
          "metadata": {}
        },
        {
          "output_type": "display_data",
          "data": {
            "text/plain": [
              "\u001b[1m Non-trainable params: \u001b[0m\u001b[38;5;34m0\u001b[0m (0.00 B)\n"
            ],
            "text/html": [
              "<pre style=\"white-space:pre;overflow-x:auto;line-height:normal;font-family:Menlo,'DejaVu Sans Mono',consolas,'Courier New',monospace\"><span style=\"font-weight: bold\"> Non-trainable params: </span><span style=\"color: #00af00; text-decoration-color: #00af00\">0</span> (0.00 B)\n",
              "</pre>\n"
            ]
          },
          "metadata": {}
        },
        {
          "output_type": "display_data",
          "data": {
            "text/plain": [
              "\u001b[1m Optimizer params: \u001b[0m\u001b[38;5;34m1,261,238\u001b[0m (4.81 MB)\n"
            ],
            "text/html": [
              "<pre style=\"white-space:pre;overflow-x:auto;line-height:normal;font-family:Menlo,'DejaVu Sans Mono',consolas,'Courier New',monospace\"><span style=\"font-weight: bold\"> Optimizer params: </span><span style=\"color: #00af00; text-decoration-color: #00af00\">1,261,238</span> (4.81 MB)\n",
              "</pre>\n"
            ]
          },
          "metadata": {}
        }
      ]
    },
    {
      "cell_type": "code",
      "source": [
        "X = _X.transpose(0, 5, 2,3, 4, 1)[:,:,:,:,:,1]\n",
        "X = X.reshape(X.shape[0], X.shape[1], X.shape[2], X.shape[3], np.prod(X.shape[4:]))\n",
        "print(X.shape)\n",
        "X_train, X_test, y_train, y_test = train_test_split(X, y, test_size=0.2, random_state=42)"
      ],
      "metadata": {
        "colab": {
          "base_uri": "https://localhost:8080/"
        },
        "id": "aiglJN5qKeTY",
        "outputId": "5fda30ac-8b97-4bcf-cc71-e62c4834a2a1"
      },
      "execution_count": 24,
      "outputs": [
        {
          "output_type": "stream",
          "name": "stdout",
          "text": [
            "(1080, 64, 8, 9, 5)\n"
          ]
        }
      ]
    },
    {
      "cell_type": "code",
      "source": [
        "X = _X.transpose(0, 5, 2,3, 4, 1)[:,:,:,:,:,:]\n",
        "X = X.reshape(X.shape[0], X.shape[1], X.shape[2], X.shape[3], np.prod(X.shape[4:]))\n",
        "print(X.shape)\n",
        "X_train, X_test, y_train, y_test = train_test_split(X, y, test_size=0.2, random_state=42)\n",
        "model = convlstm2d()\n",
        "model.compile(optimizer='adam',loss=tf.keras.losses.SparseCategoricalCrossentropy(from_logits=True),metrics=['accuracy'])\n",
        "model.fit(X, y, epochs=50, batch_size=32, validation_split=0.2)\n",
        "loss, acc = model.evaluate(X, y)\n",
        "print(f\"Test Accuracy: {acc}\")"
      ],
      "metadata": {
        "colab": {
          "base_uri": "https://localhost:8080/"
        },
        "id": "KiII3y7RkNTr",
        "outputId": "975fb898-30ad-4efa-b870-d429241e5c2d"
      },
      "execution_count": 28,
      "outputs": [
        {
          "output_type": "stream",
          "name": "stdout",
          "text": [
            "(1080, 64, 8, 9, 20)\n"
          ]
        },
        {
          "output_type": "stream",
          "name": "stderr",
          "text": [
            "/usr/local/lib/python3.11/dist-packages/keras/src/layers/rnn/rnn.py:200: UserWarning: Do not pass an `input_shape`/`input_dim` argument to a layer. When using Sequential models, prefer using an `Input(shape)` object as the first layer in the model instead.\n",
            "  super().__init__(**kwargs)\n"
          ]
        },
        {
          "output_type": "stream",
          "name": "stdout",
          "text": [
            "Epoch 1/50\n",
            "\u001b[1m27/27\u001b[0m \u001b[32m━━━━━━━━━━━━━━━━━━━━\u001b[0m\u001b[37m\u001b[0m \u001b[1m95s\u001b[0m 3s/step - accuracy: 0.2915 - loss: 1.7741 - val_accuracy: 0.3889 - val_loss: 1.3940\n",
            "Epoch 2/50\n",
            "\u001b[1m27/27\u001b[0m \u001b[32m━━━━━━━━━━━━━━━━━━━━\u001b[0m\u001b[37m\u001b[0m \u001b[1m126s\u001b[0m 3s/step - accuracy: 0.4593 - loss: 1.2693 - val_accuracy: 0.3611 - val_loss: 1.3842\n",
            "Epoch 3/50\n",
            "\u001b[1m27/27\u001b[0m \u001b[32m━━━━━━━━━━━━━━━━━━━━\u001b[0m\u001b[37m\u001b[0m \u001b[1m80s\u001b[0m 3s/step - accuracy: 0.4538 - loss: 1.2205 - val_accuracy: 0.3704 - val_loss: 1.3251\n",
            "Epoch 4/50\n",
            "\u001b[1m27/27\u001b[0m \u001b[32m━━━━━━━━━━━━━━━━━━━━\u001b[0m\u001b[37m\u001b[0m \u001b[1m73s\u001b[0m 3s/step - accuracy: 0.4646 - loss: 1.1649 - val_accuracy: 0.3009 - val_loss: 1.3571\n",
            "Epoch 5/50\n",
            "\u001b[1m27/27\u001b[0m \u001b[32m━━━━━━━━━━━━━━━━━━━━\u001b[0m\u001b[37m\u001b[0m \u001b[1m86s\u001b[0m 3s/step - accuracy: 0.4590 - loss: 1.1512 - val_accuracy: 0.3657 - val_loss: 1.3714\n",
            "Epoch 6/50\n",
            "\u001b[1m27/27\u001b[0m \u001b[32m━━━━━━━━━━━━━━━━━━━━\u001b[0m\u001b[37m\u001b[0m \u001b[1m86s\u001b[0m 3s/step - accuracy: 0.5002 - loss: 1.0417 - val_accuracy: 0.3380 - val_loss: 1.4977\n",
            "Epoch 7/50\n",
            "\u001b[1m27/27\u001b[0m \u001b[32m━━━━━━━━━━━━━━━━━━━━\u001b[0m\u001b[37m\u001b[0m \u001b[1m133s\u001b[0m 3s/step - accuracy: 0.5563 - loss: 1.0009 - val_accuracy: 0.3657 - val_loss: 1.2490\n",
            "Epoch 8/50\n",
            "\u001b[1m27/27\u001b[0m \u001b[32m━━━━━━━━━━━━━━━━━━━━\u001b[0m\u001b[37m\u001b[0m \u001b[1m81s\u001b[0m 3s/step - accuracy: 0.5025 - loss: 1.0421 - val_accuracy: 0.3750 - val_loss: 1.2488\n",
            "Epoch 9/50\n",
            "\u001b[1m27/27\u001b[0m \u001b[32m━━━━━━━━━━━━━━━━━━━━\u001b[0m\u001b[37m\u001b[0m \u001b[1m70s\u001b[0m 3s/step - accuracy: 0.5883 - loss: 0.9146 - val_accuracy: 0.3889 - val_loss: 1.3205\n",
            "Epoch 10/50\n",
            "\u001b[1m27/27\u001b[0m \u001b[32m━━━━━━━━━━━━━━━━━━━━\u001b[0m\u001b[37m\u001b[0m \u001b[1m82s\u001b[0m 3s/step - accuracy: 0.5673 - loss: 0.9708 - val_accuracy: 0.3796 - val_loss: 1.2621\n",
            "Epoch 11/50\n",
            "\u001b[1m27/27\u001b[0m \u001b[32m━━━━━━━━━━━━━━━━━━━━\u001b[0m\u001b[37m\u001b[0m \u001b[1m73s\u001b[0m 3s/step - accuracy: 0.5885 - loss: 0.9271 - val_accuracy: 0.4954 - val_loss: 1.1344\n",
            "Epoch 12/50\n",
            "\u001b[1m27/27\u001b[0m \u001b[32m━━━━━━━━━━━━━━━━━━━━\u001b[0m\u001b[37m\u001b[0m \u001b[1m79s\u001b[0m 3s/step - accuracy: 0.5423 - loss: 0.9002 - val_accuracy: 0.4630 - val_loss: 1.1369\n",
            "Epoch 13/50\n",
            "\u001b[1m27/27\u001b[0m \u001b[32m━━━━━━━━━━━━━━━━━━━━\u001b[0m\u001b[37m\u001b[0m \u001b[1m80s\u001b[0m 3s/step - accuracy: 0.5821 - loss: 0.8734 - val_accuracy: 0.4861 - val_loss: 1.2897\n",
            "Epoch 14/50\n",
            "\u001b[1m27/27\u001b[0m \u001b[32m━━━━━━━━━━━━━━━━━━━━\u001b[0m\u001b[37m\u001b[0m \u001b[1m86s\u001b[0m 3s/step - accuracy: 0.5878 - loss: 0.8725 - val_accuracy: 0.4213 - val_loss: 1.2066\n",
            "Epoch 15/50\n",
            "\u001b[1m27/27\u001b[0m \u001b[32m━━━━━━━━━━━━━━━━━━━━\u001b[0m\u001b[37m\u001b[0m \u001b[1m77s\u001b[0m 3s/step - accuracy: 0.6664 - loss: 0.8372 - val_accuracy: 0.4815 - val_loss: 1.0934\n",
            "Epoch 16/50\n",
            "\u001b[1m27/27\u001b[0m \u001b[32m━━━━━━━━━━━━━━━━━━━━\u001b[0m\u001b[37m\u001b[0m \u001b[1m83s\u001b[0m 3s/step - accuracy: 0.5814 - loss: 0.8714 - val_accuracy: 0.4722 - val_loss: 1.2794\n",
            "Epoch 17/50\n",
            "\u001b[1m27/27\u001b[0m \u001b[32m━━━━━━━━━━━━━━━━━━━━\u001b[0m\u001b[37m\u001b[0m \u001b[1m68s\u001b[0m 3s/step - accuracy: 0.6278 - loss: 0.8528 - val_accuracy: 0.4306 - val_loss: 1.2568\n",
            "Epoch 18/50\n",
            "\u001b[1m27/27\u001b[0m \u001b[32m━━━━━━━━━━━━━━━━━━━━\u001b[0m\u001b[37m\u001b[0m \u001b[1m71s\u001b[0m 3s/step - accuracy: 0.6502 - loss: 0.8011 - val_accuracy: 0.4722 - val_loss: 1.1871\n",
            "Epoch 19/50\n",
            "\u001b[1m27/27\u001b[0m \u001b[32m━━━━━━━━━━━━━━━━━━━━\u001b[0m\u001b[37m\u001b[0m \u001b[1m78s\u001b[0m 3s/step - accuracy: 0.6623 - loss: 0.7747 - val_accuracy: 0.4583 - val_loss: 1.2996\n",
            "Epoch 20/50\n",
            "\u001b[1m27/27\u001b[0m \u001b[32m━━━━━━━━━━━━━━━━━━━━\u001b[0m\u001b[37m\u001b[0m \u001b[1m82s\u001b[0m 3s/step - accuracy: 0.6538 - loss: 0.7708 - val_accuracy: 0.4907 - val_loss: 1.1400\n",
            "Epoch 21/50\n",
            "\u001b[1m27/27\u001b[0m \u001b[32m━━━━━━━━━━━━━━━━━━━━\u001b[0m\u001b[37m\u001b[0m \u001b[1m86s\u001b[0m 3s/step - accuracy: 0.6234 - loss: 0.8279 - val_accuracy: 0.4028 - val_loss: 1.3626\n",
            "Epoch 22/50\n",
            "\u001b[1m27/27\u001b[0m \u001b[32m━━━━━━━━━━━━━━━━━━━━\u001b[0m\u001b[37m\u001b[0m \u001b[1m79s\u001b[0m 3s/step - accuracy: 0.6325 - loss: 0.8236 - val_accuracy: 0.4769 - val_loss: 1.2013\n",
            "Epoch 23/50\n",
            "\u001b[1m27/27\u001b[0m \u001b[32m━━━━━━━━━━━━━━━━━━━━\u001b[0m\u001b[37m\u001b[0m \u001b[1m81s\u001b[0m 3s/step - accuracy: 0.6259 - loss: 0.8428 - val_accuracy: 0.4213 - val_loss: 1.2310\n",
            "Epoch 24/50\n",
            "\u001b[1m27/27\u001b[0m \u001b[32m━━━━━━━━━━━━━━━━━━━━\u001b[0m\u001b[37m\u001b[0m \u001b[1m82s\u001b[0m 3s/step - accuracy: 0.6434 - loss: 0.7803 - val_accuracy: 0.4398 - val_loss: 1.1637\n",
            "Epoch 25/50\n",
            "\u001b[1m27/27\u001b[0m \u001b[32m━━━━━━━━━━━━━━━━━━━━\u001b[0m\u001b[37m\u001b[0m \u001b[1m67s\u001b[0m 2s/step - accuracy: 0.6540 - loss: 0.7849 - val_accuracy: 0.4861 - val_loss: 1.1121\n",
            "Epoch 26/50\n",
            "\u001b[1m27/27\u001b[0m \u001b[32m━━━━━━━━━━━━━━━━━━━━\u001b[0m\u001b[37m\u001b[0m \u001b[1m83s\u001b[0m 3s/step - accuracy: 0.6660 - loss: 0.7727 - val_accuracy: 0.4306 - val_loss: 1.2233\n",
            "Epoch 27/50\n",
            "\u001b[1m27/27\u001b[0m \u001b[32m━━━━━━━━━━━━━━━━━━━━\u001b[0m\u001b[37m\u001b[0m \u001b[1m77s\u001b[0m 3s/step - accuracy: 0.6851 - loss: 0.7570 - val_accuracy: 0.5139 - val_loss: 1.1448\n",
            "Epoch 28/50\n",
            "\u001b[1m27/27\u001b[0m \u001b[32m━━━━━━━━━━━━━━━━━━━━\u001b[0m\u001b[37m\u001b[0m \u001b[1m82s\u001b[0m 3s/step - accuracy: 0.6776 - loss: 0.7470 - val_accuracy: 0.3843 - val_loss: 1.2621\n",
            "Epoch 29/50\n",
            "\u001b[1m27/27\u001b[0m \u001b[32m━━━━━━━━━━━━━━━━━━━━\u001b[0m\u001b[37m\u001b[0m \u001b[1m71s\u001b[0m 3s/step - accuracy: 0.7040 - loss: 0.6616 - val_accuracy: 0.4444 - val_loss: 1.1032\n",
            "Epoch 30/50\n",
            "\u001b[1m27/27\u001b[0m \u001b[32m━━━━━━━━━━━━━━━━━━━━\u001b[0m\u001b[37m\u001b[0m \u001b[1m87s\u001b[0m 3s/step - accuracy: 0.6668 - loss: 0.7352 - val_accuracy: 0.4259 - val_loss: 1.1252\n",
            "Epoch 31/50\n",
            "\u001b[1m27/27\u001b[0m \u001b[32m━━━━━━━━━━━━━━━━━━━━\u001b[0m\u001b[37m\u001b[0m \u001b[1m76s\u001b[0m 3s/step - accuracy: 0.6975 - loss: 0.6563 - val_accuracy: 0.4259 - val_loss: 1.0965\n",
            "Epoch 32/50\n",
            "\u001b[1m27/27\u001b[0m \u001b[32m━━━━━━━━━━━━━━━━━━━━\u001b[0m\u001b[37m\u001b[0m \u001b[1m78s\u001b[0m 3s/step - accuracy: 0.7124 - loss: 0.6645 - val_accuracy: 0.4028 - val_loss: 1.2238\n",
            "Epoch 33/50\n",
            "\u001b[1m27/27\u001b[0m \u001b[32m━━━━━━━━━━━━━━━━━━━━\u001b[0m\u001b[37m\u001b[0m \u001b[1m82s\u001b[0m 2s/step - accuracy: 0.6987 - loss: 0.6816 - val_accuracy: 0.4120 - val_loss: 1.2001\n",
            "Epoch 34/50\n",
            "\u001b[1m27/27\u001b[0m \u001b[32m━━━━━━━━━━━━━━━━━━━━\u001b[0m\u001b[37m\u001b[0m \u001b[1m68s\u001b[0m 2s/step - accuracy: 0.7318 - loss: 0.6037 - val_accuracy: 0.5093 - val_loss: 1.1316\n",
            "Epoch 35/50\n",
            "\u001b[1m27/27\u001b[0m \u001b[32m━━━━━━━━━━━━━━━━━━━━\u001b[0m\u001b[37m\u001b[0m \u001b[1m86s\u001b[0m 3s/step - accuracy: 0.6796 - loss: 0.7014 - val_accuracy: 0.4444 - val_loss: 1.1747\n",
            "Epoch 36/50\n",
            "\u001b[1m27/27\u001b[0m \u001b[32m━━━━━━━━━━━━━━━━━━━━\u001b[0m\u001b[37m\u001b[0m \u001b[1m79s\u001b[0m 3s/step - accuracy: 0.7014 - loss: 0.7116 - val_accuracy: 0.4306 - val_loss: 1.2097\n",
            "Epoch 37/50\n",
            "\u001b[1m27/27\u001b[0m \u001b[32m━━━━━━━━━━━━━━━━━━━━\u001b[0m\u001b[37m\u001b[0m \u001b[1m81s\u001b[0m 2s/step - accuracy: 0.6810 - loss: 0.6330 - val_accuracy: 0.3889 - val_loss: 1.2968\n",
            "Epoch 38/50\n",
            "\u001b[1m27/27\u001b[0m \u001b[32m━━━━━━━━━━━━━━━━━━━━\u001b[0m\u001b[37m\u001b[0m \u001b[1m72s\u001b[0m 3s/step - accuracy: 0.6598 - loss: 0.7096 - val_accuracy: 0.4352 - val_loss: 1.3196\n",
            "Epoch 39/50\n",
            "\u001b[1m27/27\u001b[0m \u001b[32m━━━━━━━━━━━━━━━━━━━━\u001b[0m\u001b[37m\u001b[0m \u001b[1m79s\u001b[0m 3s/step - accuracy: 0.7486 - loss: 0.5766 - val_accuracy: 0.3611 - val_loss: 1.3573\n",
            "Epoch 40/50\n",
            "\u001b[1m27/27\u001b[0m \u001b[32m━━━━━━━━━━━━━━━━━━━━\u001b[0m\u001b[37m\u001b[0m \u001b[1m69s\u001b[0m 3s/step - accuracy: 0.7864 - loss: 0.5687 - val_accuracy: 0.4074 - val_loss: 1.2312\n",
            "Epoch 41/50\n",
            "\u001b[1m27/27\u001b[0m \u001b[32m━━━━━━━━━━━━━━━━━━━━\u001b[0m\u001b[37m\u001b[0m \u001b[1m81s\u001b[0m 3s/step - accuracy: 0.7799 - loss: 0.5333 - val_accuracy: 0.4028 - val_loss: 1.3174\n",
            "Epoch 42/50\n",
            "\u001b[1m27/27\u001b[0m \u001b[32m━━━━━━━━━━━━━━━━━━━━\u001b[0m\u001b[37m\u001b[0m \u001b[1m88s\u001b[0m 3s/step - accuracy: 0.6917 - loss: 0.6804 - val_accuracy: 0.4861 - val_loss: 1.2564\n",
            "Epoch 43/50\n",
            "\u001b[1m27/27\u001b[0m \u001b[32m━━━━━━━━━━━━━━━━━━━━\u001b[0m\u001b[37m\u001b[0m \u001b[1m69s\u001b[0m 3s/step - accuracy: 0.6946 - loss: 0.6534 - val_accuracy: 0.5185 - val_loss: 1.1190\n",
            "Epoch 44/50\n",
            "\u001b[1m27/27\u001b[0m \u001b[32m━━━━━━━━━━━━━━━━━━━━\u001b[0m\u001b[37m\u001b[0m \u001b[1m84s\u001b[0m 3s/step - accuracy: 0.7612 - loss: 0.5975 - val_accuracy: 0.4630 - val_loss: 1.1448\n",
            "Epoch 45/50\n",
            "\u001b[1m27/27\u001b[0m \u001b[32m━━━━━━━━━━━━━━━━━━━━\u001b[0m\u001b[37m\u001b[0m \u001b[1m78s\u001b[0m 2s/step - accuracy: 0.8002 - loss: 0.5197 - val_accuracy: 0.5324 - val_loss: 1.1221\n",
            "Epoch 46/50\n",
            "\u001b[1m27/27\u001b[0m \u001b[32m━━━━━━━━━━━━━━━━━━━━\u001b[0m\u001b[37m\u001b[0m \u001b[1m84s\u001b[0m 3s/step - accuracy: 0.7689 - loss: 0.5362 - val_accuracy: 0.4444 - val_loss: 1.5016\n",
            "Epoch 47/50\n",
            "\u001b[1m27/27\u001b[0m \u001b[32m━━━━━━━━━━━━━━━━━━━━\u001b[0m\u001b[37m\u001b[0m \u001b[1m84s\u001b[0m 3s/step - accuracy: 0.7612 - loss: 0.5217 - val_accuracy: 0.4213 - val_loss: 1.4379\n",
            "Epoch 48/50\n",
            "\u001b[1m27/27\u001b[0m \u001b[32m━━━━━━━━━━━━━━━━━━━━\u001b[0m\u001b[37m\u001b[0m \u001b[1m79s\u001b[0m 3s/step - accuracy: 0.7821 - loss: 0.5353 - val_accuracy: 0.5046 - val_loss: 1.1141\n",
            "Epoch 49/50\n",
            "\u001b[1m27/27\u001b[0m \u001b[32m━━━━━━━━━━━━━━━━━━━━\u001b[0m\u001b[37m\u001b[0m \u001b[1m82s\u001b[0m 3s/step - accuracy: 0.8094 - loss: 0.4263 - val_accuracy: 0.5417 - val_loss: 1.1032\n",
            "Epoch 50/50\n",
            "\u001b[1m27/27\u001b[0m \u001b[32m━━━━━━━━━━━━━━━━━━━━\u001b[0m\u001b[37m\u001b[0m \u001b[1m86s\u001b[0m 3s/step - accuracy: 0.8371 - loss: 0.4153 - val_accuracy: 0.4861 - val_loss: 1.2357\n",
            "\u001b[1m34/34\u001b[0m \u001b[32m━━━━━━━━━━━━━━━━━━━━\u001b[0m\u001b[37m\u001b[0m \u001b[1m27s\u001b[0m 768ms/step - accuracy: 0.8653 - loss: 0.3546\n",
            "Test Accuracy: 0.7879629731178284\n"
          ]
        }
      ]
    },
    {
      "cell_type": "code",
      "source": [
        "X = _X.transpose(0, 5, 1,2,3,4)\n",
        "print(X.shape)\n",
        "X = X.reshape(X.shape[0], X.shape[1], np.prod(X.shape[2:]))\n",
        "print(X.shape)\n",
        "X_train, X_test, y_train, y_test = train_test_split(X, y, test_size=0.2, random_state=42)\n",
        "model = dense()\n",
        "model.compile(optimizer='adam',loss=tf.keras.losses.SparseCategoricalCrossentropy(from_logits=True),metrics=['accuracy'])\n",
        "model.fit(X, y, epochs=20, batch_size=32, validation_split=0.2)\n",
        "loss, acc = model.evaluate(X, y)\n",
        "print(f\"Test Accuracy: {acc}\")"
      ],
      "metadata": {
        "colab": {
          "base_uri": "https://localhost:8080/"
        },
        "id": "ujPAx6dIm7KV",
        "outputId": "53416a47-2fc1-44b6-9ff2-b24e1caa9d7b"
      },
      "execution_count": 29,
      "outputs": [
        {
          "output_type": "stream",
          "name": "stdout",
          "text": [
            "(1080, 64, 4, 8, 9, 5)\n",
            "(1080, 64, 1440)\n"
          ]
        },
        {
          "output_type": "stream",
          "name": "stderr",
          "text": [
            "/usr/local/lib/python3.11/dist-packages/keras/src/layers/reshaping/flatten.py:37: UserWarning: Do not pass an `input_shape`/`input_dim` argument to a layer. When using Sequential models, prefer using an `Input(shape)` object as the first layer in the model instead.\n",
            "  super().__init__(**kwargs)\n"
          ]
        },
        {
          "output_type": "stream",
          "name": "stdout",
          "text": [
            "Epoch 1/20\n",
            "\u001b[1m27/27\u001b[0m \u001b[32m━━━━━━━━━━━━━━━━━━━━\u001b[0m\u001b[37m\u001b[0m \u001b[1m7s\u001b[0m 220ms/step - accuracy: 0.2852 - loss: 162023824.0000 - val_accuracy: 0.1852 - val_loss: 924094848.0000\n",
            "Epoch 2/20\n",
            "\u001b[1m27/27\u001b[0m \u001b[32m━━━━━━━━━━━━━━━━━━━━\u001b[0m\u001b[37m\u001b[0m \u001b[1m10s\u001b[0m 207ms/step - accuracy: 0.3136 - loss: 71489056.0000 - val_accuracy: 0.2731 - val_loss: 4284506.0000\n",
            "Epoch 3/20\n",
            "\u001b[1m27/27\u001b[0m \u001b[32m━━━━━━━━━━━━━━━━━━━━\u001b[0m\u001b[37m\u001b[0m \u001b[1m10s\u001b[0m 211ms/step - accuracy: 0.3086 - loss: 5199468.5000 - val_accuracy: 0.2454 - val_loss: 4938272.0000\n",
            "Epoch 4/20\n",
            "\u001b[1m27/27\u001b[0m \u001b[32m━━━━━━━━━━━━━━━━━━━━\u001b[0m\u001b[37m\u001b[0m \u001b[1m7s\u001b[0m 263ms/step - accuracy: 0.3193 - loss: 29661182.0000 - val_accuracy: 0.2454 - val_loss: 4679768.0000\n",
            "Epoch 5/20\n",
            "\u001b[1m27/27\u001b[0m \u001b[32m━━━━━━━━━━━━━━━━━━━━\u001b[0m\u001b[37m\u001b[0m \u001b[1m9s\u001b[0m 209ms/step - accuracy: 0.3089 - loss: 155872.0938 - val_accuracy: 0.2454 - val_loss: 4595071.5000\n",
            "Epoch 6/20\n",
            "\u001b[1m27/27\u001b[0m \u001b[32m━━━━━━━━━━━━━━━━━━━━\u001b[0m\u001b[37m\u001b[0m \u001b[1m11s\u001b[0m 223ms/step - accuracy: 0.3057 - loss: 599.4595 - val_accuracy: 0.2454 - val_loss: 4435610.0000\n",
            "Epoch 7/20\n",
            "\u001b[1m27/27\u001b[0m \u001b[32m━━━━━━━━━━━━━━━━━━━━\u001b[0m\u001b[37m\u001b[0m \u001b[1m7s\u001b[0m 257ms/step - accuracy: 0.2990 - loss: 156.7281 - val_accuracy: 0.2454 - val_loss: 4396330.0000\n",
            "Epoch 8/20\n",
            "\u001b[1m27/27\u001b[0m \u001b[32m━━━━━━━━━━━━━━━━━━━━\u001b[0m\u001b[37m\u001b[0m \u001b[1m9s\u001b[0m 208ms/step - accuracy: 0.3051 - loss: 1037.9672 - val_accuracy: 0.2454 - val_loss: 4430218.5000\n",
            "Epoch 9/20\n",
            "\u001b[1m27/27\u001b[0m \u001b[32m━━━━━━━━━━━━━━━━━━━━\u001b[0m\u001b[37m\u001b[0m \u001b[1m11s\u001b[0m 243ms/step - accuracy: 0.2977 - loss: 368.2388 - val_accuracy: 0.2454 - val_loss: 4383328.5000\n",
            "Epoch 10/20\n",
            "\u001b[1m27/27\u001b[0m \u001b[32m━━━━━━━━━━━━━━━━━━━━\u001b[0m\u001b[37m\u001b[0m \u001b[1m7s\u001b[0m 240ms/step - accuracy: 0.3338 - loss: 32.7742 - val_accuracy: 0.2500 - val_loss: 4360654.0000\n",
            "Epoch 11/20\n",
            "\u001b[1m27/27\u001b[0m \u001b[32m━━━━━━━━━━━━━━━━━━━━\u001b[0m\u001b[37m\u001b[0m \u001b[1m10s\u001b[0m 249ms/step - accuracy: 0.3273 - loss: 125.1510 - val_accuracy: 0.2083 - val_loss: 4354604.0000\n",
            "Epoch 12/20\n",
            "\u001b[1m27/27\u001b[0m \u001b[32m━━━━━━━━━━━━━━━━━━━━\u001b[0m\u001b[37m\u001b[0m \u001b[1m9s\u001b[0m 201ms/step - accuracy: 0.3093 - loss: 126.3487 - val_accuracy: 0.2083 - val_loss: 4351419.5000\n",
            "Epoch 13/20\n",
            "\u001b[1m27/27\u001b[0m \u001b[32m━━━━━━━━━━━━━━━━━━━━\u001b[0m\u001b[37m\u001b[0m \u001b[1m10s\u001b[0m 200ms/step - accuracy: 0.2930 - loss: 32.6370 - val_accuracy: 0.2083 - val_loss: 4348638.0000\n",
            "Epoch 14/20\n",
            "\u001b[1m27/27\u001b[0m \u001b[32m━━━━━━━━━━━━━━━━━━━━\u001b[0m\u001b[37m\u001b[0m \u001b[1m11s\u001b[0m 212ms/step - accuracy: 0.2871 - loss: 93.0775 - val_accuracy: 0.2083 - val_loss: 4344166.5000\n",
            "Epoch 15/20\n",
            "\u001b[1m27/27\u001b[0m \u001b[32m━━━━━━━━━━━━━━━━━━━━\u001b[0m\u001b[37m\u001b[0m \u001b[1m10s\u001b[0m 204ms/step - accuracy: 0.3048 - loss: 103.2389 - val_accuracy: 0.2083 - val_loss: 4340625.5000\n",
            "Epoch 16/20\n",
            "\u001b[1m27/27\u001b[0m \u001b[32m━━━━━━━━━━━━━━━━━━━━\u001b[0m\u001b[37m\u001b[0m \u001b[1m6s\u001b[0m 218ms/step - accuracy: 0.3040 - loss: 94.0912 - val_accuracy: 0.2083 - val_loss: 4337261.5000\n",
            "Epoch 17/20\n",
            "\u001b[1m27/27\u001b[0m \u001b[32m━━━━━━━━━━━━━━━━━━━━\u001b[0m\u001b[37m\u001b[0m \u001b[1m10s\u001b[0m 196ms/step - accuracy: 0.2706 - loss: 26.5663 - val_accuracy: 0.2083 - val_loss: 4334583.5000\n",
            "Epoch 18/20\n",
            "\u001b[1m27/27\u001b[0m \u001b[32m━━━━━━━━━━━━━━━━━━━━\u001b[0m\u001b[37m\u001b[0m \u001b[1m7s\u001b[0m 247ms/step - accuracy: 0.3092 - loss: 53.8715 - val_accuracy: 0.2083 - val_loss: 4330850.0000\n",
            "Epoch 19/20\n",
            "\u001b[1m27/27\u001b[0m \u001b[32m━━━━━━━━━━━━━━━━━━━━\u001b[0m\u001b[37m\u001b[0m \u001b[1m10s\u001b[0m 220ms/step - accuracy: 0.3303 - loss: 13.7393 - val_accuracy: 0.2083 - val_loss: 4328123.5000\n",
            "Epoch 20/20\n",
            "\u001b[1m27/27\u001b[0m \u001b[32m━━━━━━━━━━━━━━━━━━━━\u001b[0m\u001b[37m\u001b[0m \u001b[1m10s\u001b[0m 206ms/step - accuracy: 0.2815 - loss: 114.3806 - val_accuracy: 0.2083 - val_loss: 4325281.5000\n",
            "\u001b[1m34/34\u001b[0m \u001b[32m━━━━━━━━━━━━━━━━━━━━\u001b[0m\u001b[37m\u001b[0m \u001b[1m1s\u001b[0m 42ms/step - accuracy: 0.3131 - loss: 145687.3281\n",
            "Test Accuracy: 0.2888889014720917\n"
          ]
        }
      ]
    }
  ]
}